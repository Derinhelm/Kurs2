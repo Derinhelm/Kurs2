{
 "cells": [
  {
   "cell_type": "code",
   "execution_count": 84,
   "metadata": {},
   "outputs": [],
   "source": [
    "import pymorphy2\n",
    "morph = pymorphy2.MorphAnalyzer()"
   ]
  },
  {
   "cell_type": "code",
   "execution_count": null,
   "metadata": {},
   "outputs": [],
   "source": []
  },
  {
   "cell_type": "code",
   "execution_count": 85,
   "metadata": {},
   "outputs": [],
   "source": [
    "import copy"
   ]
  },
  {
   "cell_type": "code",
   "execution_count": 86,
   "metadata": {},
   "outputs": [],
   "source": [
    "from Types import *"
   ]
  },
  {
   "cell_type": "code",
   "execution_count": 87,
   "metadata": {},
   "outputs": [],
   "source": [
    "from Functions import *"
   ]
  },
  {
   "cell_type": "code",
   "execution_count": 88,
   "metadata": {},
   "outputs": [],
   "source": [
    "import postgresql"
   ]
  },
  {
   "cell_type": "code",
   "execution_count": 179,
   "metadata": {},
   "outputs": [],
   "source": [
    "db = postgresql.open('pq://derin:qwerty@localhost:5432/models')"
   ]
  },
  {
   "cell_type": "code",
   "execution_count": 90,
   "metadata": {},
   "outputs": [],
   "source": [
    "class GPattern:\n",
    "    def __init__(self, l, textWord = \"\", depWordConstr = None, p = \"\", m = 0.0):\n",
    "        self.level = l\n",
    "        self.dependentWord = textWord\n",
    "        if (depWordConstr == None):    \n",
    "            self.dependentWordConstraints = []\n",
    "        else:\n",
    "            self.dependentWordConstraints = copy.copy(depWordConstr)\n",
    "        self.mark = m\n",
    "        self.prep = p\n",
    "        self.info = \"\"# ????"
   ]
  },
  {
   "cell_type": "code",
   "execution_count": 91,
   "metadata": {},
   "outputs": [],
   "source": [
    "#Проблема, что такое dependentWordConstrains \n",
    "#Список из условий?\n",
    "#функционалов?\n",
    "#Условия только, которые важны(думаю да)\n",
    "#список из функций..... нет! вызов функции - долго\n",
    "#просто список из элементов разных объединений"
   ]
  },
  {
   "cell_type": "code",
   "execution_count": 92,
   "metadata": {},
   "outputs": [],
   "source": [
    "#GPattern содержит следующие поля:\n",
    "#Level - уровень ОМУ (1, 2 или 3).\n",
    "#DependentWord - зависимое слово (только для уровня 3).\n",
    "#DependentWordConstraints - требования к зависимому слову (синтаксические и прочие ограничения).\n",
    "#Mark - оценка модели управления\n",
    "#Info – дополнительная информация о модели управления (например, где она встречалась)."
   ]
  },
  {
   "cell_type": "code",
   "execution_count": null,
   "metadata": {},
   "outputs": [],
   "source": []
  },
  {
   "cell_type": "code",
   "execution_count": 93,
   "metadata": {},
   "outputs": [],
   "source": [
    "class GPatternList:\n",
    "    def __init__(self):\n",
    "        self.firstLevel = []\n",
    "        self.secondLevel = []\n",
    "        self.thirdLevel = []"
   ]
  },
  {
   "cell_type": "code",
   "execution_count": 94,
   "metadata": {},
   "outputs": [],
   "source": [
    "#GPatternList – список из GPattern, определяет список всех моделей управления данного слова или группы."
   ]
  },
  {
   "cell_type": "code",
   "execution_count": null,
   "metadata": {},
   "outputs": [],
   "source": []
  },
  {
   "cell_type": "code",
   "execution_count": 133,
   "metadata": {},
   "outputs": [],
   "source": [
    "def extractFirstLevel(word, curMorf):\n",
    "    s1 = \"SELECT number_morf FROM morf_characters_of_word WHERE \" + \\\n",
    "        \"s_cl = \\'\" + str(curMorf.s_cl).split('.')[1] + \"\\' AND \" + \\\n",
    "        \"animate = \\'\" + str(curMorf.animate).split('.')[1] + \"\\' AND \" + \\\n",
    "        \"gender = \\'\" + str(curMorf.gender).split('.')[1] + \"\\' AND \" + \\\n",
    "        \"number = \\'\" + str(curMorf.number).split('.')[1] + \"\\' AND \" + \\\n",
    "        \"case1 = \\'\" + str(curMorf.case1).split('.')[1] + \"\\' AND \" + \\\n",
    "        \"reflection = \\'\" + str(curMorf.reflection).split('.')[1] + \"\\' AND \" + \\\n",
    "        \"perfective = \\'\" + str(curMorf.perfective).split('.')[1] + \"\\' AND \" + \\\n",
    "        \"transitive = \\'\" + str(curMorf.transitive).split('.')[1] + \"\\' AND \" + \\\n",
    "        \"person = \\'\" + str(curMorf.person).split('.')[1] + \"\\' AND \" + \\\n",
    "        \"tense = \\'\" + str(curMorf.tense).split('.')[1] + \"\\' AND \" + \\\n",
    "        \"voice = \\'\" + str(curMorf.voice).split('.')[1] + \"\\' AND \" + \\\n",
    "        \"degree = \\'\" + str(curMorf.degree).split('.')[1] + \"\\' AND \" + \\\n",
    "        \"static = \\'\" + str(curMorf.static) + \"\\'\"\n",
    "    # s1 - получение номера морфа(один морф в идеале)\n",
    "    s2 = \"WITH morf AS (\" + s1 + \"), \" + \\\n",
    "        \"num_models AS (SELECT model_1_level.number_model FROM model_1_level, morf WHERE ref_to_main_morf = morf.number_morf), \" + \\\n",
    "        \"mod AS (SELECT model_1_level.* FROM model_1_level, num_models WHERE model_1_level.number_model = num_models.number_model), \" + \\\n",
    "        \"prop AS (SELECT number_model, morf_characters_of_word.* FROM mod, morf_characters_of_word WHERE mod.ref_to_dep_morf = morf_characters_of_word.number_morf), \" + \\\n",
    "        \"imp AS (SELECT number_model, important_features.* FROM mod, important_features WHERE mod.imp_feat_dep = important_features.number_imp_feat), \" + \\\n",
    "        \"pr AS (SELECT prep_text, number_model FROM prep, mod WHERE mod.prep = prep.number_prep) \" + \\\n",
    "        \"SELECT mod.mark, pr.prep_text, imp.*, prop.* FROM imp, prop, pr, mod WHERE imp.number_model = prop.number_model AND imp.number_model = mod.number_model AND pr.number_model = mod.number_model;\"\n",
    "    #print(s2)\n",
    "    res = db.query(s2)\n",
    "    firLev = []\n",
    "    shiftImpFeat = 4\n",
    "    shiftProp = 19\n",
    "    #print(res)\n",
    "    for curConstr in res:\n",
    "        curPatt = GPattern(1)\n",
    "        oneModelConstr = []\n",
    "        for j in range(0, 13): #13 - количество свойств в Morf\n",
    "            if (curConstr[shiftImpFeat + j] == True):\n",
    "                oneModelConstr.append(curConstr[shiftProp + j])\n",
    "        curPatt.dependentWordConstraints.append(oneModelConstr)\n",
    "        curPatt.mark = curConstr[0]\n",
    "        curPatt.prep = curConstr[1]\n",
    "        firLev.append(curPatt)\n",
    "    #print(firLev)\n",
    "    return firLev"
   ]
  },
  {
   "cell_type": "code",
   "execution_count": 134,
   "metadata": {},
   "outputs": [],
   "source": [
    "def extractSecondLevel(word, curMorf):\n",
    "    s0 = \"SELECT number_morf FROM morf_characters_of_word WHERE \" + \\\n",
    "        \"s_cl = \\'\" + str(curMorf.s_cl).split('.')[1] + \"\\' AND \" + \\\n",
    "        \"animate = \\'\" + str(curMorf.animate).split('.')[1] + \"\\' AND \" + \\\n",
    "        \"gender = \\'\" + str(curMorf.gender).split('.')[1] + \"\\' AND \" + \\\n",
    "        \"number = \\'\" + str(curMorf.number).split('.')[1] + \"\\' AND \" + \\\n",
    "        \"case1 = \\'\" + str(curMorf.case1).split('.')[1] + \"\\' AND \" + \\\n",
    "        \"reflection = \\'\" + str(curMorf.reflection).split('.')[1] + \"\\' AND \" + \\\n",
    "        \"perfective = \\'\" + str(curMorf.perfective).split('.')[1] + \"\\' AND \" + \\\n",
    "        \"transitive = \\'\" + str(curMorf.transitive).split('.')[1] + \"\\' AND \" + \\\n",
    "        \"person = \\'\" + str(curMorf.person).split('.')[1] + \"\\' AND \" + \\\n",
    "        \"tense = \\'\" + str(curMorf.tense).split('.')[1] + \"\\' AND \" + \\\n",
    "        \"voice = \\'\" + str(curMorf.voice).split('.')[1] + \"\\' AND \" + \\\n",
    "        \"degree = \\'\" + str(curMorf.degree).split('.')[1] + \"\\' AND \" + \\\n",
    "        \"static = \\'\" + str(curMorf.static) + \"\\'\"\n",
    "    #получение морфа\n",
    "    s1 = \"WITH number_morf AS (\" + s0 +\"), number_word AS (SELECT number_word FROM word, number_morf  WHERE word.word_text = \\'\" + word + \"\\' AND word.ref_to_morf = number_morf.number_morf),\" \n",
    "    # s1 - получение номера главного слова(одно слово в идеале)\n",
    "    s2 = s1 + \\\n",
    "    \"mod AS (SELECT * FROM model_2_level, number_word WHERE model_2_level.ref_to_main_word = number_word.number_word), prop AS (SELECT number_model, morf_characters_of_word.* FROM mod, morf_characters_of_word WHERE mod.ref_to_dep_morf = morf_characters_of_word.number_morf), imp AS (SELECT number_model, important_features.* FROM mod, important_features WHERE mod.imp_feat_dep = important_features.number_imp_feat), pr AS (SELECT prep_text, number_model FROM prep, mod WHERE mod.prep = prep.number_prep) SELECT mod.mark, pr.prep_text, imp.*, prop.* FROM imp, prop, pr, mod WHERE imp.number_model = prop.number_model AND imp.number_model = mod.number_model AND pr.number_model = mod.number_model;\"\n",
    "\n",
    "    #print(s2)\n",
    "    res = db.query(s2)\n",
    "    secLev = []\n",
    "    shiftImpFeat = 4\n",
    "    shiftProp = 19\n",
    "    #print(res)\n",
    "    for curConstr in res:\n",
    "        curPatt = GPattern(2)\n",
    "        oneModelConstr = []\n",
    "        for j in range(0, 13): #13 - количество свойств в Morf\n",
    "            if (curConstr[shiftImpFeat + j] == True):\n",
    "                oneModelConstr.append(curConstr[shiftProp + j])\n",
    "        curPatt.dependentWordConstraints.append(oneModelConstr)\n",
    "        curPatt.mark = curConstr[0]\n",
    "        curPatt.prep = curConstr[1]\n",
    "        secLev.append(curPatt)\n",
    "    #print(secLev)\n",
    "    return secLev"
   ]
  },
  {
   "cell_type": "code",
   "execution_count": 135,
   "metadata": {},
   "outputs": [],
   "source": [
    "def extractThirdLevel(word, curMorf):\n",
    "    s0 = \"SELECT number_morf FROM morf_characters_of_word WHERE \" + \\\n",
    "        \"s_cl = \\'\" + str(curMorf.s_cl).split('.')[1] + \"\\' AND \" + \\\n",
    "        \"animate = \\'\" + str(curMorf.animate).split('.')[1] + \"\\' AND \" + \\\n",
    "        \"gender = \\'\" + str(curMorf.gender).split('.')[1] + \"\\' AND \" + \\\n",
    "        \"number = \\'\" + str(curMorf.number).split('.')[1] + \"\\' AND \" + \\\n",
    "        \"case1 = \\'\" + str(curMorf.case1).split('.')[1] + \"\\' AND \" + \\\n",
    "        \"reflection = \\'\" + str(curMorf.reflection).split('.')[1] + \"\\' AND \" + \\\n",
    "        \"perfective = \\'\" + str(curMorf.perfective).split('.')[1] + \"\\' AND \" + \\\n",
    "        \"transitive = \\'\" + str(curMorf.transitive).split('.')[1] + \"\\' AND \" + \\\n",
    "        \"person = \\'\" + str(curMorf.person).split('.')[1] + \"\\' AND \" + \\\n",
    "        \"tense = \\'\" + str(curMorf.tense).split('.')[1] + \"\\' AND \" + \\\n",
    "        \"voice = \\'\" + str(curMorf.voice).split('.')[1] + \"\\' AND \" + \\\n",
    "        \"degree = \\'\" + str(curMorf.degree).split('.')[1] + \"\\' AND \" + \\\n",
    "        \"static = \\'\" + str(curMorf.static) + \"\\'\"\n",
    "    #получение морфа\n",
    "    s1 = \"WITH number_morf AS (\" + s0 +\"), number_word AS (SELECT number_word FROM word, number_morf  WHERE word.word_text = \\'\" + word + \"\\' AND word.ref_to_morf = number_morf.number_morf),\"     \n",
    "    # s1 - получение номера главного слова(одно слово в идеале)\n",
    "    s2 = s1 + \\\n",
    "    \"mod AS (SELECT * FROM model_3_level, number_word WHERE model_3_level.ref_to_main_word = number_word.number_word), w AS (SELECT number_model, word.* FROM mod, word WHERE mod.ref_to_dep_word = word.number_word), imp AS (SELECT number_model, important_features.* FROM mod, important_features WHERE mod.imp_feat_dep = important_features.number_imp_feat), pr AS (SELECT prep_text, number_model FROM prep, mod WHERE mod.prep = prep.number_prep), prop AS (SELECT * FROM morf_characters_of_word, w WHERE morf_characters_of_word.number_morf = w.ref_to_morf) SELECT mod.mark, pr.prep_text, imp.*, prop.* FROM imp, w, pr, mod, prop WHERE imp.number_model = w.number_model AND imp.number_model = mod.number_model AND pr.number_model = mod.number_model AND prop.number_model = mod.number_model;\"\n",
    "\n",
    "    #print(s2)\n",
    "    res = db.query(s2)\n",
    "    thLev = []\n",
    "    shiftImpFeat = 4\n",
    "    shiftProp = 18\n",
    "    #print(res)\n",
    "    for curConstr in res:\n",
    "        curPatt = GPattern(3)\n",
    "        oneModelConstr = []\n",
    "        for j in range(0, 13): #13 - количество свойств в Morf\n",
    "            if (curConstr[shiftImpFeat + j] == True):\n",
    "                oneModelConstr.append(curConstr[shiftProp + j])\n",
    "        curPatt.dependentWordConstraints.append(oneModelConstr)\n",
    "        curPatt.mark = curConstr[0]\n",
    "        curPatt.prep = curConstr[1]\n",
    "        curPatt.dependentWord = curConstr[34]\n",
    "        #print(curPatt.dependentWord)\n",
    "        thLev.append(curPatt)\n",
    "    #print(thLev)\n",
    "    return thLev"
   ]
  },
  {
   "cell_type": "code",
   "execution_count": 98,
   "metadata": {},
   "outputs": [],
   "source": [
    "#для модели 3 уровня нужно только зависимое слово + оценка + предлог нужны ли ограничения???(в классе нет, в базе есть)\n",
    "#для модели 2 уровня - ограничения на зависимое слово + оценка + предлог\n",
    "#для модели 1 уровня - ограничения на зав.слово + оценка + предлог"
   ]
  },
  {
   "cell_type": "code",
   "execution_count": 144,
   "metadata": {},
   "outputs": [],
   "source": [
    "class Word:\n",
    "    def morfParse(self):\n",
    "        p = morph.parse(self.word)\n",
    "        for curParse in p:\n",
    "            self.morf.append(parseToMorf(self.word, curParse))\n",
    "    def getGPatterns(self):\n",
    "        curPatt = GPatternList()\n",
    "        for curMorf in self.morf:\n",
    "            curFirst = extractFirstLevel(self.word, curMorf)\n",
    "            curSec = extractSecondLevel(self.word, curMorf)\n",
    "            curThird = extractThirdLevel(self.word, curMorf)\n",
    "            curPatt.firstLevel.append(curFirst)\n",
    "            curPatt.secondLevel.append(curSec)\n",
    "            curPatt.thirdLevel.append(curThird)\n",
    "            \n",
    "        self.gPatterns.append(curPatt)\n",
    "    def __init__(self, name = \"\"):\n",
    "        self.word = name #у Одинцева Word\n",
    "            \n",
    "        self.morf = [] # список объектов типа Morf \n",
    "        \n",
    "        #список морфологических характеристик для всех вариантов морф. анализа\n",
    "        self.gPatterns = []# список из GPatternList, i элемент - для i morf\n",
    "        \n",
    "        #с помощью морф.анализатора заполняем morf, с помощью базы - GPatterns"
   ]
  },
  {
   "cell_type": "code",
   "execution_count": 100,
   "metadata": {},
   "outputs": [],
   "source": [
    "#3. Word – слово (словоформа) в исходном предложении. Word содержит следующие поля:\n",
    "#Word – текстовое представление словоформы.\n",
    "#Morf – список морфологических характеристик для всех вариантов морфологического анализа.\n",
    "#GPatterns - метасписок моделей управления. Каждый i-тый элемент списка является списком моделей управления (структурой GPatternList) для i-го варианта морфологического анализа."
   ]
  },
  {
   "cell_type": "code",
   "execution_count": 169,
   "metadata": {},
   "outputs": [],
   "source": [
    "w = Word(\"ёжиться\")\n",
    "w.morfParse()\n",
    "w.getGPatterns()"
   ]
  },
  {
   "cell_type": "code",
   "execution_count": 178,
   "metadata": {
    "scrolled": false
   },
   "outputs": [
    {
     "name": "stdout",
     "output_type": "stream",
     "text": [
      "{'mark': 1.0, 'level': 1, 'info': '', 'dependentWordConstraints': [['noun', 'instrumental']], 'dependentWord': '', 'prep': 'с'} {'mark': 1.0, 'level': 1, 'info': '', 'dependentWordConstraints': [['adverb']], 'dependentWord': '', 'prep': 'None'}\n",
      "{'mark': 1.0, 'level': 2, 'info': '', 'dependentWordConstraints': [['noun', 'instrumental']], 'dependentWord': '', 'prep': 'с'} {'mark': 1.0, 'level': 2, 'info': '', 'dependentWordConstraints': [['adverb']], 'dependentWord': '', 'prep': 'None'}\n",
      "{'mark': 1.0, 'level': 3, 'info': '', 'dependentWordConstraints': [['noun', 'instrumental']], 'dependentWord': 'ежом', 'prep': 'с'} {'mark': 1.0, 'level': 3, 'info': '', 'dependentWordConstraints': [['adverb']], 'dependentWord': 'быстро', 'prep': 'None'}\n",
      "{'number': <Enumber.numberAny: 3>, 'person': <Eperson.personAny: 4>, 'case1': <Ecase.caseAny: 7>, 'tense': <Etense.infinitive: 1>, 'reflection': <Ereflection.reflexive: 1>, 'degree': <Edegree.degreeAny: 3>, 'static': False, 's_cl': <Es_cl.verb: 14>, 'animate': <Eanimate.animateAny: 3>, 'voice': <Evoice.voiceAny: 3>, 'transitive': <Etransitive.untransitive: 2>, 'gender': <Egender.genderAny: 6>, 'perfective': <Eperfective.unperfective: 2>}\n",
      "ёжиться\n"
     ]
    }
   ],
   "source": [
    "print(w.gPatterns[0].firstLevel[0][0].__dict__, w.gPatterns[0].firstLevel[0][1].__dict__)\n",
    "print(w.gPatterns[0].secondLevel[0][0].__dict__, w.gPatterns[0].secondLevel[0][1].__dict__)\n",
    "print(w.gPatterns[0].thirdLevel[0][0].__dict__, w.gPatterns[0].thirdLevel[0][1].__dict__)\n",
    "\n",
    "print(w.morf[0].__dict__)\n",
    "print(w.word)"
   ]
  },
  {
   "cell_type": "code",
   "execution_count": 183,
   "metadata": {},
   "outputs": [],
   "source": [
    "w = Word(\"с\")\n",
    "w.morfParse()\n",
    "w.getGPatterns()"
   ]
  },
  {
   "cell_type": "code",
   "execution_count": 184,
   "metadata": {},
   "outputs": [
    {
     "ename": "IndexError",
     "evalue": "list index out of range",
     "output_type": "error",
     "traceback": [
      "\u001b[0;31m---------------------------------------------------------------------------\u001b[0m",
      "\u001b[0;31mIndexError\u001b[0m                                Traceback (most recent call last)",
      "\u001b[0;32m<ipython-input-184-39451f96c4f1>\u001b[0m in \u001b[0;36m<module>\u001b[0;34m\u001b[0m\n\u001b[0;32m----> 1\u001b[0;31m \u001b[0mprint\u001b[0m\u001b[0;34m(\u001b[0m\u001b[0mw\u001b[0m\u001b[0;34m.\u001b[0m\u001b[0mgPatterns\u001b[0m\u001b[0;34m[\u001b[0m\u001b[0;36m0\u001b[0m\u001b[0;34m]\u001b[0m\u001b[0;34m.\u001b[0m\u001b[0mfirstLevel\u001b[0m\u001b[0;34m[\u001b[0m\u001b[0;36m0\u001b[0m\u001b[0;34m]\u001b[0m\u001b[0;34m[\u001b[0m\u001b[0;36m0\u001b[0m\u001b[0;34m]\u001b[0m\u001b[0;34m.\u001b[0m\u001b[0m__dict__\u001b[0m\u001b[0;34m,\u001b[0m \u001b[0mw\u001b[0m\u001b[0;34m.\u001b[0m\u001b[0mgPatterns\u001b[0m\u001b[0;34m[\u001b[0m\u001b[0;36m0\u001b[0m\u001b[0;34m]\u001b[0m\u001b[0;34m.\u001b[0m\u001b[0mfirstLevel\u001b[0m\u001b[0;34m[\u001b[0m\u001b[0;36m0\u001b[0m\u001b[0;34m]\u001b[0m\u001b[0;34m[\u001b[0m\u001b[0;36m1\u001b[0m\u001b[0;34m]\u001b[0m\u001b[0;34m.\u001b[0m\u001b[0m__dict__\u001b[0m\u001b[0;34m)\u001b[0m\u001b[0;34m\u001b[0m\u001b[0m\n\u001b[0m\u001b[1;32m      2\u001b[0m \u001b[0mprint\u001b[0m\u001b[0;34m(\u001b[0m\u001b[0mw\u001b[0m\u001b[0;34m.\u001b[0m\u001b[0mgPatterns\u001b[0m\u001b[0;34m[\u001b[0m\u001b[0;36m0\u001b[0m\u001b[0;34m]\u001b[0m\u001b[0;34m.\u001b[0m\u001b[0msecondLevel\u001b[0m\u001b[0;34m[\u001b[0m\u001b[0;36m0\u001b[0m\u001b[0;34m]\u001b[0m\u001b[0;34m[\u001b[0m\u001b[0;36m0\u001b[0m\u001b[0;34m]\u001b[0m\u001b[0;34m.\u001b[0m\u001b[0m__dict__\u001b[0m\u001b[0;34m,\u001b[0m \u001b[0mw\u001b[0m\u001b[0;34m.\u001b[0m\u001b[0mgPatterns\u001b[0m\u001b[0;34m[\u001b[0m\u001b[0;36m0\u001b[0m\u001b[0;34m]\u001b[0m\u001b[0;34m.\u001b[0m\u001b[0msecondLevel\u001b[0m\u001b[0;34m[\u001b[0m\u001b[0;36m0\u001b[0m\u001b[0;34m]\u001b[0m\u001b[0;34m[\u001b[0m\u001b[0;36m1\u001b[0m\u001b[0;34m]\u001b[0m\u001b[0;34m.\u001b[0m\u001b[0m__dict__\u001b[0m\u001b[0;34m)\u001b[0m\u001b[0;34m\u001b[0m\u001b[0m\n\u001b[1;32m      3\u001b[0m \u001b[0mprint\u001b[0m\u001b[0;34m(\u001b[0m\u001b[0mw\u001b[0m\u001b[0;34m.\u001b[0m\u001b[0mgPatterns\u001b[0m\u001b[0;34m[\u001b[0m\u001b[0;36m0\u001b[0m\u001b[0;34m]\u001b[0m\u001b[0;34m.\u001b[0m\u001b[0mthirdLevel\u001b[0m\u001b[0;34m[\u001b[0m\u001b[0;36m0\u001b[0m\u001b[0;34m]\u001b[0m\u001b[0;34m[\u001b[0m\u001b[0;36m0\u001b[0m\u001b[0;34m]\u001b[0m\u001b[0;34m.\u001b[0m\u001b[0m__dict__\u001b[0m\u001b[0;34m,\u001b[0m \u001b[0mw\u001b[0m\u001b[0;34m.\u001b[0m\u001b[0mgPatterns\u001b[0m\u001b[0;34m[\u001b[0m\u001b[0;36m0\u001b[0m\u001b[0;34m]\u001b[0m\u001b[0;34m.\u001b[0m\u001b[0mthirdLevel\u001b[0m\u001b[0;34m[\u001b[0m\u001b[0;36m0\u001b[0m\u001b[0;34m]\u001b[0m\u001b[0;34m[\u001b[0m\u001b[0;36m1\u001b[0m\u001b[0;34m]\u001b[0m\u001b[0;34m.\u001b[0m\u001b[0m__dict__\u001b[0m\u001b[0;34m)\u001b[0m\u001b[0;34m\u001b[0m\u001b[0m\n\u001b[1;32m      4\u001b[0m \u001b[0;34m\u001b[0m\u001b[0m\n\u001b[1;32m      5\u001b[0m \u001b[0mprint\u001b[0m\u001b[0;34m(\u001b[0m\u001b[0mw\u001b[0m\u001b[0;34m.\u001b[0m\u001b[0mmorf\u001b[0m\u001b[0;34m[\u001b[0m\u001b[0;36m0\u001b[0m\u001b[0;34m]\u001b[0m\u001b[0;34m.\u001b[0m\u001b[0m__dict__\u001b[0m\u001b[0;34m)\u001b[0m\u001b[0;34m\u001b[0m\u001b[0m\n",
      "\u001b[0;31mIndexError\u001b[0m: list index out of range"
     ]
    }
   ],
   "source": [
    "print(w.gPatterns[0].firstLevel[0][0].__dict__, w.gPatterns[0].firstLevel[0][1].__dict__)\n",
    "print(w.gPatterns[0].secondLevel[0][0].__dict__, w.gPatterns[0].secondLevel[0][1].__dict__)\n",
    "print(w.gPatterns[0].thirdLevel[0][0].__dict__, w.gPatterns[0].thirdLevel[0][1].__dict__)\n",
    "\n",
    "print(w.morf[0].__dict__)\n",
    "print(w.word)"
   ]
  },
  {
   "cell_type": "code",
   "execution_count": 31,
   "metadata": {},
   "outputs": [],
   "source": [
    "#s_cl animate gender number case1 reflection perfective transitive person tense voice degree static"
   ]
  },
  {
   "cell_type": "code",
   "execution_count": null,
   "metadata": {},
   "outputs": [],
   "source": []
  },
  {
   "cell_type": "code",
   "execution_count": 223,
   "metadata": {},
   "outputs": [],
   "source": [
    "class Gp:\n",
    "    def __init__(self):\n",
    "        self.numberModel = -1\n",
    "        self.word = Word()\n",
    "        self.mark = 0\n",
    "        self.level = 0\n",
    "    def create(self, numMod, depWord, mark1, l):\n",
    "        self.numberModel = numMod\n",
    "        self.word = copy.copy(depWord)\n",
    "        self.mark = mark1\n",
    "        self.level = l"
   ]
  },
  {
   "cell_type": "code",
   "execution_count": 103,
   "metadata": {},
   "outputs": [],
   "source": [
    "class ParsePointWord:\n",
    "    def __init__(self):\n",
    "        self.word = Word()\n",
    "        self.parsed = False\n",
    "        self.usedMorfAnswer = Morf()\n",
    "        self.usedGp = []#типа Gp\n"
   ]
  },
  {
   "cell_type": "code",
   "execution_count": 104,
   "metadata": {},
   "outputs": [
    {
     "ename": "SyntaxError",
     "evalue": "invalid syntax (<ipython-input-104-12e3b1ac3396>, line 1)",
     "output_type": "error",
     "traceback": [
      "\u001b[0;36m  File \u001b[0;32m\"<ipython-input-104-12e3b1ac3396>\"\u001b[0;36m, line \u001b[0;32m1\u001b[0m\n\u001b[0;31m    4. ParsePointWord – состояние слова в точке разбора. Поля ParsePointWord:\u001b[0m\n\u001b[0m                    ^\u001b[0m\n\u001b[0;31mSyntaxError\u001b[0m\u001b[0;31m:\u001b[0m invalid syntax\n"
     ]
    }
   ],
   "source": [
    "4. ParsePointWord – состояние слова в точке разбора. Поля ParsePointWord:\n",
    "Word – ссылка на соответствующий объект типа Word. \n",
    "Parsed - разобрано ли слово в данной точке разбора.\n",
    "UsedMorfAnswer - использованный (если слово разобрано) вариант морфологического анализа.\n",
    "UsedGP – массив, состоящий из номеров моделей управления, использованных на данный момент, \n",
    "и указателей на зависимые слова (типа Word), связанные с помощью этих моделей управления.\n",
    "\n",
    "CheckWord (PPWord, GPattern, UsedMorfAnswer). \n",
    "Эта функция проверяет, соответствует ли слово PPWord модели управления GPattern. \n",
    "Если она соответствует, то в UsedMorfAnswer помещается \n",
    "тот номер варианта морфологического разбора, при котором достигается соответствие слова тветствует модели управления."
   ]
  },
  {
   "cell_type": "code",
   "execution_count": 215,
   "metadata": {},
   "outputs": [],
   "source": [
    "class ParsePoint:\n",
    "    directForIsApplicable = 1\n",
    "    def __init__(self):\n",
    "        self.parsePointWordList = []\n",
    "        self.childParsePoint = []\n",
    "    def getMark(self):\n",
    "        summ = 0\n",
    "        for curPointWord in self.parsePointWordList:\n",
    "            for curGp in curPointWord.usedGp:\n",
    "                summ += curGp.mark\n",
    "        return summ\n",
    "    def isApplicable (mainPPWord, gPatternToApply):\n",
    "    #mainPPWord - номер главного!!!\n",
    "        directForIsApplicable = -directForIsApplicable\n",
    "        for i in range(mainPPWord + directForIsApplicable, len(self.parsePointWordList), directForIsApplicable):\n",
    "            curDepParse = self.parsePointWordList[i].word\n",
    "        return (True, None, None)\n",
    "    def Apply (mainPPWord, dependingPPWord, usedMorfAnswer, gPatternToApply):\n",
    "        r = 0 # переписать )))\n",
    "    def getNextParsePoint():\n",
    "        countParsed = 0\n",
    "        parsed = []\n",
    "        for i in range(len(self.parsePointWordList)):\n",
    "            curPointWord = self.parsePointWordList[i]\n",
    "            countParsed += curPointWord.parsed\n",
    "            if (curPointWord.parsed == True):\n",
    "                parsed.append(i)\n",
    "        if (countParsed == 0):\n",
    "            for i in range(len(self.parsePointWordList)):\n",
    "                curPointWord = self.parsePointWordList[i]\n",
    "                for curMorf in curPointWord.word.morf:\n",
    "                    if curMorf.s_cl == Es_cl.verb:\n",
    "                        newParsePoint = copy.copy(self)\n",
    "                        newParsePoint.parsePointWordList[i].parsed = True\n",
    "                        newParsePoint.parsePointWordList[i].usedMorfAnswer = copy.copy(curMorf)\n",
    "                        self.childParsePoint.append(newParsePoint)\n",
    "                        return newParsePoint\n",
    "\n",
    "            #в предложении нет глагола\n",
    "            for i in range(len(self.parsePointWordList)):\n",
    "                curPointWord = self.parsePointWordList[i]\n",
    "                for curMorf in curPointWord.word.morf:\n",
    "                    if curMorf.s_cl == Es_cl.noun and curMorf.case1 == Ecase.nominative:\n",
    "                        newParsePoint = copy.copy(self)\n",
    "                        newParsePoint.parsePointWordList[i].parsed = True\n",
    "                        newParsePoint.parsePointWordList[i].usedMorfAnswer = copy.copy(curMorf)\n",
    "                        self.childParsePoint.append(newParsePoint)\n",
    "                        return newParsePoint\n",
    "        else:\n",
    "            bestMainWord = Word()\n",
    "            bestDepWord = Word()\n",
    "            usedDepMorf = Morf()\n",
    "            bestModel = Gp()\n",
    "            bestModelMark = 0\n",
    "            for i in parsed:\n",
    "                curParsedPoint = self.parsePointWordList[i]\n",
    "                curWord = curParsedPoint.word\n",
    "                chooseVarMorf = curParsedPoint.usedGp\n",
    "                for j in range(len(curWord.morf)):\n",
    "                    if (curWord.morf[j] == chooseVarMorf):\n",
    "                        models = curWord.gPatterns[i]\n",
    "                        break\n",
    "                for curModel in (models.thirdLevel + models.secondLevel + models.firstLevel):\n",
    "                    (canApply, depWord, morfDepWord) = self.isApplicable(i, curModel)\n",
    "                    if (curModel.mark > bestModelMark):\n",
    "                        bestModelMark = curModel.mark\n",
    "                        bestModel = copy.copy(curModel)\n",
    "                        bestMainWord = curWord\n",
    "                        bestDepWord = depWord\n",
    "                        usedDepMorf = morfDepWord\n",
    "                if (bestModelMark != 0):\n",
    "                    self.Apply(bestMainWord, bestDepWord, usedDepMorf, bestModel)"
   ]
  },
  {
   "cell_type": "code",
   "execution_count": null,
   "metadata": {},
   "outputs": [],
   "source": [
    "4. ParsePoint -  структура, соответствующая точке разбора – вершине в дереве неоконченных вариантов синтаксического анализа. \n",
    "ParsePoint является списком из элементов типа ParsePointWord. \n",
    "Дополнительно ParsePoint содержит поле ChildParsePoints - список дочерних точек разбора."
   ]
  },
  {
   "cell_type": "code",
   "execution_count": 206,
   "metadata": {},
   "outputs": [],
   "source": [
    "class Sentence:\n",
    "    def __init__(self): \n",
    "        self.inputStr = \"\"\n",
    "        self.wordList = []\n",
    "        self.rootPP =  ParsePoint() # ????????\n",
    "        self.firstUse = True\n",
    "    def setString (self, inputStr1):\n",
    "        self.inputStr = inputStr1\n",
    "# слово в предложении - все, отделенное пробелом, точкой, ? ! ...(смотрим только на первую .)\n",
    "#: ; \" ' началом предложения, запятой, (   ) тире вообще не учитываем(оно отделено пробелами), \n",
    "# дефис только в словах очень-очень и тп, \n",
    "        punctuation = [' ', '.', '?', '!', ':', ';', '\\'', '\\\"', ',', '(', ')']\n",
    "        curWord = \"\"\n",
    "        for i in self.inputStr:\n",
    "            if (i in punctuation):\n",
    "                if (len(curWord) != 0):\n",
    "                    self.wordList.append(Word(curWord.lower()))\n",
    "                    curWord = \"\"\n",
    "            elif (i != '-' or (len(curWord) != 0)): # - и непустое слово -  это дефис\n",
    "                curWord = curWord + i\n",
    "        if (len(curWord) != 0):\n",
    "                self.wordList.append(Word(curWord.lower()))\n",
    "                curWord = \"\"\n",
    "    def morfParse(self):\n",
    "        for curWord in self.wordList:\n",
    "            curWord.morfParse()\n",
    "    def getGPatterns(self):\n",
    "        for curWord in self.wordList:\n",
    "            curWord.getGPatterns()\n",
    "    def getRootParsePoint(self):\n",
    "        self.rootPP =  ParsePoint()# пока так!!! а зачем вообще эта функция???\n",
    "    def getBestParsePoint(self):\n",
    "        bestPoint = copy.copy(self.rootPP)\n",
    "        bestPointMark = self.rootPP.getMark()\n",
    "        wasChange = False\n",
    "        for curChild in self.rootPP.childParsePoint:\n",
    "            s1 = Sentence()\n",
    "            s1.rootPP = copy.copy(curChild)\n",
    "            curBest = s1.GetBestParsePoint()\n",
    "            curMark = curBest.getMark()\n",
    "            if (curMark > bestPointMark):\n",
    "                bestPointMark = curMark\n",
    "                bestPoint = curBest\n",
    "                wasChange = True\n",
    "        if (wasChange == False):\n",
    "            return None\n",
    "        return bestPoint\n",
    "            \n",
    "    def sintParse(self):\n",
    "        if (self.firstUse == True):\n",
    "            self.firstUse = False\n",
    "            self.GetRootParsePoint()\n",
    "        bestParsePoint = self.GetBestParsePoint()\n",
    "        if (bestParsePoint == None):\n",
    "            print(\"Больше вариантов разбора нет\")\n",
    "            return None\n",
    "        allWordsParsed = True\n",
    "        \n",
    "        \n",
    "        for curPointWord in bestParsePoint.parsePointWordList:\n",
    "            if (curPointWord.parsed == False):\n",
    "                allWordsParsed = False\n",
    "                break\n",
    "        while (allWordsParsed == False):\n",
    "            newPoint = bestParsePoint.GetNextParsePoint()\n",
    "            for curPointWord in bestParsePoint.parsePointWordList:\n",
    "            if (curPointWord.parsed == False):\n",
    "                allWordsParsed = False\n",
    "                break\n",
    "        return bestParsePoint\n",
    "        \n",
    "        \n",
    "        "
   ]
  },
  {
   "cell_type": "code",
   "execution_count": null,
   "metadata": {},
   "outputs": [],
   "source": []
  },
  {
   "cell_type": "code",
   "execution_count": 235,
   "metadata": {},
   "outputs": [],
   "source": [
    "def f():\n",
    "    print(f.i)\n",
    "    f.i += 1"
   ]
  },
  {
   "cell_type": "code",
   "execution_count": 236,
   "metadata": {},
   "outputs": [
    {
     "name": "stdout",
     "output_type": "stream",
     "text": [
      "0\n",
      "1\n"
     ]
    }
   ],
   "source": [
    "f.i = 0\n",
    "f()\n",
    "f()\n"
   ]
  },
  {
   "cell_type": "code",
   "execution_count": null,
   "metadata": {},
   "outputs": [],
   "source": []
  },
  {
   "cell_type": "code",
   "execution_count": null,
   "metadata": {},
   "outputs": [],
   "source": []
  },
  {
   "cell_type": "code",
   "execution_count": 207,
   "metadata": {},
   "outputs": [],
   "source": [
    "s = Sentence()\n",
    "s.setString(\"\\\"Дети уходите гулять\\\" - сказал учитель(странный человек) в громкоговоритель!\")"
   ]
  },
  {
   "cell_type": "code",
   "execution_count": null,
   "metadata": {},
   "outputs": [],
   "source": []
  },
  {
   "cell_type": "code",
   "execution_count": 208,
   "metadata": {},
   "outputs": [
    {
     "data": {
      "text/plain": [
       "{'gPatterns': [], 'morf': [], 'word': 'дети'}"
      ]
     },
     "execution_count": 208,
     "metadata": {},
     "output_type": "execute_result"
    }
   ],
   "source": [
    "s.wordList[0].__dict__"
   ]
  },
  {
   "cell_type": "code",
   "execution_count": 209,
   "metadata": {},
   "outputs": [
    {
     "ename": "SyntaxError",
     "evalue": "invalid syntax (<ipython-input-209-5ced31b7abec>, line 1)",
     "output_type": "error",
     "traceback": [
      "\u001b[0;36m  File \u001b[0;32m\"<ipython-input-209-5ced31b7abec>\"\u001b[0;36m, line \u001b[0;32m1\u001b[0m\n\u001b[0;31m    GetRootParsePoint (). Эта функция создает корневую точку разбора.\u001b[0m\n\u001b[0m                                    ^\u001b[0m\n\u001b[0;31mSyntaxError\u001b[0m\u001b[0;31m:\u001b[0m invalid syntax\n"
     ]
    }
   ],
   "source": [
    "GetRootParsePoint (). Эта функция создает корневую точку разбора.\n",
    "GetBestParsePoint (). Эта функция выдает ссылку на существующую точку разбора для построения от нее дочерней точки разбора. Выдается точка разбора с максимальной в дереве оценкой. Поиск этой точки разбора начинается с RootPP.\n",
    "\n",
    "MorfParse (). Функция запускает морфологический анализ для всех слов в исходном тексте по очереди.\n",
    "GetGPatterns (). Функция загружает модели управления для слов в предложении.\n",
    "SintParse(). Функция запускает синтаксический анализ. Результатом этой функции является строка с синтаксической структурой. Каждый новый вызов этой функции выдает новый вариант анализа (если они еще есть)."
   ]
  },
  {
   "cell_type": "code",
   "execution_count": null,
   "metadata": {},
   "outputs": [],
   "source": []
  },
  {
   "cell_type": "code",
   "execution_count": 216,
   "metadata": {},
   "outputs": [
    {
     "name": "stdout",
     "output_type": "stream",
     "text": [
      "Ёжиться с ежом\n"
     ]
    }
   ],
   "source": [
    "str1 = input()\n",
    "s = Sentence()\n",
    "s.setString(str1)\n",
    "s.morfParse()\n",
    "s.getGPatterns()"
   ]
  },
  {
   "cell_type": "code",
   "execution_count": 217,
   "metadata": {},
   "outputs": [],
   "source": [
    "a100 = s.getBestParsePoint()"
   ]
  },
  {
   "cell_type": "code",
   "execution_count": 219,
   "metadata": {},
   "outputs": [
    {
     "data": {
      "text/plain": [
       "{'childParsePoint': [], 'parsePointWordList': []}"
      ]
     },
     "execution_count": 219,
     "metadata": {},
     "output_type": "execute_result"
    }
   ],
   "source": [
    "a100.__dict__"
   ]
  },
  {
   "cell_type": "code",
   "execution_count": 198,
   "metadata": {},
   "outputs": [
    {
     "data": {
      "text/plain": [
       "{'firstLevel': [[], [], []],\n",
       " 'secondLevel': [[], [], []],\n",
       " 'thirdLevel': [[], [], []]}"
      ]
     },
     "execution_count": 198,
     "metadata": {},
     "output_type": "execute_result"
    }
   ],
   "source": [
    "s.wordList[2].gPatterns[0].__dict__"
   ]
  },
  {
   "cell_type": "code",
   "execution_count": 127,
   "metadata": {},
   "outputs": [
    {
     "data": {
      "text/plain": [
       "Parse(word='с', tag=OpencorporaTag('PREP'), normal_form='с', score=0.998363, methods_stack=((<DictionaryAnalyzer>, 'с', 375, 0),))"
      ]
     },
     "execution_count": 127,
     "metadata": {},
     "output_type": "execute_result"
    }
   ],
   "source": [
    "morph.parse(\"с\")[0]"
   ]
  },
  {
   "cell_type": "code",
   "execution_count": 132,
   "metadata": {},
   "outputs": [
    {
     "name": "stdout",
     "output_type": "stream",
     "text": [
      "[]\n",
      "[]\n"
     ]
    },
    {
     "data": {
      "text/plain": [
       "[]"
      ]
     },
     "execution_count": 132,
     "metadata": {},
     "output_type": "execute_result"
    }
   ],
   "source": [
    "extractThirdLevel(\"с\", parseToMorf(\"с\", morph.parse(\"с\")[0]))"
   ]
  },
  {
   "cell_type": "code",
   "execution_count": 67,
   "metadata": {},
   "outputs": [
    {
     "data": {
      "text/plain": [
       "'звезды'"
      ]
     },
     "execution_count": 67,
     "metadata": {},
     "output_type": "execute_result"
    }
   ],
   "source": [
    "\"Звезды\".lower()"
   ]
  },
  {
   "cell_type": "code",
   "execution_count": null,
   "metadata": {},
   "outputs": [],
   "source": []
  },
  {
   "cell_type": "code",
   "execution_count": 6,
   "metadata": {},
   "outputs": [
    {
     "data": {
      "text/plain": [
       "['a', 'a', 'a']"
      ]
     },
     "execution_count": 6,
     "metadata": {},
     "output_type": "execute_result"
    }
   ],
   "source": [
    "\"a a a\".split()"
   ]
  },
  {
   "cell_type": "code",
   "execution_count": null,
   "metadata": {},
   "outputs": [],
   "source": []
  },
  {
   "cell_type": "code",
   "execution_count": null,
   "metadata": {},
   "outputs": [],
   "source": []
  },
  {
   "cell_type": "code",
   "execution_count": 4,
   "metadata": {},
   "outputs": [],
   "source": [
    "def fun(m):\n",
    "    m = [1, 2]"
   ]
  },
  {
   "cell_type": "code",
   "execution_count": 5,
   "metadata": {},
   "outputs": [
    {
     "name": "stdout",
     "output_type": "stream",
     "text": [
      "[4, 5]\n"
     ]
    }
   ],
   "source": [
    "a = [4, 5]\n",
    "fun(a)\n",
    "print(a)"
   ]
  },
  {
   "cell_type": "code",
   "execution_count": null,
   "metadata": {},
   "outputs": [],
   "source": []
  }
 ],
 "metadata": {
  "kernelspec": {
   "display_name": "Python 3",
   "language": "python",
   "name": "python3"
  },
  "language_info": {
   "codemirror_mode": {
    "name": "ipython",
    "version": 3
   },
   "file_extension": ".py",
   "mimetype": "text/x-python",
   "name": "python",
   "nbconvert_exporter": "python",
   "pygments_lexer": "ipython3",
   "version": "3.5.2"
  }
 },
 "nbformat": 4,
 "nbformat_minor": 1
}
