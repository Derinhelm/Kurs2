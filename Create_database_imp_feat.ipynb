{
 "cells": [
  {
   "cell_type": "code",
   "execution_count": 2,
   "metadata": {},
   "outputs": [],
   "source": [
    "import postgresql"
   ]
  },
  {
   "cell_type": "code",
   "execution_count": 3,
   "metadata": {},
   "outputs": [],
   "source": [
    "db = postgresql.open('pq://derin:qwerty@localhost:5432/models')"
   ]
  },
  {
   "cell_type": "code",
   "execution_count": 3,
   "metadata": {},
   "outputs": [
    {
     "data": {
      "text/plain": [
       "<postgresql.driver.pq3.Connection[pq://derin:***@localhost:5432/models] b'I'>"
      ]
     },
     "execution_count": 3,
     "metadata": {},
     "output_type": "execute_result"
    }
   ],
   "source": [
    "db"
   ]
  },
  {
   "cell_type": "code",
   "execution_count": 10,
   "metadata": {},
   "outputs": [],
   "source": [
    "db.execute(\"CREATE TABLE important_features (\\\n",
    "                  number_imp_feat serial PRIMARY KEY \\\n",
    "                , s_cl_imp boolean \\\n",
    "                , animate_imp boolean \\\n",
    "                , gender_imp boolean \\\n",
    "                , number_imp boolean \\\n",
    "                , case1_imp boolean \\\n",
    "                , reflection_imp boolean \\\n",
    "                , perfective_imp boolean \\\n",
    "                , transitive_imp boolean \\\n",
    "                , person_imp boolean \\\n",
    "                , tense_imp boolean \\\n",
    "                , voice_imp boolean \\\n",
    "                , degree_imp boolean \\\n",
    "                , static_imp boolean)\") "
   ]
  },
  {
   "cell_type": "code",
   "execution_count": null,
   "metadata": {},
   "outputs": [],
   "source": []
  },
  {
   "cell_type": "code",
   "execution_count": 12,
   "metadata": {},
   "outputs": [],
   "source": [
    "for s in ['True', 'False']: \n",
    "    for a in ['True', 'False']:\n",
    "        for g in ['True', 'False']:\n",
    "            for n in ['True', 'False']:\n",
    "                for c in ['True', 'False']:\n",
    "                    for r in ['True', 'False']:\n",
    "                        for p in ['True', 'False']:\n",
    "                            for t in ['True', 'False']:\n",
    "                                for pe in ['True', 'False']:\n",
    "                                    for te in ['True', 'False']:\n",
    "                                        for v in ['True', 'False']:\n",
    "                                            for d in ['True', 'False']:\n",
    "                                                for st in ['True', 'False']:\n",
    "                                                    s1 = \"INSERT INTO important_features VALUES(DEFAULT, \" + \\\n",
    "                                                    s + \", \" + a + \", \" + g + \", \" + n + \", \" + c + \", \" + \\\n",
    "                                                    r + \", \" + p + \", \" + t + \", \" + pe + \", \" + te + \", \" + \\\n",
    "                                                    v + \", \" + d + \", \" + st + \");\"\n",
    "                                                    db.execute(s1)"
   ]
  },
  {
   "cell_type": "code",
   "execution_count": 5,
   "metadata": {},
   "outputs": [],
   "source": [
    "# для главного(Видеть) важны S_cl, переходность(Transitive)\n",
    "db.execute(\"INSERT INTO important_features VALUES(DEFAULT, True, False, False, False, \\\n",
    "                False, False, False, True, \\\n",
    "                False, False, False, False, False)\")"
   ]
  },
  {
   "cell_type": "code",
   "execution_count": 6,
   "metadata": {},
   "outputs": [],
   "source": [
    "#для зависимого(маму, папу) важны S_cl, падеж\n",
    "db.execute(\"INSERT INTO important_features VALUES(DEFAULT, True, False, False, False, \\\n",
    "                True, False, False, False, \\\n",
    "                False, False, False, False, False)\")"
   ]
  },
  {
   "cell_type": "code",
   "execution_count": null,
   "metadata": {},
   "outputs": [],
   "source": []
  },
  {
   "cell_type": "code",
   "execution_count": 14,
   "metadata": {},
   "outputs": [
    {
     "data": {
      "text/plain": [
       "[(8192)]"
      ]
     },
     "execution_count": 14,
     "metadata": {},
     "output_type": "execute_result"
    }
   ],
   "source": [
    "db.query(\"SELECT count(*) FROM important_features\")"
   ]
  },
  {
   "cell_type": "code",
   "execution_count": null,
   "metadata": {},
   "outputs": [],
   "source": []
  },
  {
   "cell_type": "code",
   "execution_count": null,
   "metadata": {},
   "outputs": [],
   "source": []
  },
  {
   "cell_type": "code",
   "execution_count": null,
   "metadata": {},
   "outputs": [],
   "source": []
  },
  {
   "cell_type": "code",
   "execution_count": 4,
   "metadata": {},
   "outputs": [],
   "source": [
    "db.execute(\"DROP TABLE important_features\")"
   ]
  },
  {
   "cell_type": "code",
   "execution_count": null,
   "metadata": {},
   "outputs": [],
   "source": []
  },
  {
   "cell_type": "code",
   "execution_count": null,
   "metadata": {},
   "outputs": [],
   "source": []
  },
  {
   "cell_type": "code",
   "execution_count": null,
   "metadata": {},
   "outputs": [],
   "source": []
  },
  {
   "cell_type": "code",
   "execution_count": null,
   "metadata": {},
   "outputs": [],
   "source": []
  },
  {
   "cell_type": "code",
   "execution_count": null,
   "metadata": {},
   "outputs": [],
   "source": []
  },
  {
   "cell_type": "code",
   "execution_count": null,
   "metadata": {},
   "outputs": [],
   "source": []
  },
  {
   "cell_type": "code",
   "execution_count": null,
   "metadata": {},
   "outputs": [],
   "source": []
  },
  {
   "cell_type": "code",
   "execution_count": null,
   "metadata": {},
   "outputs": [],
   "source": []
  },
  {
   "cell_type": "code",
   "execution_count": null,
   "metadata": {},
   "outputs": [],
   "source": []
  },
  {
   "cell_type": "code",
   "execution_count": null,
   "metadata": {},
   "outputs": [],
   "source": [
    "s = input()\n",
    "s1 = s[s.find(' ') + 1: s.find('{') - 1]\n",
    "s2 = s[s.find('{') + 1: s.find('}')]\n",
    "s2 = s2.replace(\" \", \"\").replace(\"=1\", \"\").split(',')\n",
    "print(\"CREATE TYPE \" + s1 + \" AS ENUM (\", end = '')\n",
    "print(s2, end = '')\n",
    "print(\");\")"
   ]
  },
  {
   "cell_type": "code",
   "execution_count": null,
   "metadata": {},
   "outputs": [],
   "source": [
    "s3 = input().replace(\"[\", \"\").replace(\"]\", \"\")\n",
    "print(s3)"
   ]
  },
  {
   "cell_type": "code",
   "execution_count": null,
   "metadata": {},
   "outputs": [],
   "source": []
  },
  {
   "cell_type": "code",
   "execution_count": null,
   "metadata": {},
   "outputs": [],
   "source": []
  }
 ],
 "metadata": {
  "kernelspec": {
   "display_name": "Python 3",
   "language": "python",
   "name": "python3"
  },
  "language_info": {
   "codemirror_mode": {
    "name": "ipython",
    "version": 3
   },
   "file_extension": ".py",
   "mimetype": "text/x-python",
   "name": "python",
   "nbconvert_exporter": "python",
   "pygments_lexer": "ipython3",
   "version": "3.5.2"
  }
 },
 "nbformat": 4,
 "nbformat_minor": 1
}
