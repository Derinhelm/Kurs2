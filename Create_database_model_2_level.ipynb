{
 "cells": [
  {
   "cell_type": "code",
   "execution_count": null,
   "metadata": {},
   "outputs": [],
   "source": [
    "import postgresql"
   ]
  },
  {
   "cell_type": "code",
   "execution_count": 35,
   "metadata": {},
   "outputs": [],
   "source": [
    "db = postgresql.open('pq://derin:qwerty@localhost:5432/models')"
   ]
  },
  {
   "cell_type": "code",
   "execution_count": null,
   "metadata": {},
   "outputs": [],
   "source": [
    "db.execute(\"CREATE TABLE model_2_level (number_model serial PRIMARY KEY\\\n",
    "                , ref_to_main_word integer REFERENCES word(number_word)\\\n",
    "                , ref_to_dep_morf integer REFERENCES morf_characters_of_word(number_morf)\\\n",
    "                , imp_feat_main integer REFERENCES important_features(number_imp_feat)\\\n",
    "                , imp_feat_dep integer REFERENCES important_features(number_imp_feat) \\\n",
    "                , prep integer REFERENCES prep(number_prep)\\\n",
    "                , mark real)\")"
   ]
  },
  {
   "cell_type": "code",
   "execution_count": null,
   "metadata": {},
   "outputs": [],
   "source": [
    "from Types import *"
   ]
  },
  {
   "cell_type": "code",
   "execution_count": 37,
   "metadata": {},
   "outputs": [],
   "source": [
    "from Functions import *"
   ]
  },
  {
   "cell_type": "code",
   "execution_count": 48,
   "metadata": {},
   "outputs": [],
   "source": [
    "import pymorphy2\n",
    "morph = pymorphy2.MorphAnalyzer()"
   ]
  },
  {
   "cell_type": "code",
   "execution_count": 38,
   "metadata": {},
   "outputs": [],
   "source": [
    "def inputMorf(text = \"\"):\n",
    "    print(\"Выберите характеристики \" + text + \" морфа\\n\")\n",
    "    curMorf = Morf()\n",
    "    for curEnum in Enums:\n",
    "        j = 1\n",
    "        for param in curEnum.__members__:\n",
    "            print(j, sep = \"\", end = \" - \")\n",
    "            j += 1\n",
    "            print(param)\n",
    "        choose = int(input())\n",
    "        print(\"---------------\")\n",
    "        curMorf.__dict__[curEnum.__name__.replace(\"case\", \"case1\")[1:]] = curEnum(choose)\n",
    "    print(\"static: 0 - True, 1 - False\\n\")\n",
    "    choose = int(input())\n",
    "    curMorf.static = (choose == 0)\n",
    "    return curMorf"
   ]
  },
  {
   "cell_type": "code",
   "execution_count": null,
   "metadata": {},
   "outputs": [],
   "source": [
    ""
   ]
  },
  {
   "cell_type": "code",
   "execution_count": 40,
   "metadata": {},
   "outputs": [],
   "source": [
    "def insertModel2(mainWord, depMorf, prep, db1):\n",
    "    numbMainWord = findWord(mainWord, db1, \"главного\") #массив номеров главного слова\n",
    "    numbDepMorf = findMorf(depMorf, db1) #номер зависимого слова\n",
    "    numbPrep = findPrep(prep, db1)\n",
    "    for numbCurMain in numbMainWord:\n",
    "        impMain = inputImpFeat(\"главного\")\n",
    "        impDep = inputImpFeat(\"зависимого\")\n",
    "        numbImpMain = findImp(impMain, db1)\n",
    "        numbImpDep = findImp(impDep, db1)\n",
    "        end = \"WHERE ref_to_main_word = \" + str(numbCurMain) + \\\n",
    "            \" AND ref_to_dep_morf = \" + str(numbDepMorf) + \" AND imp_feat_main = \" + str(numbImpMain) + \\\n",
    "            \" AND imp_feat_dep = \" + str(numbImpDep) + \" AND prep = \" + str(numbPrep)\n",
    "        s = \"SELECT number_model FROM model_2_level \" + end\n",
    "        findUsedModel = db.query(s)#проверка, есть ли уже такая модель\n",
    "        if (len(findUsedModel) == 0):\n",
    "            s1 = \"INSERT INTO model_2_level VALUES(DEFAULT, \" + str(numbCurMain) + \", \" + str(numbDepMorf) + \", \" + \\\n",
    "            str(numbImpMain) + \", \" + str(numbImpDep) + \", \" + str(numbPrep) + \", 1)\"\n",
    "            print(\"\\nвставлено\\n\")\n",
    "            db.execute(s1)\n",
    "        else:\n",
    "            s2 = \"UPDATE model_2_level SET mark = mark + 1 \" + end\n",
    "            db.execute(s2)\n",
    "            print(\"счетчик увеличен\")"
   ]
  },
  {
   "cell_type": "code",
   "execution_count": 68,
   "metadata": {
    "scrolled": true
   },
   "outputs": [
    {
     "name": "stdout",
     "output_type": "stream",
     "text": [
      "Выберите для данной модели важные свойства для главного слова (укажите в строку через пробел)\n",
      "\n",
      "0 s_cl_imp\n",
      "1 animate_imp\n",
      "2 gender_imp\n",
      "3 number_imp\n",
      "4 case1_imp\n",
      "5 reflection_imp\n",
      "6 perfective_imp\n",
      "7 transitive_imp\n",
      "8 person_imp\n",
      "9 tense_imp\n",
      "10 voice_imp\n",
      "11 degree_imp\n",
      "12 static_imp\n",
      "0\n",
      "Выберите для данной модели важные свойства для зависимого слова (укажите в строку через пробел)\n",
      "\n",
      "0 s_cl_imp\n",
      "1 animate_imp\n",
      "2 gender_imp\n",
      "3 number_imp\n",
      "4 case1_imp\n",
      "5 reflection_imp\n",
      "6 perfective_imp\n",
      "7 transitive_imp\n",
      "8 person_imp\n",
      "9 tense_imp\n",
      "10 voice_imp\n",
      "11 degree_imp\n",
      "12 static_imp\n",
      "0 4\n",
      "\n",
      "вставлено\n",
      "\n"
     ]
    }
   ],
   "source": [
    "insertModel2(\"ёжиться\", parseToMorf(\"ежом\", morph.parse(\"ежом\")[0]), \"с\", db)"
   ]
  },
  {
   "cell_type": "code",
   "execution_count": 69,
   "metadata": {
    "scrolled": true
   },
   "outputs": [
    {
     "name": "stdout",
     "output_type": "stream",
     "text": [
      "Выберите для данной модели важные свойства для главного слова (укажите в строку через пробел)\n",
      "\n",
      "0 s_cl_imp\n",
      "1 animate_imp\n",
      "2 gender_imp\n",
      "3 number_imp\n",
      "4 case1_imp\n",
      "5 reflection_imp\n",
      "6 perfective_imp\n",
      "7 transitive_imp\n",
      "8 person_imp\n",
      "9 tense_imp\n",
      "10 voice_imp\n",
      "11 degree_imp\n",
      "12 static_imp\n",
      "0 7\n",
      "Выберите для данной модели важные свойства для зависимого слова (укажите в строку через пробел)\n",
      "\n",
      "0 s_cl_imp\n",
      "1 animate_imp\n",
      "2 gender_imp\n",
      "3 number_imp\n",
      "4 case1_imp\n",
      "5 reflection_imp\n",
      "6 perfective_imp\n",
      "7 transitive_imp\n",
      "8 person_imp\n",
      "9 tense_imp\n",
      "10 voice_imp\n",
      "11 degree_imp\n",
      "12 static_imp\n",
      "0 4\n",
      "\n",
      "вставлено\n",
      "\n"
     ]
    }
   ],
   "source": [
    "insertModel2(\"вознесла\", parseToMorf(\"возницу\", morph.parse(\"возницу\")[0]), \"None\", db)"
   ]
  },
  {
   "cell_type": "code",
   "execution_count": 71,
   "metadata": {},
   "outputs": [
    {
     "name": "stdout",
     "output_type": "stream",
     "text": [
      "Выберите для данной модели важные свойства для главного слова (укажите в строку через пробел)\n",
      "\n",
      "0 s_cl_imp\n",
      "1 animate_imp\n",
      "2 gender_imp\n",
      "3 number_imp\n",
      "4 case1_imp\n",
      "5 reflection_imp\n",
      "6 perfective_imp\n",
      "7 transitive_imp\n",
      "8 person_imp\n",
      "9 tense_imp\n",
      "10 voice_imp\n",
      "11 degree_imp\n",
      "12 static_imp\n",
      "0\n",
      "Выберите для данной модели важные свойства для зависимого слова (укажите в строку через пробел)\n",
      "\n",
      "0 s_cl_imp\n",
      "1 animate_imp\n",
      "2 gender_imp\n",
      "3 number_imp\n",
      "4 case1_imp\n",
      "5 reflection_imp\n",
      "6 perfective_imp\n",
      "7 transitive_imp\n",
      "8 person_imp\n",
      "9 tense_imp\n",
      "10 voice_imp\n",
      "11 degree_imp\n",
      "12 static_imp\n",
      "0\n",
      "\n",
      "вставлено\n",
      "\n"
     ]
    }
   ],
   "source": [
    "insertModel2(\"ёжиться\", parseToMorf(\"быстро\", morph.parse(\"быстро\")[0]), \"None\", db)"
   ]
  },
  {
   "cell_type": "code",
   "execution_count": null,
   "metadata": {},
   "outputs": [],
   "source": [
    ""
   ]
  },
  {
   "cell_type": "code",
   "execution_count": 6,
   "metadata": {},
   "outputs": [],
   "source": [
    "#видеть(5 cлово, 1 важность) морф(папу(31 морф, 2 важность)), предлога нет(None - 122)\n",
    "db.execute(\"INSERT INTO model_2_level VALUES(DEFAULT, 5, 31, 1, 2, 122, 0.5)\")"
   ]
  },
  {
   "cell_type": "code",
   "execution_count": 7,
   "metadata": {},
   "outputs": [],
   "source": [
    "#видеть(5 cлово, 1 важность) морф(маму(32 морф, 2 важность)), предлога нет(None - 122)\n",
    "db.execute(\"INSERT INTO model_2_level VALUES(DEFAULT, 5, 32, 1, 2, 122, 0.5)\")"
   ]
  },
  {
   "cell_type": "code",
   "execution_count": 9,
   "metadata": {},
   "outputs": [
    {
     "data": {
      "text/plain": [
       "[(1, 5, 31, 1, 2, 122, 0.5), (2, 5, 32, 1, 2, 122, 0.5)]"
      ]
     },
     "execution_count": 9,
     "metadata": {},
     "output_type": "execute_result"
    }
   ],
   "source": [
    "db.query(\"SELECT * FROM model_2_level\")"
   ]
  },
  {
   "cell_type": "code",
   "execution_count": 10,
   "metadata": {},
   "outputs": [],
   "source": [
    "#любить(6 cлово, 1 важность) морф(папу(31 морф, 2 важность)), предлога нет(None - 122)\n",
    "db.execute(\"INSERT INTO model_2_level VALUES(DEFAULT, 6, 31, 1, 2, 122, 0.5)\")"
   ]
  },
  {
   "cell_type": "code",
   "execution_count": 11,
   "metadata": {},
   "outputs": [],
   "source": [
    "#любить(6 cлово, 1 важность) морф(маму(32 морф, 2 важность)), предлога нет(None - 122)\n",
    "db.execute(\"INSERT INTO model_2_level VALUES(DEFAULT, 6, 32, 1, 2, 122, 0.5)\")"
   ]
  },
  {
   "cell_type": "code",
   "execution_count": 12,
   "metadata": {},
   "outputs": [
    {
     "data": {
      "text/plain": [
       "[(1, 5, 31, 1, 2, 122, 0.5),\n",
       " (2, 5, 32, 1, 2, 122, 0.5),\n",
       " (3, 6, 31, 1, 2, 122, 0.5),\n",
       " (4, 6, 32, 1, 2, 122, 0.5)]"
      ]
     },
     "execution_count": 12,
     "metadata": {},
     "output_type": "execute_result"
    }
   ],
   "source": [
    "db.query(\"SELECT * FROM model_2_level\")"
   ]
  },
  {
   "cell_type": "code",
   "execution_count": null,
   "metadata": {},
   "outputs": [],
   "source": [
    ""
   ]
  },
  {
   "cell_type": "code",
   "execution_count": null,
   "metadata": {},
   "outputs": [],
   "source": [
    ""
   ]
  },
  {
   "cell_type": "code",
   "execution_count": 8,
   "metadata": {},
   "outputs": [],
   "source": [
    "db.execute(\"INSERT INTO model_2_level VALUES(DEFAULT, 4, 3, 0.6)\")"
   ]
  },
  {
   "cell_type": "code",
   "execution_count": 9,
   "metadata": {},
   "outputs": [
    {
     "data": {
      "text/plain": [
       "[(1, 4, 3, 0.6000000238418579)]"
      ]
     },
     "execution_count": 9,
     "metadata": {},
     "output_type": "execute_result"
    }
   ],
   "source": [
    "db.query(\"SELECT * FROM model_2_level\")"
   ]
  },
  {
   "cell_type": "code",
   "execution_count": 10,
   "metadata": {},
   "outputs": [],
   "source": [
    "db.execute(\"INSERT INTO model_2_level VALUES(DEFAULT, 4, 6, 0.6)\")"
   ]
  },
  {
   "cell_type": "code",
   "execution_count": 11,
   "metadata": {},
   "outputs": [
    {
     "data": {
      "text/plain": [
       "[(1, 4, 3, 0.6000000238418579), (2, 4, 6, 0.6000000238418579)]"
      ]
     },
     "execution_count": 11,
     "metadata": {},
     "output_type": "execute_result"
    }
   ],
   "source": [
    "db.query(\"SELECT * FROM model_2_level\")"
   ]
  },
  {
   "cell_type": "code",
   "execution_count": 66,
   "metadata": {},
   "outputs": [],
   "source": [
    "db.execute(\"DROP TABLE model_2_level\")"
   ]
  },
  {
   "cell_type": "code",
   "execution_count": null,
   "metadata": {},
   "outputs": [],
   "source": [
    ""
   ]
  }
 ],
 "metadata": {
  "kernelspec": {
   "display_name": "Python 3",
   "language": "python",
   "name": "python3"
  },
  "language_info": {
   "codemirror_mode": {
    "name": "ipython",
    "version": 3.0
   },
   "file_extension": ".py",
   "mimetype": "text/x-python",
   "name": "python",
   "nbconvert_exporter": "python",
   "pygments_lexer": "ipython3",
   "version": "3.5.2"
  }
 },
 "nbformat": 4,
 "nbformat_minor": 0
}