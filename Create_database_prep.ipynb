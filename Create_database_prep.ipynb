{
 "cells": [
  {
   "cell_type": "code",
   "execution_count": null,
   "metadata": {},
   "outputs": [],
   "source": [
    "import postgresql"
   ]
  },
  {
   "cell_type": "code",
   "execution_count": 2,
   "metadata": {},
   "outputs": [],
   "source": [
    "db = postgresql.open('pq://derin:qwerty@localhost:5432/models')"
   ]
  },
  {
   "cell_type": "code",
   "execution_count": 4,
   "metadata": {},
   "outputs": [
    {
     "ename": "DuplicateTableError",
     "evalue": "relation \"prep\" already exists\n  CODE: 42P07\n  LOCATION: File 'heap.c', line 1066, in heap_create_with_catalog from SERVER\nCONNECTION: [idle]\n  client_address: 127.0.0.1/32\n  client_port: 51232\n  version:\n    PostgreSQL 9.5.14 on x86_64-pc-linux-gnu, compiled by gcc (Ubuntu 5.4.0-6ubuntu1~16.04.10) 5.4.0 20160609, 64-bit\nCONNECTOR: [Host] pq://derin:***@localhost:5432/models\n  category: None\nDRIVER: postgresql.driver.pq3.Driver",
     "traceback": [
      "\u001b[0;31m---------------------------------------------------------------------------\u001b[0m",
      "\u001b[0;31mDuplicateTableError\u001b[0m                       Traceback (most recent call last)",
      "\u001b[0;32m<ipython-input-4-ccebf39c34d4>\u001b[0m in \u001b[0;36m<module>\u001b[0;34m\u001b[0m\n\u001b[1;32m      1\u001b[0m db.execute(\"CREATE TABLE prep (number_prep serial PRIMARY KEY\\\n\u001b[0;32m----> 2\u001b[0;31m                 , prep_text Epreposition)\")\n\u001b[0m",
      "\u001b[0;32m/usr/lib/python3/dist-packages/postgresql/driver/pq3.py\u001b[0m in \u001b[0;36mexecute\u001b[0;34m(self, query)\u001b[0m\n\u001b[1;32m   2304\u001b[0m \t\t)\n\u001b[1;32m   2305\u001b[0m                 \u001b[0mself\u001b[0m\u001b[0;34m.\u001b[0m\u001b[0m_pq_push\u001b[0m\u001b[0;34m(\u001b[0m\u001b[0mq\u001b[0m\u001b[0;34m,\u001b[0m \u001b[0mself\u001b[0m\u001b[0;34m)\u001b[0m\u001b[0;34m\u001b[0m\u001b[0m\n\u001b[0;32m-> 2306\u001b[0;31m                 \u001b[0mself\u001b[0m\u001b[0;34m.\u001b[0m\u001b[0m_pq_complete\u001b[0m\u001b[0;34m(\u001b[0m\u001b[0;34m)\u001b[0m\u001b[0;34m\u001b[0m\u001b[0m\n\u001b[0m\u001b[1;32m   2307\u001b[0m \u001b[0;34m\u001b[0m\u001b[0m\n\u001b[1;32m   2308\u001b[0m \tdef do(self, language : str, source : str,\n",
      "\u001b[0;32m/usr/lib/python3/dist-packages/postgresql/driver/pq3.py\u001b[0m in \u001b[0;36m_pq_complete\u001b[0;34m(self)\u001b[0m\n\u001b[1;32m   2602\u001b[0m                         \u001b[0;31m# Raise an error *iff* one occurred.\u001b[0m\u001b[0;34m\u001b[0m\u001b[0;34m\u001b[0m\u001b[0m\n\u001b[1;32m   2603\u001b[0m                         \u001b[0;32mif\u001b[0m \u001b[0mx\u001b[0m\u001b[0;34m.\u001b[0m\u001b[0mfatal\u001b[0m \u001b[0;32mis\u001b[0m \u001b[0;32mnot\u001b[0m \u001b[0;32mNone\u001b[0m\u001b[0;34m:\u001b[0m\u001b[0;34m\u001b[0m\u001b[0m\n\u001b[0;32m-> 2604\u001b[0;31m                                 \u001b[0mself\u001b[0m\u001b[0;34m.\u001b[0m\u001b[0mtypio\u001b[0m\u001b[0;34m.\u001b[0m\u001b[0mraise_error\u001b[0m\u001b[0;34m(\u001b[0m\u001b[0mx\u001b[0m\u001b[0;34m.\u001b[0m\u001b[0merror_message\u001b[0m\u001b[0;34m,\u001b[0m \u001b[0mcause\u001b[0m \u001b[0;34m=\u001b[0m \u001b[0mgetattr\u001b[0m\u001b[0;34m(\u001b[0m\u001b[0mx\u001b[0m\u001b[0;34m,\u001b[0m \u001b[0;34m'exception'\u001b[0m\u001b[0;34m,\u001b[0m \u001b[0;32mNone\u001b[0m\u001b[0;34m)\u001b[0m\u001b[0;34m)\u001b[0m\u001b[0;34m\u001b[0m\u001b[0m\n\u001b[0m\u001b[1;32m   2605\u001b[0m                         \u001b[0;32mdel\u001b[0m \u001b[0mself\u001b[0m\u001b[0;34m.\u001b[0m\u001b[0m_controller\u001b[0m\u001b[0;34m\u001b[0m\u001b[0m\n\u001b[1;32m   2606\u001b[0m \u001b[0;34m\u001b[0m\u001b[0m\n",
      "\u001b[0;32m/usr/lib/python3/dist-packages/postgresql/driver/pq3.py\u001b[0m in \u001b[0;36mraise_error\u001b[0;34m(self, error_message, ClientError, **kw)\u001b[0m\n\u001b[1;32m    539\u001b[0m                         \u001b[0mself\u001b[0m\u001b[0;34m.\u001b[0m\u001b[0mraise_client_error\u001b[0m\u001b[0;34m(\u001b[0m\u001b[0merror_message\u001b[0m\u001b[0;34m,\u001b[0m \u001b[0;34m**\u001b[0m\u001b[0mkw\u001b[0m\u001b[0;34m)\u001b[0m\u001b[0;34m\u001b[0m\u001b[0m\n\u001b[1;32m    540\u001b[0m                 \u001b[0;32melse\u001b[0m\u001b[0;34m:\u001b[0m\u001b[0;34m\u001b[0m\u001b[0m\n\u001b[0;32m--> 541\u001b[0;31m                         \u001b[0mself\u001b[0m\u001b[0;34m.\u001b[0m\u001b[0mraise_server_error\u001b[0m\u001b[0;34m(\u001b[0m\u001b[0merror_message\u001b[0m\u001b[0;34m,\u001b[0m \u001b[0;34m**\u001b[0m\u001b[0mkw\u001b[0m\u001b[0;34m)\u001b[0m\u001b[0;34m\u001b[0m\u001b[0m\n\u001b[0m\u001b[1;32m    542\u001b[0m \u001b[0;34m\u001b[0m\u001b[0m\n\u001b[1;32m    543\u001b[0m         \u001b[0;31m##\u001b[0m\u001b[0;34m\u001b[0m\u001b[0;34m\u001b[0m\u001b[0m\n",
      "\u001b[0;32m/usr/lib/python3/dist-packages/postgresql/driver/pq3.py\u001b[0m in \u001b[0;36mraise_server_error\u001b[0;34m(self, error_message, cause, creator)\u001b[0m\n\u001b[1;32m    530\u001b[0m                         \u001b[0;32mraise\u001b[0m \u001b[0mserver_error\u001b[0m \u001b[0;32mfrom\u001b[0m \u001b[0mcause\u001b[0m\u001b[0;34m\u001b[0m\u001b[0m\n\u001b[1;32m    531\u001b[0m                 \u001b[0;32melse\u001b[0m\u001b[0;34m:\u001b[0m\u001b[0;34m\u001b[0m\u001b[0m\n\u001b[0;32m--> 532\u001b[0;31m                         \u001b[0;32mraise\u001b[0m \u001b[0mserver_error\u001b[0m\u001b[0;34m\u001b[0m\u001b[0m\n\u001b[0m\u001b[1;32m    533\u001b[0m \u001b[0;34m\u001b[0m\u001b[0m\n\u001b[1;32m    534\u001b[0m         \u001b[0;32mdef\u001b[0m \u001b[0mraise_error\u001b[0m\u001b[0;34m(\u001b[0m\u001b[0mself\u001b[0m\u001b[0;34m,\u001b[0m \u001b[0merror_message\u001b[0m\u001b[0;34m,\u001b[0m \u001b[0mClientError\u001b[0m \u001b[0;34m=\u001b[0m \u001b[0melement\u001b[0m\u001b[0;34m.\u001b[0m\u001b[0mClientError\u001b[0m\u001b[0;34m,\u001b[0m \u001b[0;34m**\u001b[0m\u001b[0mkw\u001b[0m\u001b[0;34m)\u001b[0m\u001b[0;34m:\u001b[0m\u001b[0;34m\u001b[0m\u001b[0m\n",
      "\u001b[0;31mDuplicateTableError\u001b[0m: relation \"prep\" already exists\n  CODE: 42P07\n  LOCATION: File 'heap.c', line 1066, in heap_create_with_catalog from SERVER\nCONNECTION: [idle]\n  client_address: 127.0.0.1/32\n  client_port: 51232\n  version:\n    PostgreSQL 9.5.14 on x86_64-pc-linux-gnu, compiled by gcc (Ubuntu 5.4.0-6ubuntu1~16.04.10) 5.4.0 20160609, 64-bit\nCONNECTOR: [Host] pq://derin:***@localhost:5432/models\n  category: None\nDRIVER: postgresql.driver.pq3.Driver"
     ],
     "output_type": "error"
    }
   ],
   "source": [
    "db.execute(\"CREATE TABLE prep (number_prep serial PRIMARY KEY\\\n",
    "                , prep_text Epreposition)\")"
   ]
  },
  {
   "cell_type": "code",
   "execution_count": null,
   "metadata": {},
   "outputs": [],
   "source": [
    "'а-ля','без','безо','благодаря','близ','в','во','вблизи','ввиду','вдоль','взамен','включая','вкруг','вместо','вне','внизу','внутри','внутрь','вовнутрь','возле','вокруг','вопреки','вослед','вперёд','впереди','вроде','вслед','вследствие','выключая','выше','для','до','за','из','изо','из-за','изнутри','из-под','из-подо','исключая','к','ко','касаемо','касательно','кроме','кругом','меж','между','мимо','на','над','надо','накануне','наместо','наперекор','наподобие','напротив','насупротив','насчёт','ниже','о','об','обо','около','окрест','опричь','от','ото','относительно','перед','передо','по','поверх','под','подо','подле','подобно','по-за','позади','позадь','помимо','по-над','поперёк','посереди','посередине','после','посередь','посреди','посредине','посредством','пред','предо','прежде','при','про','промеж','промежду','против','путём','ради','с','со','сверх','сверху','свыше','середь','сзади','сквозь','снизу','согласно','сообразно','соответственно','соразмерно','спереди','спустя','среди','средь','супротив','у','через','чрез','None'"
   ]
  },
  {
   "cell_type": "code",
   "execution_count": 7,
   "metadata": {},
   "outputs": [
    {
     "name": "stdout",
     "output_type": "stream",
     "text": [
      "'а-ля','без','безо','благодаря','близ','в','во','вблизи','ввиду','вдоль','взамен','включая','вкруг','вместо','вне','внизу','внутри','внутрь','вовнутрь','возле','вокруг','вопреки','вослед','вперёд','впереди','вроде','вслед','вследствие','выключая','выше','для','до','за','из','изо','из-за','изнутри','из-под','из-подо','исключая','к','ко','касаемо','касательно','кроме','кругом','меж','между','мимо','на','над','надо','накануне','наместо','наперекор','наподобие','напротив','насупротив','насчёт','ниже','о','об','обо','около','окрест','опричь','от','ото','относительно','перед','передо','по','поверх','под','подо','подле','подобно','по-за','позади','позадь','помимо','по-над','поперёк','посереди','посередине','после','посередь','посреди','посредине','посредством','пред','предо','прежде','при','про','промеж','промежду','против','путём','ради','с','со','сверх','сверху','свыше','середь','сзади','сквозь','снизу','согласно','сообразно','соответственно','соразмерно','спереди','спустя','среди','средь','супротив','у','через','чрез','None'\n"
     ]
    }
   ],
   "source": [
    "s = input().replace(\"\\'\", \"\").split(',')"
   ]
  },
  {
   "cell_type": "code",
   "execution_count": 11,
   "metadata": {},
   "outputs": [
    {
     "data": {
      "text/plain": [
       "'а'"
      ]
     },
     "execution_count": 11,
     "metadata": {},
     "output_type": "execute_result"
    }
   ],
   "source": [
    "s[0][0]"
   ]
  },
  {
   "cell_type": "code",
   "execution_count": 20,
   "metadata": {},
   "outputs": [
    {
     "name": "stdout",
     "output_type": "stream",
     "text": [
      "а-ля\n",
      "INSERT INTO prep VALUES(DEFAULT,'а-ля')\n",
      "без\n",
      "INSERT INTO prep VALUES(DEFAULT,'без')\n",
      "безо\n",
      "INSERT INTO prep VALUES(DEFAULT,'безо')\n",
      "благодаря\n",
      "INSERT INTO prep VALUES(DEFAULT,'благодаря')\n",
      "близ\n",
      "INSERT INTO prep VALUES(DEFAULT,'близ')\n",
      "в\n",
      "INSERT INTO prep VALUES(DEFAULT,'в')\n",
      "во\n",
      "INSERT INTO prep VALUES(DEFAULT,'во')\n",
      "вблизи\n",
      "INSERT INTO prep VALUES(DEFAULT,'вблизи')\n",
      "ввиду\n",
      "INSERT INTO prep VALUES(DEFAULT,'ввиду')\n",
      "вдоль\n",
      "INSERT INTO prep VALUES(DEFAULT,'вдоль')\n",
      "взамен\n",
      "INSERT INTO prep VALUES(DEFAULT,'взамен')\n",
      "включая\n",
      "INSERT INTO prep VALUES(DEFAULT,'включая')\n",
      "вкруг\n",
      "INSERT INTO prep VALUES(DEFAULT,'вкруг')\n",
      "вместо\n",
      "INSERT INTO prep VALUES(DEFAULT,'вместо')\n",
      "вне\n",
      "INSERT INTO prep VALUES(DEFAULT,'вне')\n",
      "внизу\n",
      "INSERT INTO prep VALUES(DEFAULT,'внизу')\n",
      "внутри\n",
      "INSERT INTO prep VALUES(DEFAULT,'внутри')\n",
      "внутрь\n",
      "INSERT INTO prep VALUES(DEFAULT,'внутрь')\n",
      "вовнутрь\n",
      "INSERT INTO prep VALUES(DEFAULT,'вовнутрь')\n",
      "возле\n",
      "INSERT INTO prep VALUES(DEFAULT,'возле')\n",
      "вокруг\n",
      "INSERT INTO prep VALUES(DEFAULT,'вокруг')\n",
      "вопреки\n",
      "INSERT INTO prep VALUES(DEFAULT,'вопреки')\n",
      "вослед\n",
      "INSERT INTO prep VALUES(DEFAULT,'вослед')\n",
      "вперёд\n",
      "INSERT INTO prep VALUES(DEFAULT,'вперёд')\n",
      "впереди\n",
      "INSERT INTO prep VALUES(DEFAULT,'впереди')\n",
      "вроде\n",
      "INSERT INTO prep VALUES(DEFAULT,'вроде')\n",
      "вслед\n",
      "INSERT INTO prep VALUES(DEFAULT,'вслед')\n",
      "вследствие\n",
      "INSERT INTO prep VALUES(DEFAULT,'вследствие')\n",
      "выключая\n",
      "INSERT INTO prep VALUES(DEFAULT,'выключая')\n",
      "выше\n",
      "INSERT INTO prep VALUES(DEFAULT,'выше')\n",
      "для\n",
      "INSERT INTO prep VALUES(DEFAULT,'для')\n",
      "до\n",
      "INSERT INTO prep VALUES(DEFAULT,'до')\n",
      "за\n",
      "INSERT INTO prep VALUES(DEFAULT,'за')\n",
      "из\n",
      "INSERT INTO prep VALUES(DEFAULT,'из')\n",
      "изо\n",
      "INSERT INTO prep VALUES(DEFAULT,'изо')\n",
      "из-за\n",
      "INSERT INTO prep VALUES(DEFAULT,'из-за')\n",
      "изнутри\n",
      "INSERT INTO prep VALUES(DEFAULT,'изнутри')\n",
      "из-под\n",
      "INSERT INTO prep VALUES(DEFAULT,'из-под')\n",
      "из-подо\n",
      "INSERT INTO prep VALUES(DEFAULT,'из-подо')\n",
      "исключая\n",
      "INSERT INTO prep VALUES(DEFAULT,'исключая')\n",
      "к\n",
      "INSERT INTO prep VALUES(DEFAULT,'к')\n",
      "ко\n",
      "INSERT INTO prep VALUES(DEFAULT,'ко')\n",
      "касаемо\n",
      "INSERT INTO prep VALUES(DEFAULT,'касаемо')\n",
      "касательно\n",
      "INSERT INTO prep VALUES(DEFAULT,'касательно')\n",
      "кроме\n",
      "INSERT INTO prep VALUES(DEFAULT,'кроме')\n",
      "кругом\n",
      "INSERT INTO prep VALUES(DEFAULT,'кругом')\n",
      "меж\n",
      "INSERT INTO prep VALUES(DEFAULT,'меж')\n",
      "между\n",
      "INSERT INTO prep VALUES(DEFAULT,'между')\n",
      "мимо\n",
      "INSERT INTO prep VALUES(DEFAULT,'мимо')\n",
      "на\n",
      "INSERT INTO prep VALUES(DEFAULT,'на')\n",
      "над\n",
      "INSERT INTO prep VALUES(DEFAULT,'над')\n",
      "надо\n",
      "INSERT INTO prep VALUES(DEFAULT,'надо')\n",
      "накануне\n",
      "INSERT INTO prep VALUES(DEFAULT,'накануне')\n",
      "наместо\n",
      "INSERT INTO prep VALUES(DEFAULT,'наместо')\n",
      "наперекор\n",
      "INSERT INTO prep VALUES(DEFAULT,'наперекор')\n",
      "наподобие\n",
      "INSERT INTO prep VALUES(DEFAULT,'наподобие')\n",
      "напротив\n",
      "INSERT INTO prep VALUES(DEFAULT,'напротив')\n",
      "насупротив\n",
      "INSERT INTO prep VALUES(DEFAULT,'насупротив')\n",
      "насчёт\n",
      "INSERT INTO prep VALUES(DEFAULT,'насчёт')\n",
      "ниже\n",
      "INSERT INTO prep VALUES(DEFAULT,'ниже')\n",
      "о\n",
      "INSERT INTO prep VALUES(DEFAULT,'о')\n",
      "об\n",
      "INSERT INTO prep VALUES(DEFAULT,'об')\n",
      "обо\n",
      "INSERT INTO prep VALUES(DEFAULT,'обо')\n",
      "около\n",
      "INSERT INTO prep VALUES(DEFAULT,'около')\n",
      "окрест\n",
      "INSERT INTO prep VALUES(DEFAULT,'окрест')\n",
      "опричь\n",
      "INSERT INTO prep VALUES(DEFAULT,'опричь')\n",
      "от\n",
      "INSERT INTO prep VALUES(DEFAULT,'от')\n",
      "ото\n",
      "INSERT INTO prep VALUES(DEFAULT,'ото')\n",
      "относительно\n",
      "INSERT INTO prep VALUES(DEFAULT,'относительно')\n",
      "перед\n",
      "INSERT INTO prep VALUES(DEFAULT,'перед')\n",
      "передо\n",
      "INSERT INTO prep VALUES(DEFAULT,'передо')\n",
      "по\n",
      "INSERT INTO prep VALUES(DEFAULT,'по')\n",
      "поверх\n",
      "INSERT INTO prep VALUES(DEFAULT,'поверх')\n",
      "под\n",
      "INSERT INTO prep VALUES(DEFAULT,'под')\n",
      "подо\n",
      "INSERT INTO prep VALUES(DEFAULT,'подо')\n",
      "подле\n",
      "INSERT INTO prep VALUES(DEFAULT,'подле')\n",
      "подобно\n",
      "INSERT INTO prep VALUES(DEFAULT,'подобно')\n",
      "по-за\n",
      "INSERT INTO prep VALUES(DEFAULT,'по-за')\n",
      "позади\n",
      "INSERT INTO prep VALUES(DEFAULT,'позади')\n",
      "позадь\n",
      "INSERT INTO prep VALUES(DEFAULT,'позадь')\n",
      "помимо\n",
      "INSERT INTO prep VALUES(DEFAULT,'помимо')\n",
      "по-над\n",
      "INSERT INTO prep VALUES(DEFAULT,'по-над')\n",
      "поперёк\n",
      "INSERT INTO prep VALUES(DEFAULT,'поперёк')\n",
      "посереди\n",
      "INSERT INTO prep VALUES(DEFAULT,'посереди')\n",
      "посередине\n",
      "INSERT INTO prep VALUES(DEFAULT,'посередине')\n",
      "после\n",
      "INSERT INTO prep VALUES(DEFAULT,'после')\n",
      "посередь\n",
      "INSERT INTO prep VALUES(DEFAULT,'посередь')\n",
      "посреди\n",
      "INSERT INTO prep VALUES(DEFAULT,'посреди')\n",
      "посредине\n",
      "INSERT INTO prep VALUES(DEFAULT,'посредине')\n",
      "посредством\n",
      "INSERT INTO prep VALUES(DEFAULT,'посредством')\n",
      "пред\n",
      "INSERT INTO prep VALUES(DEFAULT,'пред')\n",
      "предо\n",
      "INSERT INTO prep VALUES(DEFAULT,'предо')\n",
      "прежде\n",
      "INSERT INTO prep VALUES(DEFAULT,'прежде')\n",
      "при\n",
      "INSERT INTO prep VALUES(DEFAULT,'при')\n",
      "про\n",
      "INSERT INTO prep VALUES(DEFAULT,'про')\n",
      "промеж\n",
      "INSERT INTO prep VALUES(DEFAULT,'промеж')\n",
      "промежду\n",
      "INSERT INTO prep VALUES(DEFAULT,'промежду')\n",
      "против\n",
      "INSERT INTO prep VALUES(DEFAULT,'против')\n",
      "путём\n",
      "INSERT INTO prep VALUES(DEFAULT,'путём')\n",
      "ради\n",
      "INSERT INTO prep VALUES(DEFAULT,'ради')\n",
      "с\n",
      "INSERT INTO prep VALUES(DEFAULT,'с')\n",
      "со\n",
      "INSERT INTO prep VALUES(DEFAULT,'со')\n",
      "сверх\n",
      "INSERT INTO prep VALUES(DEFAULT,'сверх')\n",
      "сверху\n",
      "INSERT INTO prep VALUES(DEFAULT,'сверху')\n",
      "свыше\n",
      "INSERT INTO prep VALUES(DEFAULT,'свыше')\n",
      "середь\n",
      "INSERT INTO prep VALUES(DEFAULT,'середь')\n",
      "сзади\n",
      "INSERT INTO prep VALUES(DEFAULT,'сзади')\n",
      "сквозь\n",
      "INSERT INTO prep VALUES(DEFAULT,'сквозь')\n",
      "снизу\n",
      "INSERT INTO prep VALUES(DEFAULT,'снизу')\n",
      "согласно\n",
      "INSERT INTO prep VALUES(DEFAULT,'согласно')\n",
      "сообразно\n",
      "INSERT INTO prep VALUES(DEFAULT,'сообразно')\n",
      "соответственно\n",
      "INSERT INTO prep VALUES(DEFAULT,'соответственно')\n",
      "соразмерно\n",
      "INSERT INTO prep VALUES(DEFAULT,'соразмерно')\n",
      "спереди\n",
      "INSERT INTO prep VALUES(DEFAULT,'спереди')\n",
      "спустя\n",
      "INSERT INTO prep VALUES(DEFAULT,'спустя')\n",
      "среди\n",
      "INSERT INTO prep VALUES(DEFAULT,'среди')\n",
      "средь\n",
      "INSERT INTO prep VALUES(DEFAULT,'средь')\n",
      "супротив\n",
      "INSERT INTO prep VALUES(DEFAULT,'супротив')\n",
      "у\n",
      "INSERT INTO prep VALUES(DEFAULT,'у')\n",
      "через\n",
      "INSERT INTO prep VALUES(DEFAULT,'через')\n",
      "чрез\n",
      "INSERT INTO prep VALUES(DEFAULT,'чрез')\n",
      "None\n",
      "INSERT INTO prep VALUES(DEFAULT,'None')\n"
     ]
    }
   ],
   "source": [
    "for i in s:\n",
    "    print(i)\n",
    "    s1 = \"INSERT INTO prep VALUES(DEFAULT,\\'\" + i + \"\\')\"\n",
    "    db.execute(s1)\n",
    "    print(s1)"
   ]
  },
  {
   "cell_type": "code",
   "execution_count": 21,
   "metadata": {},
   "outputs": [
    {
     "data": {
      "text/plain": [
       "[(122, 'None')]"
      ]
     },
     "execution_count": 21,
     "metadata": {},
     "output_type": "execute_result"
    }
   ],
   "source": [
    "db.query(\"SELECT * FROM prep WHERE prep_text = 'None'\")"
   ]
  },
  {
   "cell_type": "code",
   "execution_count": 3,
   "metadata": {},
   "outputs": [],
   "source": [
    "allPreps = db.query(\"SELECT * FROM prep\")"
   ]
  },
  {
   "cell_type": "code",
   "execution_count": 5,
   "metadata": {},
   "outputs": [],
   "source": [
    "import pymorphy2\n",
    "morph = pymorphy2.MorphAnalyzer()"
   ]
  },
  {
   "cell_type": "code",
   "execution_count": 8,
   "metadata": {},
   "outputs": [],
   "source": [
    "count = 0\n",
    "for cur in allPreps:\n",
    "    curPrep = cur[1]\n",
    "    p = morph.parse(curPrep)\n",
    "    if (len(p) > 1):\n",
    "        count += 1"
   ]
  },
  {
   "cell_type": "code",
   "execution_count": 9,
   "metadata": {},
   "outputs": [
    {
     "data": {
      "text/plain": [
       "72"
      ]
     },
     "execution_count": 9,
     "metadata": {},
     "output_type": "execute_result"
    }
   ],
   "source": [
    "count"
   ]
  },
  {
   "cell_type": "code",
   "execution_count": 4,
   "metadata": {},
   "outputs": [],
   "source": [
    "#db.execute(\"DROP TABLE prep\")"
   ]
  },
  {
   "cell_type": "code",
   "execution_count": 7,
   "metadata": {
    "scrolled": true
   },
   "outputs": [
    {
     "name": "stdout",
     "output_type": "stream",
     "text": [
      "0.09215561224489797\n",
      "0.12117346938775511\n",
      "0.09141156462585033\n",
      "0.13010204081632656\n"
     ]
    }
   ],
   "source": [
    "lambda1 = 0.5\n",
    "x = (lambda1 * 0.25 + (1 - lambda1) * 5/14) * (lambda1 * 0.25 + (1 - lambda1) * 5/14) \n",
    "y = (lambda1 * 1 + (1 - lambda1) * 5/14) * (lambda1 * 0 + (1 - lambda1) * 5/14)\n",
    "z = (lambda1 * 0 + (1 - lambda1) * 5/14) * (lambda1 * 2/3 + (1 - lambda1) * 5/14) \n",
    "t = (lambda1 * 0.25 + (1 - lambda1) * 5/14) * (lambda1 * 0.5 + (1 - lambda1) * 5/14) \n",
    "print(x)\n",
    "print(y)\n",
    "print(z)\n",
    "print(t)"
   ]
  },
  {
   "cell_type": "code",
   "execution_count": null,
   "metadata": {},
   "outputs": [],
   "source": [
    ""
   ]
  }
 ],
 "metadata": {
  "kernelspec": {
   "display_name": "Python 3",
   "language": "python",
   "name": "python3"
  },
  "language_info": {
   "codemirror_mode": {
    "name": "ipython",
    "version": 3.0
   },
   "file_extension": ".py",
   "mimetype": "text/x-python",
   "name": "python",
   "nbconvert_exporter": "python",
   "pygments_lexer": "ipython3",
   "version": "3.5.2"
  }
 },
 "nbformat": 4,
 "nbformat_minor": 0
}