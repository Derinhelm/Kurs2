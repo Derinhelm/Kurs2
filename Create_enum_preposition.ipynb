{
 "cells": [
  {
   "cell_type": "code",
   "execution_count": 1,
   "metadata": {},
   "outputs": [],
   "source": [
    "import postgresql"
   ]
  },
  {
   "cell_type": "code",
   "execution_count": 2,
   "metadata": {},
   "outputs": [],
   "source": [
    "db = postgresql.open('pq://derin:qwerty@localhost:5432/gpatterns')"
   ]
  },
  {
   "cell_type": "code",
   "execution_count": 3,
   "metadata": {},
   "outputs": [
    {
     "data": {
      "text/plain": [
       "<postgresql.driver.pq3.Connection[pq://derin:***@localhost:5432/gpatterns] b'I'>"
      ]
     },
     "execution_count": 3,
     "metadata": {},
     "output_type": "execute_result"
    }
   ],
   "source": [
    "db"
   ]
  },
  {
   "cell_type": "code",
   "execution_count": 4,
   "metadata": {},
   "outputs": [
    {
     "data": {
      "text/plain": [
       "[(1, 'а-ля'),\n",
       " (2, 'без'),\n",
       " (3, 'безо'),\n",
       " (4, 'благодаря'),\n",
       " (5, 'близ'),\n",
       " (6, 'в'),\n",
       " (7, 'во'),\n",
       " (8, 'вблизи'),\n",
       " (9, 'ввиду'),\n",
       " (10, 'вдоль'),\n",
       " (11, 'взамен'),\n",
       " (12, 'включая'),\n",
       " (13, 'вкруг'),\n",
       " (14, 'вместо'),\n",
       " (15, 'вне'),\n",
       " (16, 'внизу'),\n",
       " (17, 'внутри'),\n",
       " (18, 'внутрь'),\n",
       " (19, 'вовнутрь'),\n",
       " (20, 'возле'),\n",
       " (21, 'вокруг'),\n",
       " (22, 'вопреки'),\n",
       " (23, 'вослед'),\n",
       " (24, 'вперёд'),\n",
       " (25, 'впереди'),\n",
       " (26, 'вроде'),\n",
       " (27, 'вслед'),\n",
       " (28, 'вследствие'),\n",
       " (29, 'выключая'),\n",
       " (30, 'выше'),\n",
       " (31, 'для'),\n",
       " (32, 'до'),\n",
       " (33, 'за'),\n",
       " (34, 'из'),\n",
       " (35, 'изо'),\n",
       " (36, 'из-за'),\n",
       " (37, 'изнутри'),\n",
       " (38, 'из-под'),\n",
       " (39, 'из-подо'),\n",
       " (40, 'исключая'),\n",
       " (41, 'к'),\n",
       " (42, 'ко'),\n",
       " (43, 'касаемо'),\n",
       " (44, 'касательно'),\n",
       " (45, 'кроме'),\n",
       " (46, 'кругом'),\n",
       " (47, 'меж'),\n",
       " (48, 'между'),\n",
       " (49, 'мимо'),\n",
       " (50, 'на'),\n",
       " (51, 'над'),\n",
       " (52, 'надо'),\n",
       " (53, 'накануне'),\n",
       " (54, 'наместо'),\n",
       " (55, 'наперекор'),\n",
       " (56, 'наподобие'),\n",
       " (57, 'напротив'),\n",
       " (58, 'насупротив'),\n",
       " (59, 'насчёт'),\n",
       " (60, 'ниже'),\n",
       " (61, 'о'),\n",
       " (62, 'об'),\n",
       " (63, 'обо'),\n",
       " (64, 'около'),\n",
       " (65, 'окрест'),\n",
       " (66, 'опричь'),\n",
       " (67, 'от'),\n",
       " (68, 'ото'),\n",
       " (69, 'относительно'),\n",
       " (70, 'перед'),\n",
       " (71, 'передо'),\n",
       " (72, 'по'),\n",
       " (73, 'поверх'),\n",
       " (74, 'под'),\n",
       " (75, 'подо'),\n",
       " (76, 'подле'),\n",
       " (77, 'подобно'),\n",
       " (78, 'по-за'),\n",
       " (79, 'позади'),\n",
       " (80, 'позадь'),\n",
       " (81, 'помимо'),\n",
       " (82, 'по-над'),\n",
       " (83, 'поперёк'),\n",
       " (84, 'посереди'),\n",
       " (85, 'посередине'),\n",
       " (86, 'после'),\n",
       " (87, 'посередь'),\n",
       " (88, 'посреди'),\n",
       " (89, 'посредине'),\n",
       " (90, 'посредством'),\n",
       " (91, 'пред'),\n",
       " (92, 'предо'),\n",
       " (93, 'прежде'),\n",
       " (94, 'при'),\n",
       " (95, 'про'),\n",
       " (96, 'промеж'),\n",
       " (97, 'промежду'),\n",
       " (98, 'против'),\n",
       " (99, 'путём'),\n",
       " (100, 'ради'),\n",
       " (101, 'с'),\n",
       " (102, 'со'),\n",
       " (103, 'сверх'),\n",
       " (104, 'сверху'),\n",
       " (105, 'свыше'),\n",
       " (106, 'середь'),\n",
       " (107, 'сзади'),\n",
       " (108, 'сквозь'),\n",
       " (109, 'снизу'),\n",
       " (110, 'согласно'),\n",
       " (111, 'сообразно'),\n",
       " (112, 'соответственно'),\n",
       " (113, 'соразмерно'),\n",
       " (114, 'спереди'),\n",
       " (115, 'спустя'),\n",
       " (116, 'среди'),\n",
       " (117, 'средь'),\n",
       " (118, 'супротив'),\n",
       " (119, 'у'),\n",
       " (120, 'через'),\n",
       " (121, 'чрез'),\n",
       " (122, 'None')]"
      ]
     },
     "execution_count": 4,
     "metadata": {},
     "output_type": "execute_result"
    }
   ],
   "source": [
    "db.query(\"SELECT * FROM prep;\")"
   ]
  },
  {
   "cell_type": "code",
   "execution_count": 4,
   "metadata": {},
   "outputs": [
    {
     "ename": "SyntaxError",
     "evalue": "invalid syntax (<ipython-input-4-0732bbece34d>, line 1)",
     "output_type": "error",
     "traceback": [
      "\u001b[0;36m  File \u001b[0;32m\"<ipython-input-4-0732bbece34d>\"\u001b[0;36m, line \u001b[0;32m1\u001b[0m\n\u001b[0;31m    Зализняк http://www.rusgram.ru/%D0%9F%D1%80%D0%B5%D0%B4%D0%BB%D0%BE%D0%B3#11\u001b[0m\n\u001b[0m                ^\u001b[0m\n\u001b[0;31mSyntaxError\u001b[0m\u001b[0;31m:\u001b[0m invalid syntax\n"
     ]
    }
   ],
   "source": [
    "Зализняк http://www.rusgram.ru/%D0%9F%D1%80%D0%B5%D0%B4%D0%BB%D0%BE%D0%B3#11\n",
    "а-ля, без(о), благодаря, близ, в(о), вблизи, ввиду, вдоль, взамен, включая, вкось, вкруг, вместо, вне, внизу, внутри, внутрь, вовнутрь, возле, вокруг, вопреки, вослед, вперёд, впереди, вроде, вслед, вследствие, выключая, выше, для, до, за, из(о), из-за, изнутри, из-под(о), исключая, к(о), касаемо, касательно, кроме, кругом, меж, между, мимо, на, над(о), накануне, наместо, наперекор, наперерез, наподобие, напротив, насупротив, насчёт, ниже, о(б)(о), около, окрест, округ, опричь, от(о), относительно, перед(о), по, поверх, под(о), подле, подобно, по-за, позади, позадь, помимо, по-над, поперёк, посереди, посередине, после, посередь, посреди, посредине, посредством, превыше, пред(о), прежде, при, про, промеж, промежду, против, путём, ради, с(о), сверх, сверху, свыше, середь, сзади, сквозь, снизу, согласно, сообразно, соответственно, соразмерно, спереди, спустя, среди, средь, супротив, у, через, чрез"
   ]
  },
  {
   "cell_type": "code",
   "execution_count": null,
   "metadata": {},
   "outputs": [],
   "source": [
    "а-ля\n",
    "\n",
    "Б\n",
    "\n",
    "    без\n",
    "    без ведома\n",
    "    безо\n",
    "    благодаря\n",
    "    близ\n",
    "    близко от\n",
    "\n",
    "В\n",
    "\n",
    "    в\n",
    "    в виде\n",
    "    в зависимости от\n",
    "    в интересах\n",
    "    в качестве\n",
    "    в лице\n",
    "    в отличие от\n",
    "    в отношении\n",
    "    в пандан\n",
    "    в пользу\n",
    "    в преддверии\n",
    "    в продолжение\n",
    "    в результате\n",
    "    в роли\n",
    "    в связи с\n",
    "    в силу\n",
    "    в случае\n",
    "    в соответствии с\n",
    "    в течение\n",
    "    в целях\n",
    "    в честь\n",
    "    вблизи\n",
    "    ввиду\n",
    "    вглубь\n",
    "    вдогон\n",
    "    вдоль\n",
    "    вдоль по\n",
    "    взамен\n",
    "    включая\n",
    "    вкруг\n",
    "    вместо\n",
    "    вне\n",
    "    внизу\n",
    "    внутри\n",
    "    внутрь\n",
    "    во\n",
    "    во имя\n",
    "    во славу\n",
    "    вовнутрь\n",
    "    возле\n",
    "    вокруг\n",
    "    вопреки\n",
    "    вослед\n",
    "    впереди\n",
    "    вплоть до\n",
    "    впредь до\n",
    "    вразрез\n",
    "    вроде\n",
    "    вслед\n",
    "    вслед за\n",
    "    вследствие\n",
    "    встречу\n",
    "    выключая\n",
    "\n",
    "Д\n",
    "\n",
    "    для\n",
    "    для-ради\n",
    "    до\n",
    "\n",
    "З\n",
    "\n",
    "    за\n",
    "    за вычетом\n",
    "    за исключением\n",
    "    за счёт\n",
    "    замест\n",
    "    заместо\n",
    "\n",
    "И\n",
    "\n",
    "    из\n",
    "    из-за\n",
    "    из-под\n",
    "    из-подо\n",
    "    изнутри\n",
    "    изо\n",
    "    исключая\n",
    "    исходя из\n",
    "\n",
    "К\n",
    "\n",
    "    к\n",
    "    касаемо\n",
    "    касательно\n",
    "    ко\n",
    "    кончая\n",
    "    кроме\n",
    "    кругом\n",
    "\n",
    "Л\n",
    "\n",
    "    лицом к лицу с\n",
    "\n",
    "М\n",
    "\n",
    "    меж\n",
    "    между\n",
    "    мимо\n",
    "\n",
    "Н\n",
    "\n",
    "    на\n",
    "    на благо\n",
    "    на виду у\n",
    "    на глазах у\n",
    "    на предмет\n",
    "    наверху\n",
    "    навроде\n",
    "    навстречу\n",
    "    над\n",
    "    надо\n",
    "    назад\n",
    "    назади\n",
    "    накануне\n",
    "    наместо\n",
    "    наперекор\n",
    "    наперерез\n",
    "    наперехват\n",
    "    наподобие\n",
    "    наподобье\n",
    "    напротив\n",
    "    наряду с\n",
    "    насупротив\n",
    "    насчёт\n",
    "    начиная с\n",
    "    не без\n",
    "    не считая\n",
    "    невзирая на\n",
    "    недалеко от\n",
    "    независимо от\n",
    "    несмотря\n",
    "    несмотря на\n",
    "    ниже\n",
    "\n",
    "О\n",
    "\n",
    "    о\n",
    "    об\n",
    "    обо\n",
    "    обок\n",
    "    обочь\n",
    "    около\n",
    "    окрест\n",
    "    окроме\n",
    "    окромя\n",
    "    округ\n",
    "    опосля\n",
    "    опричь\n",
    "    от\n",
    "    от имени\n",
    "    от лица\n",
    "    относительно\n",
    "    ото\n",
    "\n",
    "П\n",
    "\n",
    "    перед\n",
    "    передо\n",
    "    по\n",
    "    по линии\n",
    "    по мере\n",
    "    по направлению к\n",
    "    по поводу\n",
    "    по причине\n",
    "    по случаю\n",
    "    по сравнению с\n",
    "    по-за\n",
    "    по-над\n",
    "    по-под\n",
    "    поблизости от\n",
    "    повдоль\n",
    "    поверх\n",
    "    под\n",
    "    под видом\n",
    "    под эгидой\n",
    "    подле\n",
    "    подо\n",
    "    подобно\n",
    "    позади\n",
    "    позадь\n",
    "    позднее\n",
    "    помимо\n",
    "    поперёд\n",
    "    поперёк\n",
    "    порядка\n",
    "    посверху\n",
    "    посереди\n",
    "    посередине\n",
    "    посерёдке\n",
    "    посередь\n",
    "    после\n",
    "    посреди\n",
    "    посредине\n",
    "    посредством\n",
    "    пред\n",
    "    предо\n",
    "    преж\n",
    "    прежде\n",
    "    при\n",
    "    при помощи\n",
    "    применительно к\n",
    "    про\n",
    "    промеж\n",
    "    промежду\n",
    "    против\n",
    "    противно\n",
    "    противу\n",
    "    путём\n",
    "\n",
    "Р\n",
    "\n",
    "    ради\n",
    "    рядом с\n",
    "\n",
    "С\n",
    "\n",
    "    с\n",
    "    с ведома\n",
    "    с помощью\n",
    "    с прицелом на\n",
    "    с точки зрения\n",
    "    с целью\n",
    "    сверх\n",
    "    сверху\n",
    "    свыше"
   ]
  },
  {
   "cell_type": "code",
   "execution_count": null,
   "metadata": {},
   "outputs": [],
   "source": []
  },
  {
   "cell_type": "code",
   "execution_count": 4,
   "metadata": {},
   "outputs": [
    {
     "name": "stdout",
     "output_type": "stream",
     "text": [
      "а-ля, без(о), благодаря, близ, в(о), вблизи, ввиду, вдоль, взамен, включая, вкось, вкруг, вместо, вне, внизу, внутри, внутрь, вовнутрь, возле, вокруг, вопреки, вослед, вперёд, впереди, вроде, вслед, вследствие, выключая, выше, для, до, за, из(о), из-за, изнутри, из-под(о), исключая, к(о), касаемо, касательно, кроме, кругом, меж, между, мимо, на, над(о), накануне, наместо, наперекор, наперерез, наподобие, напротив, насупротив, насчёт, ниже, о(б)(о), около, окрест, округ, опричь, от(о), относительно, перед(о), по, поверх, под(о), подле, подобно, по-за, позади, позадь, помимо, по-над, поперёк, посереди, посередине, после, посередь, посреди, посредине, посредством, превыше, пред(о), прежде, при, про, промеж, промежду, против, путём, ради, с(о), сверх, сверху, свыше, середь, сзади, сквозь, снизу, согласно, сообразно, соответственно, соразмерно, спереди, спустя, среди, средь, супротив, у, через, чрез\n"
     ]
    }
   ],
   "source": [
    "s = input().split(\",\")"
   ]
  },
  {
   "cell_type": "code",
   "execution_count": 5,
   "metadata": {},
   "outputs": [
    {
     "data": {
      "text/plain": [
       "['а-ля',\n",
       " ' без(о)',\n",
       " ' благодаря',\n",
       " ' близ',\n",
       " ' в(о)',\n",
       " ' вблизи',\n",
       " ' ввиду',\n",
       " ' вдоль',\n",
       " ' взамен',\n",
       " ' включая',\n",
       " ' вкось',\n",
       " ' вкруг',\n",
       " ' вместо',\n",
       " ' вне',\n",
       " ' внизу',\n",
       " ' внутри',\n",
       " ' внутрь',\n",
       " ' вовнутрь',\n",
       " ' возле',\n",
       " ' вокруг',\n",
       " ' вопреки',\n",
       " ' вослед',\n",
       " ' вперёд',\n",
       " ' впереди',\n",
       " ' вроде',\n",
       " ' вслед',\n",
       " ' вследствие',\n",
       " ' выключая',\n",
       " ' выше',\n",
       " ' для',\n",
       " ' до',\n",
       " ' за',\n",
       " ' из(о)',\n",
       " ' из-за',\n",
       " ' изнутри',\n",
       " ' из-под(о)',\n",
       " ' исключая',\n",
       " ' к(о)',\n",
       " ' касаемо',\n",
       " ' касательно',\n",
       " ' кроме',\n",
       " ' кругом',\n",
       " ' меж',\n",
       " ' между',\n",
       " ' мимо',\n",
       " ' на',\n",
       " ' над(о)',\n",
       " ' накануне',\n",
       " ' наместо',\n",
       " ' наперекор',\n",
       " ' наперерез',\n",
       " ' наподобие',\n",
       " ' напротив',\n",
       " ' насупротив',\n",
       " ' насчёт',\n",
       " ' ниже',\n",
       " ' о(б)(о)',\n",
       " ' около',\n",
       " ' окрест',\n",
       " ' округ',\n",
       " ' опричь',\n",
       " ' от(о)',\n",
       " ' относительно',\n",
       " ' перед(о)',\n",
       " ' по',\n",
       " ' поверх',\n",
       " ' под(о)',\n",
       " ' подле',\n",
       " ' подобно',\n",
       " ' по-за',\n",
       " ' позади',\n",
       " ' позадь',\n",
       " ' помимо',\n",
       " ' по-над',\n",
       " ' поперёк',\n",
       " ' посереди',\n",
       " ' посередине',\n",
       " ' после',\n",
       " ' посередь',\n",
       " ' посреди',\n",
       " ' посредине',\n",
       " ' посредством',\n",
       " ' превыше',\n",
       " ' пред(о)',\n",
       " ' прежде',\n",
       " ' при',\n",
       " ' про',\n",
       " ' промеж',\n",
       " ' промежду',\n",
       " ' против',\n",
       " ' путём',\n",
       " ' ради',\n",
       " ' с(о)',\n",
       " ' сверх',\n",
       " ' сверху',\n",
       " ' свыше',\n",
       " ' середь',\n",
       " ' сзади',\n",
       " ' сквозь',\n",
       " ' снизу',\n",
       " ' согласно',\n",
       " ' сообразно',\n",
       " ' соответственно',\n",
       " ' соразмерно',\n",
       " ' спереди',\n",
       " ' спустя',\n",
       " ' среди',\n",
       " ' средь',\n",
       " ' супротив',\n",
       " ' у',\n",
       " ' через',\n",
       " ' чрез']"
      ]
     },
     "execution_count": 5,
     "metadata": {},
     "output_type": "execute_result"
    }
   ],
   "source": [
    "s"
   ]
  },
  {
   "cell_type": "code",
   "execution_count": 6,
   "metadata": {},
   "outputs": [
    {
     "data": {
      "text/plain": [
       "112"
      ]
     },
     "execution_count": 6,
     "metadata": {},
     "output_type": "execute_result"
    }
   ],
   "source": [
    "len(s)"
   ]
  },
  {
   "cell_type": "code",
   "execution_count": 7,
   "metadata": {},
   "outputs": [
    {
     "name": "stdout",
     "output_type": "stream",
     "text": [
      "без  безо113\n",
      "в  во114\n",
      "из  изо115\n",
      "из-под  из-подо116\n",
      "к  ко117\n",
      "над  надо118\n",
      "о(б)(о)\n",
      "от  ото121\n",
      "перед  передо122\n",
      "под  подо123\n",
      "пред  предо124\n",
      "с  со125\n"
     ]
    }
   ],
   "source": [
    "i = 0\n",
    "while (i != len(s)):\n",
    "    s[i] = s[i].replace(\" \", \"\");\n",
    "    if (s[i].count(\"(\") != 0):\n",
    "        if (s[i].count(\"(\") != 2):\n",
    "            cur = s[i]\n",
    "            firstVar = cur[:cur.find(\"(\")]\n",
    "            secondVar = cur.replace(\"(\", \"\").replace(\")\", \"\")\n",
    "            s = s[:i] + [firstVar] + [secondVar] + s[i + 1:]\n",
    "            print(firstVar + \"  \" + secondVar + str(len(s)))\n",
    "            i += 1\n",
    "        else:\n",
    "            print(s[i])\n",
    "            s = s[:i] + [\"о\", \"об\", \"обо\"] + s[i + 1:]\n",
    "    i += 1"
   ]
  },
  {
   "cell_type": "code",
   "execution_count": 8,
   "metadata": {},
   "outputs": [
    {
     "data": {
      "text/plain": [
       "125"
      ]
     },
     "execution_count": 8,
     "metadata": {},
     "output_type": "execute_result"
    }
   ],
   "source": [
    "len(s)"
   ]
  },
  {
   "cell_type": "code",
   "execution_count": 54,
   "metadata": {},
   "outputs": [],
   "source": [
    "from pymystem3 import Mystem"
   ]
  },
  {
   "cell_type": "code",
   "execution_count": 1,
   "metadata": {},
   "outputs": [
    {
     "name": "stdout",
     "output_type": "stream",
     "text": [
      "Object `Mystem` not found.\n"
     ]
    }
   ],
   "source": [
    "mystem = Mystem()"
   ]
  },
  {
   "cell_type": "code",
   "execution_count": null,
   "metadata": {},
   "outputs": [],
   "source": [
    "mystem = Mystem"
   ]
  },
  {
   "cell_type": "code",
   "execution_count": 56,
   "metadata": {},
   "outputs": [],
   "source": [
    "mystem?"
   ]
  },
  {
   "cell_type": "code",
   "execution_count": 57,
   "metadata": {},
   "outputs": [],
   "source": [
    "res = mystem.analyze(\"с целью\")"
   ]
  },
  {
   "cell_type": "code",
   "execution_count": 58,
   "metadata": {},
   "outputs": [
    {
     "data": {
      "text/plain": [
       "[{'analysis': [{'gr': 'PR=', 'lex': 'с', 'wt': 0.999977831}], 'text': 'с'},\n",
       " {'text': ' '},\n",
       " {'analysis': [{'gr': 'S,жен,неод=твор,ед', 'lex': 'цель', 'wt': 1}],\n",
       "  'text': 'целью'},\n",
       " {'text': '\\n'}]"
      ]
     },
     "execution_count": 58,
     "metadata": {},
     "output_type": "execute_result"
    }
   ],
   "source": [
    "res"
   ]
  },
  {
   "cell_type": "code",
   "execution_count": 21,
   "metadata": {},
   "outputs": [
    {
     "data": {
      "text/plain": [
       "dict"
      ]
     },
     "execution_count": 21,
     "metadata": {},
     "output_type": "execute_result"
    }
   ],
   "source": [
    "type(res[0])"
   ]
  },
  {
   "cell_type": "code",
   "execution_count": 27,
   "metadata": {},
   "outputs": [
    {
     "data": {
      "text/plain": [
       "list"
      ]
     },
     "execution_count": 27,
     "metadata": {},
     "output_type": "execute_result"
    }
   ],
   "source": [
    "type(res[0]['analysis'])"
   ]
  },
  {
   "cell_type": "code",
   "execution_count": 31,
   "metadata": {},
   "outputs": [
    {
     "data": {
      "text/plain": [
       "'V,несов,пе=непрош,ед,изъяв,1-л'"
      ]
     },
     "execution_count": 31,
     "metadata": {},
     "output_type": "execute_result"
    }
   ],
   "source": [
    "res[0]['analysis'][0]['gr']"
   ]
  },
  {
   "cell_type": "code",
   "execution_count": 46,
   "metadata": {},
   "outputs": [],
   "source": [
    "mystem.analyze?"
   ]
  },
  {
   "cell_type": "code",
   "execution_count": 45,
   "metadata": {},
   "outputs": [
    {
     "ename": "SyntaxError",
     "evalue": "invalid syntax (<ipython-input-45-89538d849ae5>, line 1)",
     "output_type": "error",
     "traceback": [
      "\u001b[0;36m  File \u001b[0;32m\"<ipython-input-45-89538d849ae5>\"\u001b[0;36m, line \u001b[0;32m1\u001b[0m\n\u001b[0;31m    res = mystem.analyze(?)\u001b[0m\n\u001b[0m                         ^\u001b[0m\n\u001b[0;31mSyntaxError\u001b[0m\u001b[0;31m:\u001b[0m invalid syntax\n"
     ]
    }
   ],
   "source": [
    "res = mystem.analyze(\"голубей\")"
   ]
  },
  {
   "cell_type": "code",
   "execution_count": 43,
   "metadata": {},
   "outputs": [
    {
     "data": {
      "text/plain": [
       "[{'analysis': [{'gr': 'S,муж,од=(вин,мн|род,мн)',\n",
       "    'lex': 'голубь',\n",
       "    'wt': 0.9333586756}],\n",
       "  'text': 'голубей'},\n",
       " {'text': '\\n'}]"
      ]
     },
     "execution_count": 43,
     "metadata": {},
     "output_type": "execute_result"
    }
   ],
   "source": [
    "res"
   ]
  },
  {
   "cell_type": "code",
   "execution_count": null,
   "metadata": {},
   "outputs": [],
   "source": []
  },
  {
   "cell_type": "code",
   "execution_count": 9,
   "metadata": {},
   "outputs": [],
   "source": [
    "import pymorphy2\n",
    "morph = pymorphy2.MorphAnalyzer()"
   ]
  },
  {
   "cell_type": "code",
   "execution_count": 10,
   "metadata": {},
   "outputs": [],
   "source": [
    "res3 = morph.parse(\"мыла\")"
   ]
  },
  {
   "cell_type": "code",
   "execution_count": 11,
   "metadata": {},
   "outputs": [
    {
     "data": {
      "text/plain": [
       "[Parse(word='мыла', tag=OpencorporaTag('NOUN,inan,neut sing,gent'), normal_form='мыло', score=0.333333, methods_stack=((<DictionaryAnalyzer>, 'мыла', 54, 1),)),\n",
       " Parse(word='мыла', tag=OpencorporaTag('VERB,impf,tran femn,sing,past,indc'), normal_form='мыть', score=0.333333, methods_stack=((<DictionaryAnalyzer>, 'мыла', 1813, 8),)),\n",
       " Parse(word='мыла', tag=OpencorporaTag('NOUN,inan,neut plur,nomn'), normal_form='мыло', score=0.166666, methods_stack=((<DictionaryAnalyzer>, 'мыла', 54, 6),)),\n",
       " Parse(word='мыла', tag=OpencorporaTag('NOUN,inan,neut plur,accs'), normal_form='мыло', score=0.166666, methods_stack=((<DictionaryAnalyzer>, 'мыла', 54, 9),))]"
      ]
     },
     "execution_count": 11,
     "metadata": {},
     "output_type": "execute_result"
    }
   ],
   "source": [
    "res3"
   ]
  },
  {
   "cell_type": "code",
   "execution_count": 13,
   "metadata": {},
   "outputs": [
    {
     "data": {
      "text/plain": [
       "'NOUN'"
      ]
     },
     "execution_count": 13,
     "metadata": {},
     "output_type": "execute_result"
    }
   ],
   "source": [
    "res3[0].tag.POS"
   ]
  },
  {
   "cell_type": "code",
   "execution_count": 14,
   "metadata": {},
   "outputs": [
    {
     "data": {
      "text/plain": [
       "list"
      ]
     },
     "execution_count": 14,
     "metadata": {},
     "output_type": "execute_result"
    }
   ],
   "source": [
    "type(res3)"
   ]
  },
  {
   "cell_type": "code",
   "execution_count": 12,
   "metadata": {},
   "outputs": [
    {
     "data": {
      "text/plain": [
       "125"
      ]
     },
     "execution_count": 12,
     "metadata": {},
     "output_type": "execute_result"
    }
   ],
   "source": [
    "len(s)"
   ]
  },
  {
   "cell_type": "code",
   "execution_count": 13,
   "metadata": {},
   "outputs": [
    {
     "name": "stdout",
     "output_type": "stream",
     "text": [
      "вкось no\n",
      "наперерез no\n",
      "округ no\n",
      "превыше no\n"
     ]
    }
   ],
   "source": [
    "i = 0\n",
    "while (i < len(s)):\n",
    "    cur = s[i]\n",
    "    res = morph.parse(cur)\n",
    "    flag = 0\n",
    "    for j in res:\n",
    "        if j.tag.POS == 'PREP':\n",
    "            flag = 1\n",
    "    if (flag == 0):\n",
    "        s = s[:i] + s[i + 1:]\n",
    "        print(cur, \"no\", sep = \" \")\n",
    "    i += 1"
   ]
  },
  {
   "cell_type": "code",
   "execution_count": 14,
   "metadata": {},
   "outputs": [
    {
     "data": {
      "text/plain": [
       "121"
      ]
     },
     "execution_count": 14,
     "metadata": {},
     "output_type": "execute_result"
    }
   ],
   "source": [
    "len(s)"
   ]
  },
  {
   "cell_type": "code",
   "execution_count": 18,
   "metadata": {},
   "outputs": [
    {
     "data": {
      "text/plain": [
       "[Parse(word='с целью', tag=OpencorporaTag('NOUN,inan,femn sing,ablt'), normal_form='с цель', score=0.5, methods_stack=((<DictionaryAnalyzer>, 'целью', 13, 4), (<UnknownPrefixAnalyzer>, 'с '))),\n",
       " Parse(word='с целью', tag=OpencorporaTag('VERB,impf,tran sing,1per,pres,indc'), normal_form='с целить', score=0.5, methods_stack=((<DictionaryAnalyzer>, 'лью', 444, 1), (<UnknownPrefixAnalyzer>, 'с це')))]"
      ]
     },
     "execution_count": 18,
     "metadata": {},
     "output_type": "execute_result"
    }
   ],
   "source": [
    "morph.parse(\"с целью\")"
   ]
  },
  {
   "cell_type": "code",
   "execution_count": 19,
   "metadata": {},
   "outputs": [
    {
     "data": {
      "text/plain": [
       "'а-ля,без,безо,благодаря,близ,в,во,вблизи,ввиду,вдоль,взамен,включая,вкруг,вместо,вне,внизу,внутри,внутрь,вовнутрь,возле,вокруг,вопреки,вослед,вперёд,впереди,вроде,вслед,вследствие,выключая,выше,для,до,за,из,изо,из-за,изнутри,из-под,из-подо,исключая,к,ко,касаемо,касательно,кроме,кругом,меж,между,мимо,на,над,надо,накануне,наместо,наперекор,наподобие,напротив,насупротив,насчёт,ниже,о,об,обо,около,окрест,опричь,от,ото,относительно,перед,передо,по,поверх,под,подо,подле,подобно,по-за,позади,позадь,помимо,по-над,поперёк,посереди,посередине,после,посередь,посреди,посредине,посредством,пред,предо,прежде,при,про,промеж,промежду,против,путём,ради,с,со,сверх,сверху,свыше,середь,сзади,сквозь,снизу,согласно,сообразно,соответственно,соразмерно,спереди,спустя,среди,средь,супротив,у,через,чрез'"
      ]
     },
     "execution_count": 19,
     "metadata": {},
     "output_type": "execute_result"
    }
   ],
   "source": [
    "','.join(s)"
   ]
  },
  {
   "cell_type": "code",
   "execution_count": 15,
   "metadata": {},
   "outputs": [],
   "source": [
    "s1 = 'CREATE TYPE Epreposition AS ENUM(' + '\\'' + '\\',\\''.join(s) + '\\',\\'None\\')'"
   ]
  },
  {
   "cell_type": "code",
   "execution_count": 16,
   "metadata": {},
   "outputs": [
    {
     "data": {
      "text/plain": [
       "\"CREATE TYPE Epreposition AS ENUM('а-ля','без','безо','благодаря','близ','в','во','вблизи','ввиду','вдоль','взамен','включая','вкруг','вместо','вне','внизу','внутри','внутрь','вовнутрь','возле','вокруг','вопреки','вослед','вперёд','впереди','вроде','вслед','вследствие','выключая','выше','для','до','за','из','изо','из-за','изнутри','из-под','из-подо','исключая','к','ко','касаемо','касательно','кроме','кругом','меж','между','мимо','на','над','надо','накануне','наместо','наперекор','наподобие','напротив','насупротив','насчёт','ниже','о','об','обо','около','окрест','опричь','от','ото','относительно','перед','передо','по','поверх','под','подо','подле','подобно','по-за','позади','позадь','помимо','по-над','поперёк','посереди','посередине','после','посередь','посреди','посредине','посредством','пред','предо','прежде','при','про','промеж','промежду','против','путём','ради','с','со','сверх','сверху','свыше','середь','сзади','сквозь','снизу','согласно','сообразно','соответственно','соразмерно','спереди','спустя','среди','средь','супротив','у','через','чрез','None')\""
      ]
     },
     "execution_count": 16,
     "metadata": {},
     "output_type": "execute_result"
    }
   ],
   "source": [
    "s1"
   ]
  },
  {
   "cell_type": "code",
   "execution_count": 17,
   "metadata": {},
   "outputs": [
    {
     "ename": "DuplicateObjectError",
     "evalue": "type \"epreposition\" already exists\n  CODE: 42710\n  LOCATION: File 'typecmds.c', line 1133, in DefineEnum from SERVER\nCONNECTION: [idle]\n  client_address: 127.0.0.1/32\n  client_port: 51246\n  version:\n    PostgreSQL 9.5.14 on x86_64-pc-linux-gnu, compiled by gcc (Ubuntu 5.4.0-6ubuntu1~16.04.10) 5.4.0 20160609, 64-bit\nCONNECTOR: [Host] pq://derin:***@localhost:5432/models\n  category: None\nDRIVER: postgresql.driver.pq3.Driver",
     "output_type": "error",
     "traceback": [
      "\u001b[0;31m---------------------------------------------------------------------------\u001b[0m",
      "\u001b[0;31mDuplicateObjectError\u001b[0m                      Traceback (most recent call last)",
      "\u001b[0;32m<ipython-input-17-bf0ddd820146>\u001b[0m in \u001b[0;36m<module>\u001b[0;34m\u001b[0m\n\u001b[0;32m----> 1\u001b[0;31m \u001b[0mdb\u001b[0m\u001b[0;34m.\u001b[0m\u001b[0mexecute\u001b[0m\u001b[0;34m(\u001b[0m\u001b[0ms1\u001b[0m\u001b[0;34m)\u001b[0m\u001b[0;34m\u001b[0m\u001b[0m\n\u001b[0m",
      "\u001b[0;32m/usr/lib/python3/dist-packages/postgresql/driver/pq3.py\u001b[0m in \u001b[0;36mexecute\u001b[0;34m(self, query)\u001b[0m\n\u001b[1;32m   2304\u001b[0m \t\t)\n\u001b[1;32m   2305\u001b[0m                 \u001b[0mself\u001b[0m\u001b[0;34m.\u001b[0m\u001b[0m_pq_push\u001b[0m\u001b[0;34m(\u001b[0m\u001b[0mq\u001b[0m\u001b[0;34m,\u001b[0m \u001b[0mself\u001b[0m\u001b[0;34m)\u001b[0m\u001b[0;34m\u001b[0m\u001b[0m\n\u001b[0;32m-> 2306\u001b[0;31m                 \u001b[0mself\u001b[0m\u001b[0;34m.\u001b[0m\u001b[0m_pq_complete\u001b[0m\u001b[0;34m(\u001b[0m\u001b[0;34m)\u001b[0m\u001b[0;34m\u001b[0m\u001b[0m\n\u001b[0m\u001b[1;32m   2307\u001b[0m \u001b[0;34m\u001b[0m\u001b[0m\n\u001b[1;32m   2308\u001b[0m \tdef do(self, language : str, source : str,\n",
      "\u001b[0;32m/usr/lib/python3/dist-packages/postgresql/driver/pq3.py\u001b[0m in \u001b[0;36m_pq_complete\u001b[0;34m(self)\u001b[0m\n\u001b[1;32m   2602\u001b[0m                         \u001b[0;31m# Raise an error *iff* one occurred.\u001b[0m\u001b[0;34m\u001b[0m\u001b[0;34m\u001b[0m\u001b[0m\n\u001b[1;32m   2603\u001b[0m                         \u001b[0;32mif\u001b[0m \u001b[0mx\u001b[0m\u001b[0;34m.\u001b[0m\u001b[0mfatal\u001b[0m \u001b[0;32mis\u001b[0m \u001b[0;32mnot\u001b[0m \u001b[0;32mNone\u001b[0m\u001b[0;34m:\u001b[0m\u001b[0;34m\u001b[0m\u001b[0m\n\u001b[0;32m-> 2604\u001b[0;31m                                 \u001b[0mself\u001b[0m\u001b[0;34m.\u001b[0m\u001b[0mtypio\u001b[0m\u001b[0;34m.\u001b[0m\u001b[0mraise_error\u001b[0m\u001b[0;34m(\u001b[0m\u001b[0mx\u001b[0m\u001b[0;34m.\u001b[0m\u001b[0merror_message\u001b[0m\u001b[0;34m,\u001b[0m \u001b[0mcause\u001b[0m \u001b[0;34m=\u001b[0m \u001b[0mgetattr\u001b[0m\u001b[0;34m(\u001b[0m\u001b[0mx\u001b[0m\u001b[0;34m,\u001b[0m \u001b[0;34m'exception'\u001b[0m\u001b[0;34m,\u001b[0m \u001b[0;32mNone\u001b[0m\u001b[0;34m)\u001b[0m\u001b[0;34m)\u001b[0m\u001b[0;34m\u001b[0m\u001b[0m\n\u001b[0m\u001b[1;32m   2605\u001b[0m                         \u001b[0;32mdel\u001b[0m \u001b[0mself\u001b[0m\u001b[0;34m.\u001b[0m\u001b[0m_controller\u001b[0m\u001b[0;34m\u001b[0m\u001b[0m\n\u001b[1;32m   2606\u001b[0m \u001b[0;34m\u001b[0m\u001b[0m\n",
      "\u001b[0;32m/usr/lib/python3/dist-packages/postgresql/driver/pq3.py\u001b[0m in \u001b[0;36mraise_error\u001b[0;34m(self, error_message, ClientError, **kw)\u001b[0m\n\u001b[1;32m    539\u001b[0m                         \u001b[0mself\u001b[0m\u001b[0;34m.\u001b[0m\u001b[0mraise_client_error\u001b[0m\u001b[0;34m(\u001b[0m\u001b[0merror_message\u001b[0m\u001b[0;34m,\u001b[0m \u001b[0;34m**\u001b[0m\u001b[0mkw\u001b[0m\u001b[0;34m)\u001b[0m\u001b[0;34m\u001b[0m\u001b[0m\n\u001b[1;32m    540\u001b[0m                 \u001b[0;32melse\u001b[0m\u001b[0;34m:\u001b[0m\u001b[0;34m\u001b[0m\u001b[0m\n\u001b[0;32m--> 541\u001b[0;31m                         \u001b[0mself\u001b[0m\u001b[0;34m.\u001b[0m\u001b[0mraise_server_error\u001b[0m\u001b[0;34m(\u001b[0m\u001b[0merror_message\u001b[0m\u001b[0;34m,\u001b[0m \u001b[0;34m**\u001b[0m\u001b[0mkw\u001b[0m\u001b[0;34m)\u001b[0m\u001b[0;34m\u001b[0m\u001b[0m\n\u001b[0m\u001b[1;32m    542\u001b[0m \u001b[0;34m\u001b[0m\u001b[0m\n\u001b[1;32m    543\u001b[0m         \u001b[0;31m##\u001b[0m\u001b[0;34m\u001b[0m\u001b[0;34m\u001b[0m\u001b[0m\n",
      "\u001b[0;32m/usr/lib/python3/dist-packages/postgresql/driver/pq3.py\u001b[0m in \u001b[0;36mraise_server_error\u001b[0;34m(self, error_message, cause, creator)\u001b[0m\n\u001b[1;32m    530\u001b[0m                         \u001b[0;32mraise\u001b[0m \u001b[0mserver_error\u001b[0m \u001b[0;32mfrom\u001b[0m \u001b[0mcause\u001b[0m\u001b[0;34m\u001b[0m\u001b[0m\n\u001b[1;32m    531\u001b[0m                 \u001b[0;32melse\u001b[0m\u001b[0;34m:\u001b[0m\u001b[0;34m\u001b[0m\u001b[0m\n\u001b[0;32m--> 532\u001b[0;31m                         \u001b[0;32mraise\u001b[0m \u001b[0mserver_error\u001b[0m\u001b[0;34m\u001b[0m\u001b[0m\n\u001b[0m\u001b[1;32m    533\u001b[0m \u001b[0;34m\u001b[0m\u001b[0m\n\u001b[1;32m    534\u001b[0m         \u001b[0;32mdef\u001b[0m \u001b[0mraise_error\u001b[0m\u001b[0;34m(\u001b[0m\u001b[0mself\u001b[0m\u001b[0;34m,\u001b[0m \u001b[0merror_message\u001b[0m\u001b[0;34m,\u001b[0m \u001b[0mClientError\u001b[0m \u001b[0;34m=\u001b[0m \u001b[0melement\u001b[0m\u001b[0;34m.\u001b[0m\u001b[0mClientError\u001b[0m\u001b[0;34m,\u001b[0m \u001b[0;34m**\u001b[0m\u001b[0mkw\u001b[0m\u001b[0;34m)\u001b[0m\u001b[0;34m:\u001b[0m\u001b[0;34m\u001b[0m\u001b[0m\n",
      "\u001b[0;31mDuplicateObjectError\u001b[0m: type \"epreposition\" already exists\n  CODE: 42710\n  LOCATION: File 'typecmds.c', line 1133, in DefineEnum from SERVER\nCONNECTION: [idle]\n  client_address: 127.0.0.1/32\n  client_port: 51246\n  version:\n    PostgreSQL 9.5.14 on x86_64-pc-linux-gnu, compiled by gcc (Ubuntu 5.4.0-6ubuntu1~16.04.10) 5.4.0 20160609, 64-bit\nCONNECTOR: [Host] pq://derin:***@localhost:5432/models\n  category: None\nDRIVER: postgresql.driver.pq3.Driver"
     ]
    }
   ],
   "source": [
    "db.execute(s1)"
   ]
  },
  {
   "cell_type": "code",
   "execution_count": null,
   "metadata": {},
   "outputs": [],
   "source": []
  },
  {
   "cell_type": "code",
   "execution_count": 25,
   "metadata": {},
   "outputs": [],
   "source": [
    "db.execute(\"DROP TYPE Epreposition\")"
   ]
  },
  {
   "cell_type": "code",
   "execution_count": null,
   "metadata": {},
   "outputs": [],
   "source": []
  },
  {
   "cell_type": "code",
   "execution_count": null,
   "metadata": {},
   "outputs": [],
   "source": []
  },
  {
   "cell_type": "code",
   "execution_count": 5,
   "metadata": {},
   "outputs": [],
   "source": [
    "db.close()"
   ]
  },
  {
   "cell_type": "code",
   "execution_count": null,
   "metadata": {},
   "outputs": [],
   "source": []
  },
  {
   "cell_type": "code",
   "execution_count": null,
   "metadata": {},
   "outputs": [],
   "source": []
  },
  {
   "cell_type": "code",
   "execution_count": null,
   "metadata": {},
   "outputs": [],
   "source": [
    "s = input()\n",
    "s1 = s[s.find(' ') + 1: s.find('{') - 1]\n",
    "s2 = s[s.find('{') + 1: s.find('}')]\n",
    "s2 = s2.replace(\" \", \"\").replace(\"=1\", \"\").split(',')\n",
    "print(\"CREATE TYPE \" + s1 + \" AS ENUM (\", end = '')\n",
    "print(s2, end = '')\n",
    "print(\");\")"
   ]
  },
  {
   "cell_type": "code",
   "execution_count": null,
   "metadata": {},
   "outputs": [],
   "source": [
    "s3 = input().replace(\"[\", \"\").replace(\"]\", \"\")\n",
    "print(s3)"
   ]
  },
  {
   "cell_type": "code",
   "execution_count": null,
   "metadata": {},
   "outputs": [],
   "source": []
  },
  {
   "cell_type": "code",
   "execution_count": null,
   "metadata": {},
   "outputs": [],
   "source": []
  }
 ],
 "metadata": {
  "kernelspec": {
   "display_name": "Python 3",
   "language": "python",
   "name": "python3"
  },
  "language_info": {
   "codemirror_mode": {
    "name": "ipython",
    "version": 3
   },
   "file_extension": ".py",
   "mimetype": "text/x-python",
   "name": "python",
   "nbconvert_exporter": "python",
   "pygments_lexer": "ipython3",
   "version": "3.5.2"
  }
 },
 "nbformat": 4,
 "nbformat_minor": 1
}
