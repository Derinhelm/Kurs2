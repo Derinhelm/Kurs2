{
 "cells": [
  {
   "cell_type": "code",
   "execution_count": 1,
   "metadata": {},
   "outputs": [],
   "source": [
    "import postgresql"
   ]
  },
  {
   "cell_type": "code",
   "execution_count": 2,
   "metadata": {},
   "outputs": [],
   "source": [
    "db = postgresql.open('pq://derin:qwerty@localhost:5432/models')"
   ]
  },
  {
   "cell_type": "code",
   "execution_count": 19,
   "metadata": {},
   "outputs": [],
   "source": [
    "db.execute(\"CREATE TABLE model_3_level \\\n",
    "            (number_model serial PRIMARY KEY\\\n",
    "            , ref_to_main_word integer REFERENCES word(number_word)\\\n",
    "            , ref_to_dep_word integer REFERENCES word(number_word)\\\n",
    "            , imp_feat_main integer REFERENCES important_features(number_imp_feat)\\\n",
    "            , imp_feat_dep integer REFERENCES important_features(number_imp_feat) \\\n",
    "            , prep integer REFERENCES prep(number_prep)\\\n",
    "            , mark real)\")"
   ]
  },
  {
   "cell_type": "code",
   "execution_count": 3,
   "metadata": {},
   "outputs": [],
   "source": [
    "from Types import *\n",
    "from Functions import *"
   ]
  },
  {
   "cell_type": "code",
   "execution_count": null,
   "metadata": {},
   "outputs": [],
   "source": []
  },
  {
   "cell_type": "code",
   "execution_count": null,
   "metadata": {},
   "outputs": [],
   "source": []
  },
  {
   "cell_type": "code",
   "execution_count": 5,
   "metadata": {},
   "outputs": [],
   "source": [
    "#видеть(5 cлово, 1 важность) папу(3 слово, 2 важность), предлога нет(None - 122)\n",
    "db.execute(\"INSERT INTO model_3_level VALUES(DEFAULT, 5, 3, 1, 2, 122, 1)\")"
   ]
  },
  {
   "cell_type": "code",
   "execution_count": 6,
   "metadata": {},
   "outputs": [],
   "source": [
    "#видеть(5 cлово, 1 важность) маму(4 слово, 2 важность), предлога нет(None - 122)\n",
    "db.execute(\"INSERT INTO model_3_level VALUES(DEFAULT, 5, 4, 1, 2, 122, 1)\")"
   ]
  },
  {
   "cell_type": "code",
   "execution_count": 7,
   "metadata": {},
   "outputs": [],
   "source": [
    "#любить(6 cлово, 1 важность) папу(3 слово, 2 важность), предлога нет(None - 122)\n",
    "db.execute(\"INSERT INTO model_3_level VALUES(DEFAULT, 6, 3, 1, 2, 122, 1)\")"
   ]
  },
  {
   "cell_type": "code",
   "execution_count": 8,
   "metadata": {},
   "outputs": [],
   "source": [
    "#любить(6 cлово, 1 важность) маму(4 слово, 2 важность), предлога нет(None - 122)\n",
    "db.execute(\"INSERT INTO model_3_level VALUES(DEFAULT, 6, 4, 1, 2, 122, 1)\")"
   ]
  },
  {
   "cell_type": "code",
   "execution_count": 10,
   "metadata": {},
   "outputs": [
    {
     "data": {
      "text/plain": [
       "122"
      ]
     },
     "execution_count": 10,
     "metadata": {},
     "output_type": "execute_result"
    }
   ],
   "source": [
    "findPrep(\"None\", db)"
   ]
  },
  {
   "cell_type": "code",
   "execution_count": 9,
   "metadata": {},
   "outputs": [
    {
     "data": {
      "text/plain": [
       "[(1, 5, 3, 1, 2, 122, 0.5),\n",
       " (2, 5, 4, 1, 2, 122, 0.5),\n",
       " (3, 6, 3, 1, 2, 122, 0.5),\n",
       " (4, 6, 4, 1, 2, 122, 0.5)]"
      ]
     },
     "execution_count": 9,
     "metadata": {},
     "output_type": "execute_result"
    }
   ],
   "source": [
    "db.query(\"SELECT * FROM model_3_level\")"
   ]
  },
  {
   "cell_type": "code",
   "execution_count": 10,
   "metadata": {},
   "outputs": [],
   "source": [
    "from Types import *"
   ]
  },
  {
   "cell_type": "code",
   "execution_count": 11,
   "metadata": {},
   "outputs": [],
   "source": [
    "from Functions import *"
   ]
  },
  {
   "cell_type": "code",
   "execution_count": 5,
   "metadata": {
    "scrolled": true
   },
   "outputs": [
    {
     "name": "stdout",
     "output_type": "stream",
     "text": [
      "Выберите варианты разбора главного слова  (указать номера в строку через пробел)\n",
      "\n",
      "0\n",
      "('conjunction', 'animateAny', 'genderAny', 'numberAny', 'caseAny', 'reflectionAny', 'perfectiveAny', 'transitiveAny', 'personAny', 'tenseAny', 'voiceAny', 'degreeAny', True)\n",
      "---------------------------\n",
      "1\n",
      "('shortadjective', 'animateAny', 'neuter', 'single', 'caseAny', 'reflectionAny', 'perfectiveAny', 'transitiveAny', 'personAny', 'tenseAny', 'voiceAny', 'degreeAny', False)\n",
      "---------------------------\n",
      "2\n",
      "('noun', 'unanimate', 'neuter', 'single', 'nominative', 'reflectionAny', 'perfectiveAny', 'transitiveAny', 'personAny', 'tenseAny', 'voiceAny', 'degreeAny', False)\n",
      "---------------------------\n",
      "3\n",
      "('noun', 'unanimate', 'neuter', 'single', 'accusative', 'reflectionAny', 'perfectiveAny', 'transitiveAny', 'personAny', 'tenseAny', 'voiceAny', 'degreeAny', False)\n",
      "---------------------------\n",
      "2\n",
      "Выберите варианты разбора зависимого слова  (указать номера в строку через пробел)\n",
      "\n",
      "0\n",
      "('adjective', 'animateAny', 'neuter', 'single', 'nominative', 'reflectionAny', 'perfectiveAny', 'transitiveAny', 'personAny', 'tenseAny', 'voiceAny', 'degreeAny', False)\n",
      "---------------------------\n",
      "1\n",
      "('adjective', 'animateAny', 'neuter', 'single', 'accusative', 'reflectionAny', 'perfectiveAny', 'transitiveAny', 'personAny', 'tenseAny', 'voiceAny', 'degreeAny', False)\n",
      "---------------------------\n",
      "0\n",
      "Выберите для данной модели важные свойства для главного слова (укажите в строку через пробел)\n",
      "\n",
      "0 s_cl_imp\n",
      "1 animate_imp\n",
      "2 gender_imp\n",
      "3 number_imp\n",
      "4 case1_imp\n",
      "5 reflection_imp\n",
      "6 perfective_imp\n",
      "7 transitive_imp\n",
      "8 person_imp\n",
      "9 tense_imp\n",
      "10 voice_imp\n",
      "11 degree_imp\n",
      "12 static_imp\n",
      "0 2 3 4\n",
      "Выберите для данной модели важные свойства для зависимого слова (укажите в строку через пробел)\n",
      "\n",
      "0 s_cl_imp\n",
      "1 animate_imp\n",
      "2 gender_imp\n",
      "3 number_imp\n",
      "4 case1_imp\n",
      "5 reflection_imp\n",
      "6 perfective_imp\n",
      "7 transitive_imp\n",
      "8 person_imp\n",
      "9 tense_imp\n",
      "10 voice_imp\n",
      "11 degree_imp\n",
      "12 static_imp\n",
      "0 2 3 4\n",
      "\n",
      "вставлено\n",
      "\n"
     ]
    }
   ],
   "source": [
    "insertModel3(\"благо\", \"единственное\", \"None\", db)"
   ]
  },
  {
   "cell_type": "code",
   "execution_count": 10,
   "metadata": {
    "scrolled": true
   },
   "outputs": [
    {
     "name": "stdout",
     "output_type": "stream",
     "text": [
      "Выберите варианты разбора зависимого слова  (указать номера в строку через пробел)\n",
      "\n",
      "0\n",
      "('noun', 'unanimate', 'male', 'single', 'accusative', 'reflectionAny', 'perfectiveAny', 'transitiveAny', 'personAny', 'tenseAny', 'voiceAny', 'degreeAny', False)\n",
      "---------------------------\n",
      "1\n",
      "('noun', 'unanimate', 'male', 'single', 'nominative', 'reflectionAny', 'perfectiveAny', 'transitiveAny', 'personAny', 'tenseAny', 'voiceAny', 'degreeAny', False)\n",
      "---------------------------\n",
      "1\n",
      "Выберите для данной модели важные свойства для главного слова (укажите в строку через пробел)\n",
      "\n",
      "0 s_cl_imp\n",
      "1 animate_imp\n",
      "2 gender_imp\n",
      "3 number_imp\n",
      "4 case1_imp\n",
      "5 reflection_imp\n",
      "6 perfective_imp\n",
      "7 transitive_imp\n",
      "8 person_imp\n",
      "9 tense_imp\n",
      "10 voice_imp\n",
      "11 degree_imp\n",
      "12 static_imp\n",
      "0 3 7 8 9 10\n",
      "Выберите для данной модели важные свойства для зависимого слова (укажите в строку через пробел)\n",
      "\n",
      "0 s_cl_imp\n",
      "1 animate_imp\n",
      "2 gender_imp\n",
      "3 number_imp\n",
      "4 case1_imp\n",
      "5 reflection_imp\n",
      "6 perfective_imp\n",
      "7 transitive_imp\n",
      "8 person_imp\n",
      "9 tense_imp\n",
      "10 voice_imp\n",
      "11 degree_imp\n",
      "12 static_imp\n",
      "0 3 4\n",
      "\n",
      "вставлено\n",
      "\n"
     ]
    }
   ],
   "source": [
    "insertModel3(\"имеет\", \"час\", \"None\", db)"
   ]
  },
  {
   "cell_type": "code",
   "execution_count": null,
   "metadata": {},
   "outputs": [],
   "source": []
  },
  {
   "cell_type": "code",
   "execution_count": 9,
   "metadata": {
    "scrolled": true
   },
   "outputs": [
    {
     "name": "stdout",
     "output_type": "stream",
     "text": [
      "Выберите варианты разбора главного слова  (указать номера в строку через пробел)\n",
      "\n",
      "0\n",
      "('noun', 'unanimate', 'male', 'single', 'accusative', 'reflectionAny', 'perfectiveAny', 'transitiveAny', 'personAny', 'tenseAny', 'voiceAny', 'degreeAny', False)\n",
      "---------------------------\n",
      "1\n",
      "('noun', 'unanimate', 'male', 'single', 'nominative', 'reflectionAny', 'perfectiveAny', 'transitiveAny', 'personAny', 'tenseAny', 'voiceAny', 'degreeAny', False)\n",
      "---------------------------\n",
      "1\n",
      "Выберите варианты разбора зависимого слова  (указать номера в строку через пробел)\n",
      "\n",
      "0\n",
      "('adjective', 'animateAny', 'male', 'single', 'nominative', 'reflectionAny', 'perfectiveAny', 'transitiveAny', 'personAny', 'tenseAny', 'voiceAny', 'degreeAny', False)\n",
      "---------------------------\n",
      "1\n",
      "('adjective', 'unanimate', 'male', 'single', 'accusative', 'reflectionAny', 'perfectiveAny', 'transitiveAny', 'personAny', 'tenseAny', 'voiceAny', 'degreeAny', False)\n",
      "---------------------------\n",
      "0\n",
      "Выберите для данной модели важные свойства для главного слова (укажите в строку через пробел)\n",
      "\n",
      "0 s_cl_imp\n",
      "1 animate_imp\n",
      "2 gender_imp\n",
      "3 number_imp\n",
      "4 case1_imp\n",
      "5 reflection_imp\n",
      "6 perfective_imp\n",
      "7 transitive_imp\n",
      "8 person_imp\n",
      "9 tense_imp\n",
      "10 voice_imp\n",
      "11 degree_imp\n",
      "12 static_imp\n",
      "0 2 3 4\n",
      "Выберите для данной модели важные свойства для зависимого слова (укажите в строку через пробел)\n",
      "\n",
      "0 s_cl_imp\n",
      "1 animate_imp\n",
      "2 gender_imp\n",
      "3 number_imp\n",
      "4 case1_imp\n",
      "5 reflection_imp\n",
      "6 perfective_imp\n",
      "7 transitive_imp\n",
      "8 person_imp\n",
      "9 tense_imp\n",
      "10 voice_imp\n",
      "11 degree_imp\n",
      "12 static_imp\n",
      "0 2 3 4\n",
      "\n",
      "вставлено\n",
      "\n"
     ]
    }
   ],
   "source": [
    "insertModel3(\"час\", \"каждый\", \"None\", db)"
   ]
  },
  {
   "cell_type": "code",
   "execution_count": 11,
   "metadata": {},
   "outputs": [
    {
     "name": "stdout",
     "output_type": "stream",
     "text": [
      "Выберите варианты разбора зависимого слова  (указать номера в строку через пробел)\n",
      "\n",
      "0\n",
      "('noun', 'unanimate', 'neuter', 'single', 'nominative', 'reflectionAny', 'perfectiveAny', 'transitiveAny', 'personAny', 'tenseAny', 'voiceAny', 'degreeAny', False)\n",
      "---------------------------\n",
      "1\n",
      "('noun', 'unanimate', 'neuter', 'single', 'accusative', 'reflectionAny', 'perfectiveAny', 'transitiveAny', 'personAny', 'tenseAny', 'voiceAny', 'degreeAny', False)\n",
      "---------------------------\n",
      "1\n",
      "Выберите для данной модели важные свойства для главного слова (укажите в строку через пробел)\n",
      "\n",
      "0 s_cl_imp\n",
      "1 animate_imp\n",
      "2 gender_imp\n",
      "3 number_imp\n",
      "4 case1_imp\n",
      "5 reflection_imp\n",
      "6 perfective_imp\n",
      "7 transitive_imp\n",
      "8 person_imp\n",
      "9 tense_imp\n",
      "10 voice_imp\n",
      "11 degree_imp\n",
      "12 static_imp\n",
      "0 3 7 8 9 10\n",
      "Выберите для данной модели важные свойства для зависимого слова (укажите в строку через пробел)\n",
      "\n",
      "0 s_cl_imp\n",
      "1 animate_imp\n",
      "2 gender_imp\n",
      "3 number_imp\n",
      "4 case1_imp\n",
      "5 reflection_imp\n",
      "6 perfective_imp\n",
      "7 transitive_imp\n",
      "8 person_imp\n",
      "9 tense_imp\n",
      "10 voice_imp\n",
      "11 degree_imp\n",
      "12 static_imp\n",
      "0 4\n",
      "\n",
      "вставлено\n",
      "\n"
     ]
    }
   ],
   "source": [
    "insertModel3(\"имеет\", \"чудо\", \"None\", db)"
   ]
  },
  {
   "cell_type": "code",
   "execution_count": 13,
   "metadata": {
    "scrolled": true
   },
   "outputs": [
    {
     "name": "stdout",
     "output_type": "stream",
     "text": [
      "Выберите варианты разбора главного слова  (указать номера в строку через пробел)\n",
      "\n",
      "0\n",
      "('noun', 'unanimate', 'neuter', 'single', 'nominative', 'reflectionAny', 'perfectiveAny', 'transitiveAny', 'personAny', 'tenseAny', 'voiceAny', 'degreeAny', False)\n",
      "---------------------------\n",
      "1\n",
      "('noun', 'unanimate', 'neuter', 'single', 'accusative', 'reflectionAny', 'perfectiveAny', 'transitiveAny', 'personAny', 'tenseAny', 'voiceAny', 'degreeAny', False)\n",
      "---------------------------\n",
      "1\n",
      "Выберите варианты разбора зависимого слова  (указать номера в строку через пробел)\n",
      "\n",
      "0\n",
      "('adjective', 'animateAny', 'neuter', 'single', 'accusative', 'reflectionAny', 'perfectiveAny', 'transitiveAny', 'personAny', 'tenseAny', 'voiceAny', 'degreeAny', False)\n",
      "---------------------------\n",
      "1\n",
      "('adjective', 'animateAny', 'neuter', 'single', 'nominative', 'reflectionAny', 'perfectiveAny', 'transitiveAny', 'personAny', 'tenseAny', 'voiceAny', 'degreeAny', False)\n",
      "---------------------------\n",
      "0\n",
      "Выберите для данной модели важные свойства для главного слова (укажите в строку через пробел)\n",
      "\n",
      "0 s_cl_imp\n",
      "1 animate_imp\n",
      "2 gender_imp\n",
      "3 number_imp\n",
      "4 case1_imp\n",
      "5 reflection_imp\n",
      "6 perfective_imp\n",
      "7 transitive_imp\n",
      "8 person_imp\n",
      "9 tense_imp\n",
      "10 voice_imp\n",
      "11 degree_imp\n",
      "12 static_imp\n",
      "0 2 3 4\n",
      "Выберите для данной модели важные свойства для зависимого слова (укажите в строку через пробел)\n",
      "\n",
      "0 s_cl_imp\n",
      "1 animate_imp\n",
      "2 gender_imp\n",
      "3 number_imp\n",
      "4 case1_imp\n",
      "5 reflection_imp\n",
      "6 perfective_imp\n",
      "7 transitive_imp\n",
      "8 person_imp\n",
      "9 tense_imp\n",
      "10 voice_imp\n",
      "11 degree_imp\n",
      "12 static_imp\n",
      "0 2 3 4\n",
      "\n",
      "вставлено\n",
      "\n"
     ]
    }
   ],
   "source": [
    "insertModel3(\"чудо\", \"своё\", \"None\", db)"
   ]
  },
  {
   "cell_type": "code",
   "execution_count": null,
   "metadata": {},
   "outputs": [],
   "source": [
    "Ты был очень хорошим человеком, с которым случилось немало плохого."
   ]
  },
  {
   "cell_type": "code",
   "execution_count": 21,
   "metadata": {},
   "outputs": [
    {
     "name": "stdout",
     "output_type": "stream",
     "text": [
      "Выберите для данной модели важные свойства для главного слова (укажите в строку через пробел)\n",
      "\n",
      "0 s_cl_imp\n",
      "1 animate_imp\n",
      "2 gender_imp\n",
      "3 number_imp\n",
      "4 case1_imp\n",
      "5 reflection_imp\n",
      "6 perfective_imp\n",
      "7 transitive_imp\n",
      "8 person_imp\n",
      "9 tense_imp\n",
      "10 voice_imp\n",
      "11 degree_imp\n",
      "12 static_imp\n",
      "0\n",
      "Выберите для данной модели важные свойства для зависимого слова (укажите в строку через пробел)\n",
      "\n",
      "0 s_cl_imp\n",
      "1 animate_imp\n",
      "2 gender_imp\n",
      "3 number_imp\n",
      "4 case1_imp\n",
      "5 reflection_imp\n",
      "6 perfective_imp\n",
      "7 transitive_imp\n",
      "8 person_imp\n",
      "9 tense_imp\n",
      "10 voice_imp\n",
      "11 degree_imp\n",
      "12 static_imp\n",
      "0 2 3 4\n",
      "\n",
      "вставлено\n",
      "\n"
     ]
    }
   ],
   "source": [
    "insertModel3(\"стал\", \"ты\", \"None\", db)"
   ]
  },
  {
   "cell_type": "code",
   "execution_count": 20,
   "metadata": {},
   "outputs": [
    {
     "name": "stdout",
     "output_type": "stream",
     "text": [
      "Выберите для данной модели важные свойства для главного слова (укажите в строку через пробел)\n",
      "\n",
      "0 s_cl_imp\n",
      "1 animate_imp\n",
      "2 gender_imp\n",
      "3 number_imp\n",
      "4 case1_imp\n",
      "5 reflection_imp\n",
      "6 perfective_imp\n",
      "7 transitive_imp\n",
      "8 person_imp\n",
      "9 tense_imp\n",
      "10 voice_imp\n",
      "11 degree_imp\n",
      "12 static_imp\n",
      "0 3 7 8 9 10\n",
      "Выберите для данной модели важные свойства для зависимого слова (укажите в строку через пробел)\n",
      "\n",
      "0 s_cl_imp\n",
      "1 animate_imp\n",
      "2 gender_imp\n",
      "3 number_imp\n",
      "4 case1_imp\n",
      "5 reflection_imp\n",
      "6 perfective_imp\n",
      "7 transitive_imp\n",
      "8 person_imp\n",
      "9 tense_imp\n",
      "10 voice_imp\n",
      "11 degree_imp\n",
      "12 static_imp\n",
      "0 2 3 4\n",
      "\n",
      "вставлено\n",
      "\n"
     ]
    }
   ],
   "source": [
    "insertModel3(\"стал\", \"человеком\", \"None\", db)"
   ]
  },
  {
   "cell_type": "code",
   "execution_count": 16,
   "metadata": {
    "scrolled": true
   },
   "outputs": [
    {
     "name": "stdout",
     "output_type": "stream",
     "text": [
      "Выберите варианты разбора зависимого слова  (указать номера в строку через пробел)\n",
      "\n",
      "0\n",
      "('adjective', 'animateAny', 'male', 'single', 'instrumental', 'reflectionAny', 'perfectiveAny', 'transitiveAny', 'personAny', 'tenseAny', 'voiceAny', 'degreeAny', False)\n",
      "---------------------------\n",
      "1\n",
      "('adjective', 'animateAny', 'neuter', 'single', 'instrumental', 'reflectionAny', 'perfectiveAny', 'transitiveAny', 'personAny', 'tenseAny', 'voiceAny', 'degreeAny', False)\n",
      "---------------------------\n",
      "2\n",
      "('adjective', 'animateAny', 'genderAny', 'plural', 'dative', 'reflectionAny', 'perfectiveAny', 'transitiveAny', 'personAny', 'tenseAny', 'voiceAny', 'degreeAny', False)\n",
      "---------------------------\n",
      "0\n",
      "Выберите для данной модели важные свойства для главного слова (укажите в строку через пробел)\n",
      "\n",
      "0 s_cl_imp\n",
      "1 animate_imp\n",
      "2 gender_imp\n",
      "3 number_imp\n",
      "4 case1_imp\n",
      "5 reflection_imp\n",
      "6 perfective_imp\n",
      "7 transitive_imp\n",
      "8 person_imp\n",
      "9 tense_imp\n",
      "10 voice_imp\n",
      "11 degree_imp\n",
      "12 static_imp\n",
      "0 2 3 4\n",
      "Выберите для данной модели важные свойства для зависимого слова (укажите в строку через пробел)\n",
      "\n",
      "0 s_cl_imp\n",
      "1 animate_imp\n",
      "2 gender_imp\n",
      "3 number_imp\n",
      "4 case1_imp\n",
      "5 reflection_imp\n",
      "6 perfective_imp\n",
      "7 transitive_imp\n",
      "8 person_imp\n",
      "9 tense_imp\n",
      "10 voice_imp\n",
      "11 degree_imp\n",
      "12 static_imp\n",
      "0 2 3 4\n",
      "\n",
      "вставлено\n",
      "\n"
     ]
    }
   ],
   "source": [
    "insertModel3(\"человеком\", \"хорошим\", \"None\", db)"
   ]
  },
  {
   "cell_type": "code",
   "execution_count": 17,
   "metadata": {
    "scrolled": true
   },
   "outputs": [
    {
     "name": "stdout",
     "output_type": "stream",
     "text": [
      "Выберите варианты разбора главного слова  (указать номера в строку через пробел)\n",
      "\n",
      "0\n",
      "('adjective', 'animateAny', 'male', 'single', 'instrumental', 'reflectionAny', 'perfectiveAny', 'transitiveAny', 'personAny', 'tenseAny', 'voiceAny', 'degreeAny', False)\n",
      "---------------------------\n",
      "1\n",
      "('adjective', 'animateAny', 'neuter', 'single', 'instrumental', 'reflectionAny', 'perfectiveAny', 'transitiveAny', 'personAny', 'tenseAny', 'voiceAny', 'degreeAny', False)\n",
      "---------------------------\n",
      "2\n",
      "('adjective', 'animateAny', 'genderAny', 'plural', 'dative', 'reflectionAny', 'perfectiveAny', 'transitiveAny', 'personAny', 'tenseAny', 'voiceAny', 'degreeAny', False)\n",
      "---------------------------\n",
      "0\n",
      "Выберите для данной модели важные свойства для главного слова (укажите в строку через пробел)\n",
      "\n",
      "0 s_cl_imp\n",
      "1 animate_imp\n",
      "2 gender_imp\n",
      "3 number_imp\n",
      "4 case1_imp\n",
      "5 reflection_imp\n",
      "6 perfective_imp\n",
      "7 transitive_imp\n",
      "8 person_imp\n",
      "9 tense_imp\n",
      "10 voice_imp\n",
      "11 degree_imp\n",
      "12 static_imp\n",
      "0\n",
      "Выберите для данной модели важные свойства для зависимого слова (укажите в строку через пробел)\n",
      "\n",
      "0 s_cl_imp\n",
      "1 animate_imp\n",
      "2 gender_imp\n",
      "3 number_imp\n",
      "4 case1_imp\n",
      "5 reflection_imp\n",
      "6 perfective_imp\n",
      "7 transitive_imp\n",
      "8 person_imp\n",
      "9 tense_imp\n",
      "10 voice_imp\n",
      "11 degree_imp\n",
      "12 static_imp\n",
      "0\n",
      "\n",
      "вставлено\n",
      "\n"
     ]
    }
   ],
   "source": [
    "insertModel3(\"хорошим\", \"очень\", \"None\", db)"
   ]
  },
  {
   "cell_type": "code",
   "execution_count": 19,
   "metadata": {
    "scrolled": true
   },
   "outputs": [
    {
     "name": "stdout",
     "output_type": "stream",
     "text": [
      "Выберите варианты разбора зависимого слова  (указать номера в строку через пробел)\n",
      "\n",
      "0\n",
      "('noun', 'unanimate', 'male', 'single', 'nominative', 'reflectionAny', 'perfectiveAny', 'transitiveAny', 'personAny', 'tenseAny', 'voiceAny', 'degreeAny', False)\n",
      "---------------------------\n",
      "1\n",
      "('noun', 'unanimate', 'male', 'single', 'accusative', 'reflectionAny', 'perfectiveAny', 'transitiveAny', 'personAny', 'tenseAny', 'voiceAny', 'degreeAny', False)\n",
      "---------------------------\n",
      "2\n",
      "('noun', 'unanimate', 'neuter', 'plural', 'genitive', 'reflectionAny', 'perfectiveAny', 'transitiveAny', 'personAny', 'tenseAny', 'voiceAny', 'degreeAny', False)\n",
      "---------------------------\n",
      "0\n",
      "Выберите для данной модели важные свойства для главного слова (укажите в строку через пробел)\n",
      "\n",
      "0 s_cl_imp\n",
      "1 animate_imp\n",
      "2 gender_imp\n",
      "3 number_imp\n",
      "4 case1_imp\n",
      "5 reflection_imp\n",
      "6 perfective_imp\n",
      "7 transitive_imp\n",
      "8 person_imp\n",
      "9 tense_imp\n",
      "10 voice_imp\n",
      "11 degree_imp\n",
      "12 static_imp\n",
      "0 3\n",
      "Выберите для данной модели важные свойства для зависимого слова (укажите в строку через пробел)\n",
      "\n",
      "0 s_cl_imp\n",
      "1 animate_imp\n",
      "2 gender_imp\n",
      "3 number_imp\n",
      "4 case1_imp\n",
      "5 reflection_imp\n",
      "6 perfective_imp\n",
      "7 transitive_imp\n",
      "8 person_imp\n",
      "9 tense_imp\n",
      "10 voice_imp\n",
      "11 degree_imp\n",
      "12 static_imp\n",
      "0 2 3 4\n",
      "\n",
      "вставлено\n",
      "\n"
     ]
    }
   ],
   "source": [
    "insertModel3(\"делится\", \"мир\", \"None\", db)"
   ]
  },
  {
   "cell_type": "code",
   "execution_count": 22,
   "metadata": {},
   "outputs": [
    {
     "name": "stdout",
     "output_type": "stream",
     "text": [
      "Выберите для данной модели важные свойства для главного слова (укажите в строку через пробел)\n",
      "\n",
      "0 s_cl_imp\n",
      "1 animate_imp\n",
      "2 gender_imp\n",
      "3 number_imp\n",
      "4 case1_imp\n",
      "5 reflection_imp\n",
      "6 perfective_imp\n",
      "7 transitive_imp\n",
      "8 person_imp\n",
      "9 tense_imp\n",
      "10 voice_imp\n",
      "11 degree_imp\n",
      "12 static_imp\n",
      "0 8 9 10\n",
      "Выберите для данной модели важные свойства для зависимого слова (укажите в строку через пробел)\n",
      "\n",
      "0 s_cl_imp\n",
      "1 animate_imp\n",
      "2 gender_imp\n",
      "3 number_imp\n",
      "4 case1_imp\n",
      "5 reflection_imp\n",
      "6 perfective_imp\n",
      "7 transitive_imp\n",
      "8 person_imp\n",
      "9 tense_imp\n",
      "10 voice_imp\n",
      "11 degree_imp\n",
      "12 static_imp\n",
      "0\n",
      "\n",
      "вставлено\n",
      "\n"
     ]
    }
   ],
   "source": [
    "insertModel3(\"делится\", \"не\", \"None\", db)"
   ]
  },
  {
   "cell_type": "code",
   "execution_count": 24,
   "metadata": {
    "scrolled": true
   },
   "outputs": [
    {
     "name": "stdout",
     "output_type": "stream",
     "text": [
      "Выберите варианты разбора зависимого слова  (указать номера в строку через пробел)\n",
      "\n",
      "0\n",
      "('noun', 'animate', 'male', 'plural', 'genitive', 'reflectionAny', 'perfectiveAny', 'transitiveAny', 'personAny', 'tenseAny', 'voiceAny', 'degreeAny', False)\n",
      "---------------------------\n",
      "1\n",
      "('noun', 'animate', 'male', 'plural', 'accusative', 'reflectionAny', 'perfectiveAny', 'transitiveAny', 'personAny', 'tenseAny', 'voiceAny', 'degreeAny', False)\n",
      "---------------------------\n",
      "1\n",
      "Выберите для данной модели важные свойства для главного слова (укажите в строку через пробел)\n",
      "\n",
      "0 s_cl_imp\n",
      "1 animate_imp\n",
      "2 gender_imp\n",
      "3 number_imp\n",
      "4 case1_imp\n",
      "5 reflection_imp\n",
      "6 perfective_imp\n",
      "7 transitive_imp\n",
      "8 person_imp\n",
      "9 tense_imp\n",
      "10 voice_imp\n",
      "11 degree_imp\n",
      "12 static_imp\n",
      "0\n",
      "Выберите для данной модели важные свойства для зависимого слова (укажите в строку через пробел)\n",
      "\n",
      "0 s_cl_imp\n",
      "1 animate_imp\n",
      "2 gender_imp\n",
      "3 number_imp\n",
      "4 case1_imp\n",
      "5 reflection_imp\n",
      "6 perfective_imp\n",
      "7 transitive_imp\n",
      "8 person_imp\n",
      "9 tense_imp\n",
      "10 voice_imp\n",
      "11 degree_imp\n",
      "12 static_imp\n",
      "0 4\n",
      "\n",
      "вставлено\n",
      "\n"
     ]
    }
   ],
   "source": [
    "insertModel3(\"делится\", \"людей\", \"на\", db)"
   ]
  },
  {
   "cell_type": "code",
   "execution_count": 28,
   "metadata": {
    "scrolled": true
   },
   "outputs": [
    {
     "name": "stdout",
     "output_type": "stream",
     "text": [
      "Выберите варианты разбора главного слова  (указать номера в строку через пробел)\n",
      "\n",
      "0\n",
      "('noun', 'animate', 'male', 'plural', 'genitive', 'reflectionAny', 'perfectiveAny', 'transitiveAny', 'personAny', 'tenseAny', 'voiceAny', 'degreeAny', False)\n",
      "---------------------------\n",
      "1\n",
      "('noun', 'animate', 'male', 'plural', 'accusative', 'reflectionAny', 'perfectiveAny', 'transitiveAny', 'personAny', 'tenseAny', 'voiceAny', 'degreeAny', False)\n",
      "---------------------------\n",
      "1\n",
      "Выберите варианты разбора зависимого слова  (указать номера в строку через пробел)\n",
      "\n",
      "0\n",
      "('adjective', 'animateAny', 'genderAny', 'plural', 'genitive', 'reflectionAny', 'perfectiveAny', 'transitiveAny', 'personAny', 'tenseAny', 'voiceAny', 'degreeAny', False)\n",
      "---------------------------\n",
      "1\n",
      "('adjective', 'animate', 'genderAny', 'plural', 'accusative', 'reflectionAny', 'perfectiveAny', 'transitiveAny', 'personAny', 'tenseAny', 'voiceAny', 'degreeAny', False)\n",
      "---------------------------\n",
      "2\n",
      "('adjective', 'animateAny', 'genderAny', 'plural', 'prepositional', 'reflectionAny', 'perfectiveAny', 'transitiveAny', 'personAny', 'tenseAny', 'voiceAny', 'degreeAny', False)\n",
      "---------------------------\n",
      "1\n",
      "Выберите для данной модели важные свойства для главного слова (укажите в строку через пробел)\n",
      "\n",
      "0 s_cl_imp\n",
      "1 animate_imp\n",
      "2 gender_imp\n",
      "3 number_imp\n",
      "4 case1_imp\n",
      "5 reflection_imp\n",
      "6 perfective_imp\n",
      "7 transitive_imp\n",
      "8 person_imp\n",
      "9 tense_imp\n",
      "10 voice_imp\n",
      "11 degree_imp\n",
      "12 static_imp\n",
      "0 3 4\n",
      "Выберите для данной модели важные свойства для зависимого слова (укажите в строку через пробел)\n",
      "\n",
      "0 s_cl_imp\n",
      "1 animate_imp\n",
      "2 gender_imp\n",
      "3 number_imp\n",
      "4 case1_imp\n",
      "5 reflection_imp\n",
      "6 perfective_imp\n",
      "7 transitive_imp\n",
      "8 person_imp\n",
      "9 tense_imp\n",
      "10 voice_imp\n",
      "11 degree_imp\n",
      "12 static_imp\n",
      "0 3 4\n",
      "\n",
      "вставлено\n",
      "\n"
     ]
    }
   ],
   "source": [
    "insertModel3(\"людей\", \"плохих\", \"None\", db)"
   ]
  },
  {
   "cell_type": "code",
   "execution_count": 26,
   "metadata": {
    "scrolled": true
   },
   "outputs": [
    {
     "name": "stdout",
     "output_type": "stream",
     "text": [
      "Выберите варианты разбора главного слова  (указать номера в строку через пробел)\n",
      "\n",
      "0\n",
      "('noun', 'animate', 'male', 'plural', 'genitive', 'reflectionAny', 'perfectiveAny', 'transitiveAny', 'personAny', 'tenseAny', 'voiceAny', 'degreeAny', False)\n",
      "---------------------------\n",
      "1\n",
      "('noun', 'animate', 'male', 'plural', 'accusative', 'reflectionAny', 'perfectiveAny', 'transitiveAny', 'personAny', 'tenseAny', 'voiceAny', 'degreeAny', False)\n",
      "---------------------------\n",
      "1\n",
      "Выберите варианты разбора зависимого слова  (указать номера в строку через пробел)\n",
      "\n",
      "0\n",
      "('adjective', 'animateAny', 'genderAny', 'plural', 'genitive', 'reflectionAny', 'perfectiveAny', 'transitiveAny', 'personAny', 'tenseAny', 'voiceAny', 'degreeAny', False)\n",
      "---------------------------\n",
      "1\n",
      "('adjective', 'animate', 'genderAny', 'plural', 'accusative', 'reflectionAny', 'perfectiveAny', 'transitiveAny', 'personAny', 'tenseAny', 'voiceAny', 'degreeAny', False)\n",
      "---------------------------\n",
      "2\n",
      "('adjective', 'animateAny', 'genderAny', 'plural', 'prepositional', 'reflectionAny', 'perfectiveAny', 'transitiveAny', 'personAny', 'tenseAny', 'voiceAny', 'degreeAny', False)\n",
      "---------------------------\n",
      "1\n",
      "Выберите для данной модели важные свойства для главного слова (укажите в строку через пробел)\n",
      "\n",
      "0 s_cl_imp\n",
      "1 animate_imp\n",
      "2 gender_imp\n",
      "3 number_imp\n",
      "4 case1_imp\n",
      "5 reflection_imp\n",
      "6 perfective_imp\n",
      "7 transitive_imp\n",
      "8 person_imp\n",
      "9 tense_imp\n",
      "10 voice_imp\n",
      "11 degree_imp\n",
      "12 static_imp\n",
      "0 2 3 4\n",
      "Выберите для данной модели важные свойства для зависимого слова (укажите в строку через пробел)\n",
      "\n",
      "0 s_cl_imp\n",
      "1 animate_imp\n",
      "2 gender_imp\n",
      "3 number_imp\n",
      "4 case1_imp\n",
      "5 reflection_imp\n",
      "6 perfective_imp\n",
      "7 transitive_imp\n",
      "8 person_imp\n",
      "9 tense_imp\n",
      "10 voice_imp\n",
      "11 degree_imp\n",
      "12 static_imp\n",
      "0 2 3 4\n",
      "\n",
      "вставлено\n",
      "\n"
     ]
    }
   ],
   "source": [
    "insertModel3(\"людей\", \"хороших\", \"None\", db)"
   ]
  },
  {
   "cell_type": "code",
   "execution_count": 29,
   "metadata": {},
   "outputs": [
    {
     "name": "stdout",
     "output_type": "stream",
     "text": [
      "Выберите варианты разбора главного слова  (указать номера в строку через пробел)\n",
      "\n",
      "0\n",
      "('verb', 'animateAny', 'genderAny', 'single', 'caseAny', 'unreflexive', 'unperfective', 'untransitive', 'third', 'present', 'voiceAny', 'degreeAny', False)\n",
      "---------------------------\n",
      "1\n",
      "('verb', 'animateAny', 'genderAny', 'plural', 'caseAny', 'unreflexive', 'unperfective', 'untransitive', 'third', 'present', 'voiceAny', 'degreeAny', False)\n",
      "---------------------------\n",
      "2\n",
      "('interjection', 'animateAny', 'genderAny', 'numberAny', 'caseAny', 'reflectionAny', 'perfectiveAny', 'transitiveAny', 'personAny', 'tenseAny', 'voiceAny', 'degreeAny', True)\n",
      "---------------------------\n",
      "3\n",
      "('verb', 'animateAny', 'genderAny', 'numberAny', 'caseAny', 'unreflexive', 'unperfective', 'transitive', 'personAny', 'infinitive', 'voiceAny', 'degreeAny', False)\n",
      "---------------------------\n",
      "0 1 3\n",
      "Выберите для данной модели важные свойства для главного слова (укажите в строку через пробел)\n",
      "\n",
      "0 s_cl_imp\n",
      "1 animate_imp\n",
      "2 gender_imp\n",
      "3 number_imp\n",
      "4 case1_imp\n",
      "5 reflection_imp\n",
      "6 perfective_imp\n",
      "7 transitive_imp\n",
      "8 person_imp\n",
      "9 tense_imp\n",
      "10 voice_imp\n",
      "11 degree_imp\n",
      "12 static_imp\n",
      "0\n",
      "Выберите для данной модели важные свойства для зависимого слова (укажите в строку через пробел)\n",
      "\n",
      "0 s_cl_imp\n",
      "1 animate_imp\n",
      "2 gender_imp\n",
      "3 number_imp\n",
      "4 case1_imp\n",
      "5 reflection_imp\n",
      "6 perfective_imp\n",
      "7 transitive_imp\n",
      "8 person_imp\n",
      "9 tense_imp\n",
      "10 voice_imp\n",
      "11 degree_imp\n",
      "12 static_imp\n",
      "0\n",
      "\n",
      "вставлено\n",
      "\n",
      "Выберите для данной модели важные свойства для главного слова (укажите в строку через пробел)\n",
      "\n",
      "0 s_cl_imp\n",
      "1 animate_imp\n",
      "2 gender_imp\n",
      "3 number_imp\n",
      "4 case1_imp\n",
      "5 reflection_imp\n",
      "6 perfective_imp\n",
      "7 transitive_imp\n",
      "8 person_imp\n",
      "9 tense_imp\n",
      "10 voice_imp\n",
      "11 degree_imp\n",
      "12 static_imp\n",
      "0\n",
      "Выберите для данной модели важные свойства для зависимого слова (укажите в строку через пробел)\n",
      "\n",
      "0 s_cl_imp\n",
      "1 animate_imp\n",
      "2 gender_imp\n",
      "3 number_imp\n",
      "4 case1_imp\n",
      "5 reflection_imp\n",
      "6 perfective_imp\n",
      "7 transitive_imp\n",
      "8 person_imp\n",
      "9 tense_imp\n",
      "10 voice_imp\n",
      "11 degree_imp\n",
      "12 static_imp\n",
      "0 4\n",
      "\n",
      "вставлено\n",
      "\n",
      "Выберите для данной модели важные свойства для главного слова (укажите в строку через пробел)\n",
      "\n",
      "0 s_cl_imp\n",
      "1 animate_imp\n",
      "2 gender_imp\n",
      "3 number_imp\n",
      "4 case1_imp\n",
      "5 reflection_imp\n",
      "6 perfective_imp\n",
      "7 transitive_imp\n",
      "8 person_imp\n",
      "9 tense_imp\n",
      "10 voice_imp\n",
      "11 degree_imp\n",
      "12 static_imp\n",
      "0\n",
      "Выберите для данной модели важные свойства для зависимого слова (укажите в строку через пробел)\n",
      "\n",
      "0 s_cl_imp\n",
      "1 animate_imp\n",
      "2 gender_imp\n",
      "3 number_imp\n",
      "4 case1_imp\n",
      "5 reflection_imp\n",
      "6 perfective_imp\n",
      "7 transitive_imp\n",
      "8 person_imp\n",
      "9 tense_imp\n",
      "10 voice_imp\n",
      "11 degree_imp\n",
      "12 static_imp\n",
      "0 4\n",
      "\n",
      "вставлено\n",
      "\n"
     ]
    }
   ],
   "source": [
    "insertModel3(\"есть\", \"сторона\", \"None\", db)"
   ]
  },
  {
   "cell_type": "code",
   "execution_count": 30,
   "metadata": {},
   "outputs": [
    {
     "name": "stdout",
     "output_type": "stream",
     "text": [
      "Выберите варианты разбора главного слова  (указать номера в строку через пробел)\n",
      "\n",
      "0\n",
      "('verb', 'animateAny', 'genderAny', 'single', 'caseAny', 'unreflexive', 'unperfective', 'untransitive', 'third', 'present', 'voiceAny', 'degreeAny', False)\n",
      "---------------------------\n",
      "1\n",
      "('verb', 'animateAny', 'genderAny', 'plural', 'caseAny', 'unreflexive', 'unperfective', 'untransitive', 'third', 'present', 'voiceAny', 'degreeAny', False)\n",
      "---------------------------\n",
      "2\n",
      "('interjection', 'animateAny', 'genderAny', 'numberAny', 'caseAny', 'reflectionAny', 'perfectiveAny', 'transitiveAny', 'personAny', 'tenseAny', 'voiceAny', 'degreeAny', True)\n",
      "---------------------------\n",
      "3\n",
      "('verb', 'animateAny', 'genderAny', 'numberAny', 'caseAny', 'unreflexive', 'unperfective', 'transitive', 'personAny', 'infinitive', 'voiceAny', 'degreeAny', False)\n",
      "---------------------------\n",
      "0 1 3\n",
      "Выберите варианты разбора зависимого слова  (указать номера в строку через пробел)\n",
      "\n",
      "0\n",
      "('adjective', 'animateAny', 'male', 'single', 'prepositional', 'reflectionAny', 'perfectiveAny', 'transitiveAny', 'personAny', 'tenseAny', 'voiceAny', 'degreeAny', False)\n",
      "---------------------------\n",
      "1\n",
      "('adjective', 'animateAny', 'neuter', 'single', 'prepositional', 'reflectionAny', 'perfectiveAny', 'transitiveAny', 'personAny', 'tenseAny', 'voiceAny', 'degreeAny', False)\n",
      "---------------------------\n",
      "0 1\n",
      "Выберите для данной модели важные свойства для главного слова (укажите в строку через пробел)\n",
      "\n",
      "0 s_cl_imp\n",
      "1 animate_imp\n",
      "2 gender_imp\n",
      "3 number_imp\n",
      "4 case1_imp\n",
      "5 reflection_imp\n",
      "6 perfective_imp\n",
      "7 transitive_imp\n",
      "8 person_imp\n",
      "9 tense_imp\n",
      "10 voice_imp\n",
      "11 degree_imp\n",
      "12 static_imp\n",
      "0\n",
      "Выберите для данной модели важные свойства для зависимого слова (укажите в строку через пробел)\n",
      "\n",
      "0 s_cl_imp\n",
      "1 animate_imp\n",
      "2 gender_imp\n",
      "3 number_imp\n",
      "4 case1_imp\n",
      "5 reflection_imp\n",
      "6 perfective_imp\n",
      "7 transitive_imp\n",
      "8 person_imp\n",
      "9 tense_imp\n",
      "10 voice_imp\n",
      "11 degree_imp\n",
      "12 static_imp\n",
      "0 4\n",
      "\n",
      "вставлено\n",
      "\n",
      "Выберите для данной модели важные свойства для главного слова (укажите в строку через пробел)\n",
      "\n",
      "0 s_cl_imp\n",
      "1 animate_imp\n",
      "2 gender_imp\n",
      "3 number_imp\n",
      "4 case1_imp\n",
      "5 reflection_imp\n",
      "6 perfective_imp\n",
      "7 transitive_imp\n",
      "8 person_imp\n",
      "9 tense_imp\n",
      "10 voice_imp\n",
      "11 degree_imp\n",
      "12 static_imp\n",
      "0\n",
      "Выберите для данной модели важные свойства для зависимого слова (укажите в строку через пробел)\n",
      "\n",
      "0 s_cl_imp\n",
      "1 animate_imp\n",
      "2 gender_imp\n",
      "3 number_imp\n",
      "4 case1_imp\n",
      "5 reflection_imp\n",
      "6 perfective_imp\n",
      "7 transitive_imp\n",
      "8 person_imp\n",
      "9 tense_imp\n",
      "10 voice_imp\n",
      "11 degree_imp\n",
      "12 static_imp\n",
      "0 4\n",
      "\n",
      "вставлено\n",
      "\n",
      "Выберите для данной модели важные свойства для главного слова (укажите в строку через пробел)\n",
      "\n",
      "0 s_cl_imp\n",
      "1 animate_imp\n",
      "2 gender_imp\n",
      "3 number_imp\n",
      "4 case1_imp\n",
      "5 reflection_imp\n",
      "6 perfective_imp\n",
      "7 transitive_imp\n",
      "8 person_imp\n",
      "9 tense_imp\n",
      "10 voice_imp\n",
      "11 degree_imp\n",
      "12 static_imp\n",
      "0\n",
      "Выберите для данной модели важные свойства для зависимого слова (укажите в строку через пробел)\n",
      "\n",
      "0 s_cl_imp\n",
      "1 animate_imp\n",
      "2 gender_imp\n",
      "3 number_imp\n",
      "4 case1_imp\n",
      "5 reflection_imp\n",
      "6 perfective_imp\n",
      "7 transitive_imp\n",
      "8 person_imp\n",
      "9 tense_imp\n",
      "10 voice_imp\n",
      "11 degree_imp\n",
      "12 static_imp\n",
      "0 4\n",
      "\n",
      "вставлено\n",
      "\n",
      "Выберите для данной модели важные свойства для главного слова (укажите в строку через пробел)\n",
      "\n",
      "0 s_cl_imp\n",
      "1 animate_imp\n",
      "2 gender_imp\n",
      "3 number_imp\n",
      "4 case1_imp\n",
      "5 reflection_imp\n",
      "6 perfective_imp\n",
      "7 transitive_imp\n",
      "8 person_imp\n",
      "9 tense_imp\n",
      "10 voice_imp\n",
      "11 degree_imp\n",
      "12 static_imp\n",
      "0\n",
      "Выберите для данной модели важные свойства для зависимого слова (укажите в строку через пробел)\n",
      "\n",
      "0 s_cl_imp\n",
      "1 animate_imp\n",
      "2 gender_imp\n",
      "3 number_imp\n",
      "4 case1_imp\n",
      "5 reflection_imp\n",
      "6 perfective_imp\n",
      "7 transitive_imp\n",
      "8 person_imp\n",
      "9 tense_imp\n",
      "10 voice_imp\n",
      "11 degree_imp\n",
      "12 static_imp\n",
      "0 4\n",
      "\n",
      "вставлено\n",
      "\n",
      "Выберите для данной модели важные свойства для главного слова (укажите в строку через пробел)\n",
      "\n",
      "0 s_cl_imp\n",
      "1 animate_imp\n",
      "2 gender_imp\n",
      "3 number_imp\n",
      "4 case1_imp\n",
      "5 reflection_imp\n",
      "6 perfective_imp\n",
      "7 transitive_imp\n",
      "8 person_imp\n",
      "9 tense_imp\n",
      "10 voice_imp\n",
      "11 degree_imp\n",
      "12 static_imp\n",
      "0\n",
      "Выберите для данной модели важные свойства для зависимого слова (укажите в строку через пробел)\n",
      "\n",
      "0 s_cl_imp\n",
      "1 animate_imp\n",
      "2 gender_imp\n",
      "3 number_imp\n",
      "4 case1_imp\n",
      "5 reflection_imp\n",
      "6 perfective_imp\n",
      "7 transitive_imp\n",
      "8 person_imp\n",
      "9 tense_imp\n",
      "10 voice_imp\n",
      "11 degree_imp\n",
      "12 static_imp\n",
      "0 4\n",
      "\n",
      "вставлено\n",
      "\n",
      "Выберите для данной модели важные свойства для главного слова (укажите в строку через пробел)\n",
      "\n",
      "0 s_cl_imp\n",
      "1 animate_imp\n",
      "2 gender_imp\n",
      "3 number_imp\n",
      "4 case1_imp\n",
      "5 reflection_imp\n",
      "6 perfective_imp\n",
      "7 transitive_imp\n",
      "8 person_imp\n",
      "9 tense_imp\n",
      "10 voice_imp\n",
      "11 degree_imp\n",
      "12 static_imp\n",
      "0\n",
      "Выберите для данной модели важные свойства для зависимого слова (укажите в строку через пробел)\n",
      "\n",
      "0 s_cl_imp\n",
      "1 animate_imp\n",
      "2 gender_imp\n",
      "3 number_imp\n",
      "4 case1_imp\n",
      "5 reflection_imp\n",
      "6 perfective_imp\n",
      "7 transitive_imp\n",
      "8 person_imp\n",
      "9 tense_imp\n",
      "10 voice_imp\n",
      "11 degree_imp\n",
      "12 static_imp\n",
      "0 4\n",
      "\n",
      "вставлено\n",
      "\n"
     ]
    }
   ],
   "source": [
    "insertModel3(\"есть\", \"каждом\", \"в\", db)"
   ]
  },
  {
   "cell_type": "code",
   "execution_count": 31,
   "metadata": {},
   "outputs": [
    {
     "name": "stdout",
     "output_type": "stream",
     "text": [
      "Выберите для данной модели важные свойства для главного слова (укажите в строку через пробел)\n",
      "\n",
      "0 s_cl_imp\n",
      "1 animate_imp\n",
      "2 gender_imp\n",
      "3 number_imp\n",
      "4 case1_imp\n",
      "5 reflection_imp\n",
      "6 perfective_imp\n",
      "7 transitive_imp\n",
      "8 person_imp\n",
      "9 tense_imp\n",
      "10 voice_imp\n",
      "11 degree_imp\n",
      "12 static_imp\n",
      "0 2 3 4\n",
      "Выберите для данной модели важные свойства для зависимого слова (укажите в строку через пробел)\n",
      "\n",
      "0 s_cl_imp\n",
      "1 animate_imp\n",
      "2 gender_imp\n",
      "3 number_imp\n",
      "4 case1_imp\n",
      "5 reflection_imp\n",
      "6 perfective_imp\n",
      "7 transitive_imp\n",
      "8 person_imp\n",
      "9 tense_imp\n",
      "10 voice_imp\n",
      "11 degree_imp\n",
      "12 static_imp\n",
      "0 2 3 4\n",
      "\n",
      "вставлено\n",
      "\n"
     ]
    }
   ],
   "source": [
    "insertModel3(\"сторона\", \"светлая\", \"None\", db)"
   ]
  },
  {
   "cell_type": "code",
   "execution_count": 33,
   "metadata": {
    "scrolled": true
   },
   "outputs": [
    {
     "name": "stdout",
     "output_type": "stream",
     "text": [
      "Выберите для данной модели важные свойства для главного слова (укажите в строку через пробел)\n",
      "\n",
      "0 s_cl_imp\n",
      "1 animate_imp\n",
      "2 gender_imp\n",
      "3 number_imp\n",
      "4 case1_imp\n",
      "5 reflection_imp\n",
      "6 perfective_imp\n",
      "7 transitive_imp\n",
      "8 person_imp\n",
      "9 tense_imp\n",
      "10 voice_imp\n",
      "11 degree_imp\n",
      "12 static_imp\n",
      "0 2 3 4\n",
      "Выберите для данной модели важные свойства для зависимого слова (укажите в строку через пробел)\n",
      "\n",
      "0 s_cl_imp\n",
      "1 animate_imp\n",
      "2 gender_imp\n",
      "3 number_imp\n",
      "4 case1_imp\n",
      "5 reflection_imp\n",
      "6 perfective_imp\n",
      "7 transitive_imp\n",
      "8 person_imp\n",
      "9 tense_imp\n",
      "10 voice_imp\n",
      "11 degree_imp\n",
      "12 static_imp\n",
      "0 2 3 4\n",
      "\n",
      "вставлено\n",
      "\n"
     ]
    }
   ],
   "source": [
    "insertModel3(\"сторона\", \"тёмная\", \"None\", db)"
   ]
  },
  {
   "cell_type": "code",
   "execution_count": 36,
   "metadata": {
    "scrolled": true
   },
   "outputs": [
    {
     "name": "stdout",
     "output_type": "stream",
     "text": [
      "Выберите варианты разбора зависимого слова  (указать номера в строку через пробел)\n",
      "\n",
      "0\n",
      "('shortadjective', 'animateAny', 'genderAny', 'plural', 'caseAny', 'reflectionAny', 'perfectiveAny', 'transitiveAny', 'personAny', 'tenseAny', 'voiceAny', 'degreeAny', False)\n",
      "---------------------------\n",
      "1\n",
      "('noun', 'unanimate', 'female', 'single', 'genitive', 'reflectionAny', 'perfectiveAny', 'transitiveAny', 'personAny', 'tenseAny', 'voiceAny', 'degreeAny', False)\n",
      "---------------------------\n",
      "2\n",
      "('noun', 'unanimate', 'female', 'single', 'dative', 'reflectionAny', 'perfectiveAny', 'transitiveAny', 'personAny', 'tenseAny', 'voiceAny', 'degreeAny', False)\n",
      "---------------------------\n",
      "3\n",
      "('noun', 'unanimate', 'female', 'single', 'prepositional', 'reflectionAny', 'perfectiveAny', 'transitiveAny', 'personAny', 'tenseAny', 'voiceAny', 'degreeAny', False)\n",
      "---------------------------\n",
      "4\n",
      "('noun', 'unanimate', 'female', 'plural', 'nominative', 'reflectionAny', 'perfectiveAny', 'transitiveAny', 'personAny', 'tenseAny', 'voiceAny', 'degreeAny', False)\n",
      "---------------------------\n",
      "5\n",
      "('noun', 'unanimate', 'female', 'plural', 'accusative', 'reflectionAny', 'perfectiveAny', 'transitiveAny', 'personAny', 'tenseAny', 'voiceAny', 'degreeAny', False)\n",
      "---------------------------\n",
      "4\n",
      "Выберите для данной модели важные свойства для главного слова (укажите в строку через пробел)\n",
      "\n",
      "0 s_cl_imp\n",
      "1 animate_imp\n",
      "2 gender_imp\n",
      "3 number_imp\n",
      "4 case1_imp\n",
      "5 reflection_imp\n",
      "6 perfective_imp\n",
      "7 transitive_imp\n",
      "8 person_imp\n",
      "9 tense_imp\n",
      "10 voice_imp\n",
      "11 degree_imp\n",
      "12 static_imp\n",
      "0 3\n",
      "Выберите для данной модели важные свойства для зависимого слова (укажите в строку через пробел)\n",
      "\n",
      "0 s_cl_imp\n",
      "1 animate_imp\n",
      "2 gender_imp\n",
      "3 number_imp\n",
      "4 case1_imp\n",
      "5 reflection_imp\n",
      "6 perfective_imp\n",
      "7 transitive_imp\n",
      "8 person_imp\n",
      "9 tense_imp\n",
      "10 voice_imp\n",
      "11 degree_imp\n",
      "12 static_imp\n",
      "0 3 4\n",
      "\n",
      "вставлено\n",
      "\n"
     ]
    }
   ],
   "source": [
    "insertModel3(\"вернутся\", \"вещи\", \"None\", db)"
   ]
  },
  {
   "cell_type": "code",
   "execution_count": 37,
   "metadata": {
    "scrolled": true
   },
   "outputs": [
    {
     "name": "stdout",
     "output_type": "stream",
     "text": [
      "Выберите варианты разбора главного слова  (указать номера в строку через пробел)\n",
      "\n",
      "0\n",
      "('shortadjective', 'animateAny', 'genderAny', 'plural', 'caseAny', 'reflectionAny', 'perfectiveAny', 'transitiveAny', 'personAny', 'tenseAny', 'voiceAny', 'degreeAny', False)\n",
      "---------------------------\n",
      "1\n",
      "('noun', 'unanimate', 'female', 'single', 'genitive', 'reflectionAny', 'perfectiveAny', 'transitiveAny', 'personAny', 'tenseAny', 'voiceAny', 'degreeAny', False)\n",
      "---------------------------\n",
      "2\n",
      "('noun', 'unanimate', 'female', 'single', 'dative', 'reflectionAny', 'perfectiveAny', 'transitiveAny', 'personAny', 'tenseAny', 'voiceAny', 'degreeAny', False)\n",
      "---------------------------\n",
      "3\n",
      "('noun', 'unanimate', 'female', 'single', 'prepositional', 'reflectionAny', 'perfectiveAny', 'transitiveAny', 'personAny', 'tenseAny', 'voiceAny', 'degreeAny', False)\n",
      "---------------------------\n",
      "4\n",
      "('noun', 'unanimate', 'female', 'plural', 'nominative', 'reflectionAny', 'perfectiveAny', 'transitiveAny', 'personAny', 'tenseAny', 'voiceAny', 'degreeAny', False)\n",
      "---------------------------\n",
      "5\n",
      "('noun', 'unanimate', 'female', 'plural', 'accusative', 'reflectionAny', 'perfectiveAny', 'transitiveAny', 'personAny', 'tenseAny', 'voiceAny', 'degreeAny', False)\n",
      "---------------------------\n",
      "4\n",
      "Выберите варианты разбора зависимого слова  (указать номера в строку через пробел)\n",
      "\n",
      "0\n",
      "('adjective', 'animateAny', 'genderAny', 'plural', 'nominative', 'reflectionAny', 'perfectiveAny', 'transitiveAny', 'personAny', 'tenseAny', 'voiceAny', 'degreeAny', False)\n",
      "---------------------------\n",
      "1\n",
      "('adjective', 'unanimate', 'genderAny', 'plural', 'accusative', 'reflectionAny', 'perfectiveAny', 'transitiveAny', 'personAny', 'tenseAny', 'voiceAny', 'degreeAny', False)\n",
      "---------------------------\n",
      "2\n",
      "('participle', 'animateAny', 'genderAny', 'plural', 'nominative', 'unreflexive', 'perfective', 'transitive', 'personAny', 'past', 'passive', 'degreeAny', False)\n",
      "---------------------------\n",
      "3\n",
      "('participle', 'unanimate', 'genderAny', 'plural', 'accusative', 'unreflexive', 'perfective', 'transitive', 'personAny', 'past', 'passive', 'degreeAny', False)\n",
      "---------------------------\n",
      "0\n",
      "Выберите для данной модели важные свойства для главного слова (укажите в строку через пробел)\n",
      "\n",
      "0 s_cl_imp\n",
      "1 animate_imp\n",
      "2 gender_imp\n",
      "3 number_imp\n",
      "4 case1_imp\n",
      "5 reflection_imp\n",
      "6 perfective_imp\n",
      "7 transitive_imp\n",
      "8 person_imp\n",
      "9 tense_imp\n",
      "10 voice_imp\n",
      "11 degree_imp\n",
      "12 static_imp\n",
      "0 2 3 4\n",
      "Выберите для данной модели важные свойства для зависимого слова (укажите в строку через пробел)\n",
      "\n",
      "0 s_cl_imp\n",
      "1 animate_imp\n",
      "2 gender_imp\n",
      "3 number_imp\n",
      "4 case1_imp\n",
      "5 reflection_imp\n",
      "6 perfective_imp\n",
      "7 transitive_imp\n",
      "8 person_imp\n",
      "9 tense_imp\n",
      "10 voice_imp\n",
      "11 degree_imp\n",
      "12 static_imp\n",
      "0 2 3 4\n",
      "\n",
      "вставлено\n",
      "\n"
     ]
    }
   ],
   "source": [
    "insertModel3(\"вещи\", \"потерянные\", \"None\", db)"
   ]
  },
  {
   "cell_type": "code",
   "execution_count": 38,
   "metadata": {
    "scrolled": true
   },
   "outputs": [
    {
     "name": "stdout",
     "output_type": "stream",
     "text": [
      "Выберите варианты разбора главного слова  (указать номера в строку через пробел)\n",
      "\n",
      "0\n",
      "('adjective', 'animateAny', 'genderAny', 'plural', 'nominative', 'reflectionAny', 'perfectiveAny', 'transitiveAny', 'personAny', 'tenseAny', 'voiceAny', 'degreeAny', False)\n",
      "---------------------------\n",
      "1\n",
      "('adjective', 'unanimate', 'genderAny', 'plural', 'accusative', 'reflectionAny', 'perfectiveAny', 'transitiveAny', 'personAny', 'tenseAny', 'voiceAny', 'degreeAny', False)\n",
      "---------------------------\n",
      "2\n",
      "('participle', 'animateAny', 'genderAny', 'plural', 'nominative', 'unreflexive', 'perfective', 'transitive', 'personAny', 'past', 'passive', 'degreeAny', False)\n",
      "---------------------------\n",
      "3\n",
      "('participle', 'unanimate', 'genderAny', 'plural', 'accusative', 'unreflexive', 'perfective', 'transitive', 'personAny', 'past', 'passive', 'degreeAny', False)\n",
      "---------------------------\n",
      "0\n",
      "Выберите для данной модели важные свойства для главного слова (укажите в строку через пробел)\n",
      "\n",
      "0 s_cl_imp\n",
      "1 animate_imp\n",
      "2 gender_imp\n",
      "3 number_imp\n",
      "4 case1_imp\n",
      "5 reflection_imp\n",
      "6 perfective_imp\n",
      "7 transitive_imp\n",
      "8 person_imp\n",
      "9 tense_imp\n",
      "10 voice_imp\n",
      "11 degree_imp\n",
      "12 static_imp\n",
      "0 2 3 4\n",
      "Выберите для данной модели важные свойства для зависимого слова (укажите в строку через пробел)\n",
      "\n",
      "0 s_cl_imp\n",
      "1 animate_imp\n",
      "2 gender_imp\n",
      "3 number_imp\n",
      "4 case1_imp\n",
      "5 reflection_imp\n",
      "6 perfective_imp\n",
      "7 transitive_imp\n",
      "8 person_imp\n",
      "9 tense_imp\n",
      "10 voice_imp\n",
      "11 degree_imp\n",
      "12 static_imp\n",
      "0 2 3 4\n",
      "\n",
      "вставлено\n",
      "\n"
     ]
    }
   ],
   "source": [
    "insertModel3(\"потерянные\", \"нами\", \"None\", db)"
   ]
  },
  {
   "cell_type": "code",
   "execution_count": 39,
   "metadata": {
    "scrolled": true
   },
   "outputs": [
    {
     "name": "stdout",
     "output_type": "stream",
     "text": [
      "Выберите варианты разбора зависимого слова  (указать номера в строку через пробел)\n",
      "\n",
      "0\n",
      "('adverb', 'animateAny', 'genderAny', 'numberAny', 'caseAny', 'reflectionAny', 'perfectiveAny', 'transitiveAny', 'personAny', 'tenseAny', 'voiceAny', 'degreeAny', True)\n",
      "---------------------------\n",
      "1\n",
      "('shortadjective', 'animateAny', 'neuter', 'single', 'caseAny', 'reflectionAny', 'perfectiveAny', 'transitiveAny', 'personAny', 'tenseAny', 'voiceAny', 'degreeAny', False)\n",
      "---------------------------\n",
      "0\n",
      "Выберите для данной модели важные свойства для главного слова (укажите в строку через пробел)\n",
      "\n",
      "0 s_cl_imp\n",
      "1 animate_imp\n",
      "2 gender_imp\n",
      "3 number_imp\n",
      "4 case1_imp\n",
      "5 reflection_imp\n",
      "6 perfective_imp\n",
      "7 transitive_imp\n",
      "8 person_imp\n",
      "9 tense_imp\n",
      "10 voice_imp\n",
      "11 degree_imp\n",
      "12 static_imp\n",
      "0\n",
      "Выберите для данной модели важные свойства для зависимого слова (укажите в строку через пробел)\n",
      "\n",
      "0 s_cl_imp\n",
      "1 animate_imp\n",
      "2 gender_imp\n",
      "3 number_imp\n",
      "4 case1_imp\n",
      "5 reflection_imp\n",
      "6 perfective_imp\n",
      "7 transitive_imp\n",
      "8 person_imp\n",
      "9 tense_imp\n",
      "10 voice_imp\n",
      "11 degree_imp\n",
      "12 static_imp\n",
      "0\n",
      "\n",
      "вставлено\n",
      "\n"
     ]
    }
   ],
   "source": [
    "insertModel3(\"вернутся\", \"обязательно\", \"None\", db)"
   ]
  },
  {
   "cell_type": "code",
   "execution_count": 40,
   "metadata": {},
   "outputs": [
    {
     "name": "stdout",
     "output_type": "stream",
     "text": [
      "Выберите для данной модели важные свойства для главного слова (укажите в строку через пробел)\n",
      "\n",
      "0 s_cl_imp\n",
      "1 animate_imp\n",
      "2 gender_imp\n",
      "3 number_imp\n",
      "4 case1_imp\n",
      "5 reflection_imp\n",
      "6 perfective_imp\n",
      "7 transitive_imp\n",
      "8 person_imp\n",
      "9 tense_imp\n",
      "10 voice_imp\n",
      "11 degree_imp\n",
      "12 static_imp\n",
      "0 8 9 10\n",
      "Выберите для данной модели важные свойства для зависимого слова (укажите в строку через пробел)\n",
      "\n",
      "0 s_cl_imp\n",
      "1 animate_imp\n",
      "2 gender_imp\n",
      "3 number_imp\n",
      "4 case1_imp\n",
      "5 reflection_imp\n",
      "6 perfective_imp\n",
      "7 transitive_imp\n",
      "8 person_imp\n",
      "9 tense_imp\n",
      "10 voice_imp\n",
      "11 degree_imp\n",
      "12 static_imp\n",
      "0 4\n",
      "\n",
      "вставлено\n",
      "\n"
     ]
    }
   ],
   "source": [
    "insertModel3(\"вернутся\", \"нам\", \"к\", db)"
   ]
  },
  {
   "cell_type": "code",
   "execution_count": null,
   "metadata": {},
   "outputs": [],
   "source": []
  },
  {
   "cell_type": "code",
   "execution_count": null,
   "metadata": {},
   "outputs": [],
   "source": []
  },
  {
   "cell_type": "code",
   "execution_count": null,
   "metadata": {},
   "outputs": [],
   "source": []
  },
  {
   "cell_type": "code",
   "execution_count": null,
   "metadata": {},
   "outputs": [],
   "source": []
  },
  {
   "cell_type": "code",
   "execution_count": 20,
   "metadata": {
    "scrolled": true
   },
   "outputs": [
    {
     "name": "stdout",
     "output_type": "stream",
     "text": [
      "Выберите для данной модели важные свойства для главного слова (укажите в строку через пробел)\n",
      "\n",
      "0 s_cl_imp\n",
      "1 animate_imp\n",
      "2 gender_imp\n",
      "3 number_imp\n",
      "4 case1_imp\n",
      "5 reflection_imp\n",
      "6 perfective_imp\n",
      "7 transitive_imp\n",
      "8 person_imp\n",
      "9 tense_imp\n",
      "10 voice_imp\n",
      "11 degree_imp\n",
      "12 static_imp\n",
      "0\n",
      "Выберите для данной модели важные свойства для зависимого слова (укажите в строку через пробел)\n",
      "\n",
      "0 s_cl_imp\n",
      "1 animate_imp\n",
      "2 gender_imp\n",
      "3 number_imp\n",
      "4 case1_imp\n",
      "5 reflection_imp\n",
      "6 perfective_imp\n",
      "7 transitive_imp\n",
      "8 person_imp\n",
      "9 tense_imp\n",
      "10 voice_imp\n",
      "11 degree_imp\n",
      "12 static_imp\n",
      "0 4\n",
      "\n",
      "вставлено\n",
      "\n"
     ]
    }
   ],
   "source": [
    "insertModel3(\"ёжиться\", \"ежом\", \"с\", db)"
   ]
  },
  {
   "cell_type": "code",
   "execution_count": 21,
   "metadata": {
    "scrolled": true
   },
   "outputs": [
    {
     "name": "stdout",
     "output_type": "stream",
     "text": [
      "Выберите для данной модели важные свойства для главного слова (укажите в строку через пробел)\n",
      "\n",
      "0 s_cl_imp\n",
      "1 animate_imp\n",
      "2 gender_imp\n",
      "3 number_imp\n",
      "4 case1_imp\n",
      "5 reflection_imp\n",
      "6 perfective_imp\n",
      "7 transitive_imp\n",
      "8 person_imp\n",
      "9 tense_imp\n",
      "10 voice_imp\n",
      "11 degree_imp\n",
      "12 static_imp\n",
      "0 7\n",
      "Выберите для данной модели важные свойства для зависимого слова (укажите в строку через пробел)\n",
      "\n",
      "0 s_cl_imp\n",
      "1 animate_imp\n",
      "2 gender_imp\n",
      "3 number_imp\n",
      "4 case1_imp\n",
      "5 reflection_imp\n",
      "6 perfective_imp\n",
      "7 transitive_imp\n",
      "8 person_imp\n",
      "9 tense_imp\n",
      "10 voice_imp\n",
      "11 degree_imp\n",
      "12 static_imp\n",
      "0 4\n",
      "\n",
      "вставлено\n",
      "\n"
     ]
    }
   ],
   "source": [
    "insertModel3(\"вознесла\", \"возницу\", \"None\", db)"
   ]
  },
  {
   "cell_type": "code",
   "execution_count": 22,
   "metadata": {},
   "outputs": [
    {
     "name": "stdout",
     "output_type": "stream",
     "text": [
      "Выберите варианты разбора зависимого слова  (указать номера в строку через пробел)\n",
      "\n",
      "0\n",
      "('adverb', 'animateAny', 'genderAny', 'numberAny', 'caseAny', 'reflectionAny', 'perfectiveAny', 'transitiveAny', 'personAny', 'tenseAny', 'voiceAny', 'degreeAny', True)\n",
      "---------------------------\n",
      "1\n",
      "('shortadjective', 'animateAny', 'neuter', 'single', 'caseAny', 'reflectionAny', 'perfectiveAny', 'transitiveAny', 'personAny', 'tenseAny', 'voiceAny', 'degreeAny', False)\n",
      "---------------------------\n",
      "0\n",
      "Выберите для данной модели важные свойства для главного слова (укажите в строку через пробел)\n",
      "\n",
      "0 s_cl_imp\n",
      "1 animate_imp\n",
      "2 gender_imp\n",
      "3 number_imp\n",
      "4 case1_imp\n",
      "5 reflection_imp\n",
      "6 perfective_imp\n",
      "7 transitive_imp\n",
      "8 person_imp\n",
      "9 tense_imp\n",
      "10 voice_imp\n",
      "11 degree_imp\n",
      "12 static_imp\n",
      "0\n",
      "Выберите для данной модели важные свойства для зависимого слова (укажите в строку через пробел)\n",
      "\n",
      "0 s_cl_imp\n",
      "1 animate_imp\n",
      "2 gender_imp\n",
      "3 number_imp\n",
      "4 case1_imp\n",
      "5 reflection_imp\n",
      "6 perfective_imp\n",
      "7 transitive_imp\n",
      "8 person_imp\n",
      "9 tense_imp\n",
      "10 voice_imp\n",
      "11 degree_imp\n",
      "12 static_imp\n",
      "0\n",
      "\n",
      "вставлено\n",
      "\n"
     ]
    }
   ],
   "source": [
    "insertModel3(\"ёжиться\", \"быстро\", \"None\", db)"
   ]
  },
  {
   "cell_type": "code",
   "execution_count": null,
   "metadata": {},
   "outputs": [],
   "source": []
  },
  {
   "cell_type": "code",
   "execution_count": null,
   "metadata": {},
   "outputs": [],
   "source": []
  },
  {
   "cell_type": "code",
   "execution_count": null,
   "metadata": {},
   "outputs": [],
   "source": []
  },
  {
   "cell_type": "code",
   "execution_count": 7,
   "metadata": {
    "scrolled": true
   },
   "outputs": [
    {
     "name": "stdout",
     "output_type": "stream",
     "text": [
      "слова видеть нет в базе(добавить insertWord)\n",
      "слова папу нет в базе(добавить insertWord)\n",
      "слова видеть нет в базе(добавить insertWord)\n",
      "слова папу нет в базе(добавить insertWord)\n",
      "слова видеть нет в базе(добавить insertWord)\n",
      "слова маму нет в базе(добавить insertWord)\n",
      "слова любить нет в базе(добавить insertWord)\n",
      "слова папу нет в базе(добавить insertWord)\n",
      "слова любить нет в базе(добавить insertWord)\n",
      "слова маму нет в базе(добавить insertWord)\n"
     ]
    }
   ],
   "source": [
    "insertModel3(\"видеть\", \"папу\", \"None\", db)\n",
    "insertModel3(\"видеть\", \"папу\", \"None\", db)\n",
    "insertModel3(\"видеть\", \"маму\", \"None\", db)\n",
    "insertModel3(\"любить\", \"папу\", \"None\", db)\n",
    "insertModel3(\"любить\", \"маму\", \"None\", db)"
   ]
  },
  {
   "cell_type": "code",
   "execution_count": 5,
   "metadata": {
    "scrolled": true
   },
   "outputs": [
    {
     "name": "stdout",
     "output_type": "stream",
     "text": [
      "Выберите варианты разбора главного слова  (указать номера в строку через пробел)\n",
      "\n",
      "0\n",
      "('noun', 'unanimate', 'neuter', 'single', 'genitive', 'reflectionAny', 'perfectiveAny', 'transitiveAny', 'personAny', 'tenseAny', 'voiceAny', 'degreeAny', False)\n",
      "---------------------------\n",
      "1\n",
      "('verb', 'animateAny', 'female', 'single', 'caseAny', 'unreflexive', 'unperfective', 'transitive', 'personAny', 'past', 'voiceAny', 'degreeAny', False)\n",
      "---------------------------\n",
      "2\n",
      "('noun', 'unanimate', 'neuter', 'plural', 'nominative', 'reflectionAny', 'perfectiveAny', 'transitiveAny', 'personAny', 'tenseAny', 'voiceAny', 'degreeAny', False)\n",
      "---------------------------\n",
      "3\n",
      "('noun', 'unanimate', 'neuter', 'plural', 'accusative', 'reflectionAny', 'perfectiveAny', 'transitiveAny', 'personAny', 'tenseAny', 'voiceAny', 'degreeAny', False)\n",
      "---------------------------\n",
      "1\n",
      "------afasf\n",
      "Выберите варианты разбора зависимого слова  (указать номера в строку через пробел)\n",
      "\n",
      "0\n",
      "('noun', 'unanimate', 'male', 'single', 'dative', 'reflectionAny', 'perfectiveAny', 'transitiveAny', 'personAny', 'tenseAny', 'voiceAny', 'degreeAny', False)\n",
      "---------------------------\n",
      "1\n",
      "('noun', 'unanimate', 'female', 'single', 'accusative', 'reflectionAny', 'perfectiveAny', 'transitiveAny', 'personAny', 'tenseAny', 'voiceAny', 'degreeAny', False)\n",
      "---------------------------\n",
      "1\n",
      "Выберите для данной модели важные свойства для главного слова (укажите в строку через пробел)\n",
      "\n",
      "0 s_cl_imp\n",
      "1 animate_imp\n",
      "2 gender_imp\n",
      "3 number_imp\n",
      "4 case1_imp\n",
      "5 reflection_imp\n",
      "6 perfective_imp\n",
      "7 transitive_imp\n",
      "8 person_imp\n",
      "9 tense_imp\n",
      "10 voice_imp\n",
      "11 degree_imp\n",
      "12 static_imp\n",
      "0 7\n",
      "Выберите для данной модели важные свойства для зависимого слова (укажите в строку через пробел)\n",
      "\n",
      "0 s_cl_imp\n",
      "1 animate_imp\n",
      "2 gender_imp\n",
      "3 number_imp\n",
      "4 case1_imp\n",
      "5 reflection_imp\n",
      "6 perfective_imp\n",
      "7 transitive_imp\n",
      "8 person_imp\n",
      "9 tense_imp\n",
      "10 voice_imp\n",
      "11 degree_imp\n",
      "12 static_imp\n",
      "0 4\n",
      "вставлено\n"
     ]
    }
   ],
   "source": [
    "insertModel3(\"мыла\", \"раму\", \"None\", db)"
   ]
  },
  {
   "cell_type": "code",
   "execution_count": 19,
   "metadata": {
    "scrolled": true
   },
   "outputs": [
    {
     "name": "stdout",
     "output_type": "stream",
     "text": [
      "Выберите варианты разбора зависимого слова  (указать номера в строку через пробел)\n",
      "\n",
      "0\n",
      "('noun', 'unanimate', 'male', 'single', 'dative', 'reflectionAny', 'perfectiveAny', 'transitiveAny', 'personAny', 'tenseAny', 'voiceAny', 'degreeAny', False)\n",
      "---------------------------\n",
      "1\n",
      "('noun', 'unanimate', 'female', 'single', 'accusative', 'reflectionAny', 'perfectiveAny', 'transitiveAny', 'personAny', 'tenseAny', 'voiceAny', 'degreeAny', False)\n",
      "---------------------------\n",
      "1\n"
     ]
    },
    {
     "data": {
      "text/plain": [
       "[18]"
      ]
     },
     "execution_count": 19,
     "metadata": {},
     "output_type": "execute_result"
    }
   ],
   "source": [
    "findWord(\"раму\", db, \"зависимого\")"
   ]
  },
  {
   "cell_type": "code",
   "execution_count": 8,
   "metadata": {},
   "outputs": [],
   "source": [
    "db.execute(\"INSERT INTO model_3_level VALUES(DEFAULT, 4, 6, 0.5)\")"
   ]
  },
  {
   "cell_type": "code",
   "execution_count": 9,
   "metadata": {},
   "outputs": [
    {
     "data": {
      "text/plain": [
       "[(1, 4, 3, 0.5), (2, 4, 6, 0.5)]"
      ]
     },
     "execution_count": 9,
     "metadata": {},
     "output_type": "execute_result"
    }
   ],
   "source": [
    "db.query(\"SELECT * FROM model_3_level\")"
   ]
  },
  {
   "cell_type": "code",
   "execution_count": 10,
   "metadata": {},
   "outputs": [],
   "source": [
    "db.execute(\"INSERT INTO model_3_level VALUES(DEFAULT, 4, 7, 0.3)\")"
   ]
  },
  {
   "cell_type": "code",
   "execution_count": 3,
   "metadata": {},
   "outputs": [
    {
     "data": {
      "text/plain": [
       "[(1, 5, 3, 4064, 3840, 122, 2.0),\n",
       " (2, 5, 4, 4064, 3840, 122, 1.0),\n",
       " (3, 6, 3, 4064, 3840, 122, 1.0),\n",
       " (4, 6, 4, 4064, 3840, 122, 1.0),\n",
       " (5, 12, 18, 4064, 3840, 122, 1.0)]"
      ]
     },
     "execution_count": 3,
     "metadata": {},
     "output_type": "execute_result"
    }
   ],
   "source": [
    "db.query(\"SELECT * FROM model_3_level\")"
   ]
  },
  {
   "cell_type": "code",
   "execution_count": 12,
   "metadata": {},
   "outputs": [],
   "source": [
    "db.execute(\"INSERT INTO model_3_level VALUES(DEFAULT, 4, 8, 0.3)\")"
   ]
  },
  {
   "cell_type": "code",
   "execution_count": 13,
   "metadata": {},
   "outputs": [
    {
     "data": {
      "text/plain": [
       "[(1, 4, 3, 0.5),\n",
       " (2, 4, 6, 0.5),\n",
       " (3, 4, 7, 0.30000001192092896),\n",
       " (4, 4, 8, 0.30000001192092896)]"
      ]
     },
     "execution_count": 13,
     "metadata": {},
     "output_type": "execute_result"
    }
   ],
   "source": [
    "db.query(\"SELECT * FROM model_3_level\")"
   ]
  },
  {
   "cell_type": "code",
   "execution_count": null,
   "metadata": {},
   "outputs": [],
   "source": []
  },
  {
   "cell_type": "code",
   "execution_count": 18,
   "metadata": {},
   "outputs": [],
   "source": [
    "db.execute(\"DROP TABLE model_3_level\")"
   ]
  },
  {
   "cell_type": "code",
   "execution_count": null,
   "metadata": {},
   "outputs": [],
   "source": []
  },
  {
   "cell_type": "code",
   "execution_count": null,
   "metadata": {},
   "outputs": [],
   "source": []
  }
 ],
 "metadata": {
  "kernelspec": {
   "display_name": "Python 3",
   "language": "python",
   "name": "python3"
  },
  "language_info": {
   "codemirror_mode": {
    "name": "ipython",
    "version": 3
   },
   "file_extension": ".py",
   "mimetype": "text/x-python",
   "name": "python",
   "nbconvert_exporter": "python",
   "pygments_lexer": "ipython3",
   "version": "3.5.2"
  }
 },
 "nbformat": 4,
 "nbformat_minor": 1
}
