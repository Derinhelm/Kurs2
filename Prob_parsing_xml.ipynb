{
 "cells": [
  {
   "cell_type": "code",
   "execution_count": 1,
   "metadata": {},
   "outputs": [],
   "source": [
    "import xml.dom.minidom"
   ]
  },
  {
   "cell_type": "code",
   "execution_count": 103,
   "metadata": {},
   "outputs": [],
   "source": [
    "doc = xml.dom.minidom.parse(\"Tselina.tgt\");"
   ]
  },
  {
   "cell_type": "code",
   "execution_count": 40,
   "metadata": {},
   "outputs": [
    {
     "data": {
      "text/plain": [
       "<xml.dom.minidom.Document at 0x7f5651dc8e28>"
      ]
     },
     "execution_count": 40,
     "metadata": {},
     "output_type": "execute_result"
    }
   ],
   "source": [
    "doc"
   ]
  },
  {
   "cell_type": "code",
   "execution_count": 43,
   "metadata": {},
   "outputs": [
    {
     "data": {
      "text/plain": [
       "'#document'"
      ]
     },
     "execution_count": 43,
     "metadata": {},
     "output_type": "execute_result"
    }
   ],
   "source": [
    "doc.nodeName"
   ]
  },
  {
   "cell_type": "code",
   "execution_count": 44,
   "metadata": {},
   "outputs": [
    {
     "data": {
      "text/plain": [
       "'text'"
      ]
     },
     "execution_count": 44,
     "metadata": {},
     "output_type": "execute_result"
    }
   ],
   "source": [
    "doc.firstChild.tagName"
   ]
  },
  {
   "cell_type": "code",
   "execution_count": 45,
   "metadata": {},
   "outputs": [],
   "source": [
    "s = doc.getElementsByTagName(\"S\")"
   ]
  },
  {
   "cell_type": "code",
   "execution_count": 46,
   "metadata": {},
   "outputs": [
    {
     "data": {
      "text/plain": [
       "xml.dom.minicompat.NodeList"
      ]
     },
     "execution_count": 46,
     "metadata": {},
     "output_type": "execute_result"
    }
   ],
   "source": [
    "type(s)"
   ]
  },
  {
   "cell_type": "code",
   "execution_count": 47,
   "metadata": {},
   "outputs": [
    {
     "data": {
      "text/plain": [
       "<DOM Text node \"'\\n'\">"
      ]
     },
     "execution_count": 47,
     "metadata": {},
     "output_type": "execute_result"
    }
   ],
   "source": [
    "s[0].firstChild"
   ]
  },
  {
   "cell_type": "code",
   "execution_count": null,
   "metadata": {},
   "outputs": [],
   "source": []
  },
  {
   "cell_type": "code",
   "execution_count": null,
   "metadata": {},
   "outputs": [],
   "source": []
  },
  {
   "cell_type": "code",
   "execution_count": null,
   "metadata": {},
   "outputs": [],
   "source": []
  },
  {
   "cell_type": "code",
   "execution_count": 14,
   "metadata": {},
   "outputs": [],
   "source": [
    "# получаем список тегов XML из документа и выводим каждый\n",
    "w = doc.getElementsByTagName(\"W\")"
   ]
  },
  {
   "cell_type": "code",
   "execution_count": 24,
   "metadata": {},
   "outputs": [
    {
     "data": {
      "text/plain": [
       "xml.dom.minicompat.NodeList"
      ]
     },
     "execution_count": 24,
     "metadata": {},
     "output_type": "execute_result"
    }
   ],
   "source": [
    "type(w)"
   ]
  },
  {
   "cell_type": "code",
   "execution_count": 16,
   "metadata": {},
   "outputs": [
    {
     "data": {
      "text/plain": [
       "'1'"
      ]
     },
     "execution_count": 16,
     "metadata": {},
     "output_type": "execute_result"
    }
   ],
   "source": [
    "w[0].getAttribute(\"ID\")"
   ]
  },
  {
   "cell_type": "code",
   "execution_count": 17,
   "metadata": {},
   "outputs": [
    {
     "data": {
      "text/plain": [
       "'W'"
      ]
     },
     "execution_count": 17,
     "metadata": {},
     "output_type": "execute_result"
    }
   ],
   "source": [
    "w[0].nodeName"
   ]
  },
  {
   "cell_type": "code",
   "execution_count": 71,
   "metadata": {},
   "outputs": [
    {
     "data": {
      "text/plain": [
       "'Недавно'"
      ]
     },
     "execution_count": 71,
     "metadata": {},
     "output_type": "execute_result"
    }
   ],
   "source": [
    "w[0].firstChild.nodeValue"
   ]
  },
  {
   "cell_type": "code",
   "execution_count": null,
   "metadata": {},
   "outputs": [],
   "source": [
    "<W DOM=\"2\" FEAT=\"A ЕД ЖЕН ВИН\" ID=\"1\" LEMMA=\"ЭТОТ\" LINK=\"опред\">Эту</W> "
   ]
  },
  {
   "cell_type": "code",
   "execution_count": 77,
   "metadata": {},
   "outputs": [],
   "source": [
    "class Node:\n",
    "    def __init__(self, id1, dom1, feat1, text1):\n",
    "        self.id = id1\n",
    "        self.dom = dom1\n",
    "        self.feat = feat1\n",
    "        self.text = text1"
   ]
  },
  {
   "cell_type": "code",
   "execution_count": 104,
   "metadata": {},
   "outputs": [],
   "source": [
    "# а зачем храним id(на всякий случай), вообще-то можно и не хранить, id = index + 1\n",
    "arrayParseSentences = []\n",
    "parent = doc.getElementsByTagName('S')\n",
    "for item in parent:\n",
    "    newSentence = []\n",
    "    for child in item.getElementsByTagName('W'):\n",
    "        newNode = Node(child.getAttribute('ID'), child.getAttribute('DOM'), child.getAttribute('FEAT'), child.getAttribute('LEMMA'))\n",
    "        newSentence.append(newNode)\n",
    "    arrayParseSentences.append(newSentence)"
   ]
  },
  {
   "cell_type": "code",
   "execution_count": 107,
   "metadata": {},
   "outputs": [
    {
     "name": "stdout",
     "output_type": "stream",
     "text": [
      "{'feat': 'ADV', 'id': '1', 'dom': '2', 'text': 'НЕДАВНО'}\n",
      "{'feat': 'V НЕСОВ ИЗЪЯВ ПРОШ ЕД МУЖ', 'id': '2', 'dom': '_root', 'text': 'ПЕРЕБИРАТЬ'}\n",
      "{'feat': 'PR', 'id': '3', 'dom': '2', 'text': 'ПО'}\n",
      "{'feat': 'A ЕД МУЖ ДАТ', 'id': '4', 'dom': '5', 'text': 'КАКОЙ-ТО'}\n",
      "{'feat': 'S ЕД МУЖ ДАТ НЕОД', 'id': '5', 'dom': '3', 'text': 'ПОВОД'}\n",
      "{'feat': 'A МН ВИН НЕОД', 'id': '6', 'dom': '7', 'text': 'СВОЙ'}\n",
      "{'feat': 'S МН МУЖ ВИН НЕОД', 'id': '7', 'dom': '2', 'text': 'АРХИВ'}\n",
      "{'feat': 'CONJ', 'id': '8', 'dom': '2', 'text': 'И'}\n",
      "{'feat': 'V СОВ ИЗЪЯВ ПРОШ ЕД МУЖ', 'id': '9', 'dom': '8', 'text': 'НАТЫКАТЬСЯ'}\n",
      "{'feat': 'PR', 'id': '10', 'dom': '9', 'text': 'НА'}\n",
      "{'feat': 'S ЕД ЖЕН ВИН НЕОД', 'id': '11', 'dom': '10', 'text': 'МЕДАЛЬ'}\n",
      "{'feat': 'PR', 'id': '12', 'dom': '11', 'text': 'ЗА'}\n",
      "{'feat': 'S ЕД СРЕД ВИН НЕОД', 'id': '13', 'dom': '12', 'text': 'ОСВОЕНИЕ'}\n",
      "{'feat': 'A МН РОД', 'id': '14', 'dom': '15', 'text': 'ЦЕЛИННЫЙ'}\n",
      "{'feat': 'S МН ЖЕН РОД НЕОД', 'id': '15', 'dom': '13', 'text': 'ЗЕМЛЯ'}\n"
     ]
    }
   ],
   "source": [
    "curSentence = arrayParseSentences[0]\n",
    "for curNode in curSentence:\n",
    "    print(curNode.__dict__)"
   ]
  },
  {
   "cell_type": "code",
   "execution_count": 109,
   "metadata": {},
   "outputs": [
    {
     "name": "stdout",
     "output_type": "stream",
     "text": [
      "МЕДАЛЬ ЭТОТ\n",
      "ВРУЧАТЬ МЕДАЛЬ\n",
      "ВРУЧАТЬ Я\n",
      "ВРУЧАТЬ ПОСЛЕ ПОЕЗДКА\n",
      "ПОЕЗДКА НА АЛТАЙ\n",
      "ПОЕЗДКА ДЛЯ УЧАСТИЕ\n",
      "УЧАСТИЕ В УБОРКА\n",
      "УБОРКА ХЛЕБ\n",
      "ЗЕМЛЯ ЦЕЛИННЫЙ\n",
      "УБОРКА НА ЗЕМЛЯ\n",
      "ГОД ДАЛЕКИЙ\n",
      "ГОД 1955\n",
      "1955 1957\n",
      "ПОЕЗДКА В ГОД\n"
     ]
    }
   ],
   "source": [
    "curSentence = arrayParseSentences[1]\n",
    "for curWord in curSentence:\n",
    "    if curWord.dom != '_root':\n",
    "        mainWord = curSentence[int(curWord.dom) - 1]\n",
    "        if curWord.feat != 'PR' and mainWord.feat != 'PR':\n",
    "            print(mainWord.text, curWord.text)\n",
    "        elif mainWord.feat == 'PR':\n",
    "            mainMainInd = curSentence[int(mainWord.id) - 1].dom\n",
    "            mainMainWord = curSentence[int(mainMainInd) - 1]\n",
    "            print(mainMainWord.text, mainWord.text, curWord.text)"
   ]
  },
  {
   "cell_type": "code",
   "execution_count": 85,
   "metadata": {
    "scrolled": true
   },
   "outputs": [
    {
     "name": "stdout",
     "output_type": "stream",
     "text": [
      "1 main\n",
      "2 \" ADV \" НЕДАВНО\n",
      "_root \" V НЕСОВ ИЗЪЯВ ПРОШ ЕД МУЖ \" ПЕРЕБИРАТЬ\n",
      "2 \" PR \" ПО\n",
      "5 \" A ЕД МУЖ ДАТ \" КАКОЙ-ТО\n",
      "3 \" S ЕД МУЖ ДАТ НЕОД \" ПОВОД\n",
      "7 \" A МН ВИН НЕОД \" СВОЙ\n",
      "2 \" S МН МУЖ ВИН НЕОД \" АРХИВ\n",
      "2 \" CONJ \" И\n",
      "8 \" V СОВ ИЗЪЯВ ПРОШ ЕД МУЖ \" НАТЫКАТЬСЯ\n",
      "9 \" PR \" НА\n",
      "10 \" S ЕД ЖЕН ВИН НЕОД \" МЕДАЛЬ\n",
      "11 \" PR \" ЗА\n",
      "12 \" S ЕД СРЕД ВИН НЕОД \" ОСВОЕНИЕ\n",
      "15 \" A МН РОД \" ЦЕЛИННЫЙ\n",
      "13 \" S МН ЖЕН РОД НЕОД \" ЗЕМЛЯ\n",
      "---------------\n",
      "2 main\n",
      "2 \" A ЕД ЖЕН ВИН \" ЭТОТ\n",
      "4 \" S ЕД ЖЕН ВИН НЕОД \" МЕДАЛЬ\n",
      "4 \" S ЕД МУЖ ДАТ ОД \" Я\n",
      "_root \" V СОВ ИЗЪЯВ ПРОШ МН \" ВРУЧАТЬ\n",
      "4 \" PR \" ПОСЛЕ\n",
      "5 \" S МН ЖЕН РОД НЕОД \" ПОЕЗДКА\n",
      "6 \" PR \" НА\n",
      "7 \" S ЕД МУЖ ВИН НЕОД \" АЛТАЙ\n",
      "6 \" PR \" ДЛЯ\n",
      "9 \" S ЕД СРЕД РОД НЕОД \" УЧАСТИЕ\n",
      "10 \" PR \" В\n",
      "11 \" S ЕД ЖЕН ПР НЕОД \" УБОРКА\n",
      "12 \" S ЕД МУЖ РОД НЕОД \" ХЛЕБ\n",
      "12 \" PR \" НА\n",
      "16 \" A МН ПР \" ЦЕЛИННЫЙ\n",
      "14 \" S МН ЖЕН ПР НЕОД \" ЗЕМЛЯ\n",
      "6 \" PR \" В\n",
      "21 \" A МН ПР \" ДАЛЕКИЙ\n",
      "21 \" NUM \" 1955\n",
      "19 \" NUM \" 1957\n",
      "17 \" S МН МУЖ ПР НЕОД \" ГОД\n",
      "---------------\n"
     ]
    }
   ],
   "source": [
    "parent = doc.getElementsByTagName('S')\n",
    "for item in parent:\n",
    "    print(item.getAttribute('ID'), \"main\", sep = \" \")\n",
    "    for child in item.getElementsByTagName('W'):\n",
    "        print(child.getAttribute('DOM'), \"\\\"\",child.getAttribute('FEAT'), \"\\\"\", child.getAttribute('LEMMA'))\n",
    "    print(\"---------------\")"
   ]
  },
  {
   "cell_type": "code",
   "execution_count": null,
   "metadata": {},
   "outputs": [],
   "source": []
  },
  {
   "cell_type": "code",
   "execution_count": null,
   "metadata": {},
   "outputs": [],
   "source": []
  },
  {
   "cell_type": "code",
   "execution_count": null,
   "metadata": {},
   "outputs": [],
   "source": []
  }
 ],
 "metadata": {
  "kernelspec": {
   "display_name": "Python 3",
   "language": "python",
   "name": "python3"
  },
  "language_info": {
   "codemirror_mode": {
    "name": "ipython",
    "version": 3
   },
   "file_extension": ".py",
   "mimetype": "text/x-python",
   "name": "python",
   "nbconvert_exporter": "python",
   "pygments_lexer": "ipython3",
   "version": "3.6.8"
  }
 },
 "nbformat": 4,
 "nbformat_minor": 1
}
